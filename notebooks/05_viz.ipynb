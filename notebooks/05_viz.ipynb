{
 "cells": [
  {
   "cell_type": "markdown",
   "id": "7RJcJB2PttDB",
   "metadata": {
    "id": "7RJcJB2PttDB"
   },
   "source": [
    "<img src=\"https://github.com/Multiomics-Analytics-Group/networks_to_study_microbes/blob/main/figures/cfb.png?raw=1\" width=\"300\">\n",
    "\n",
    "\n",
    "[![Open In Colab](https://colab.research.google.com/assets/colab-badge.svg)](https://colab.research.google.com/github/Multiomics-Analytics-Group/networks_to_study_microbes/blob/main/notebooks/05_viz.ipynb)\n",
    "\n",
    "# Networks to Study Microbes"
   ]
  },
  {
   "cell_type": "markdown",
   "id": "0trqMAy7ttDF",
   "metadata": {
    "id": "0trqMAy7ttDF"
   },
   "source": [
    "# Plotly\n",
    "\n",
    "## Python Open Source Graphing Library\n",
    "\n",
    "Plotly es una libreria de Python para crear graficos interactivos de alta calidad. Aqui mostraremos ejemplos de como crear diferentes graficas que permiten explorar datos a partir de dataframes en Pandas.\n",
    "\n",
    "![gallery](https://miro.medium.com/max/1458/1*qKpV3vkPZYoffsvFSEuw8A.png)\n",
    "\n",
    "\n",
    "Una de las ventajas de Plotly frente a otras librerias para graficar en Python es la sencillez con la que se pueden crear y manipular graficas y presenta interactividad out-of-the-box!. Plotly tiene un interfaz llamado [Plotly express](https://plotly.com/python/plotly-express/) que simplifica aun mas la creacion de plots."
   ]
  },
  {
   "cell_type": "markdown",
   "id": "54_5Ge8ottDF",
   "metadata": {
    "id": "54_5Ge8ottDF"
   },
   "source": [
    "# Getting Started\n",
    "\n",
    "## Importa las librerias\n",
    "\n",
    "**Pandas** y **Plotly express**"
   ]
  },
  {
   "cell_type": "code",
   "execution_count": null,
   "id": "o2PRR09NttDG",
   "metadata": {
    "id": "o2PRR09NttDG",
    "tags": []
   },
   "outputs": [],
   "source": [
    "import pandas as pd\n",
    "import plotly.express as px"
   ]
  },
  {
   "cell_type": "markdown",
   "id": "8trm6kFTttDH",
   "metadata": {
    "id": "8trm6kFTttDH"
   },
   "source": [
    "# Introduccion\n",
    "\n",
    "Comencemos cargando los datos de Wu et al 2020 - *Transcriptional and proteomic insights into the host response in fatal COVID-19 cases* https://www.pnas.org/doi/10.1073/pnas.2018030117#supplementary-materials"
   ]
  },
  {
   "cell_type": "code",
   "execution_count": null,
   "id": "4cd6647d-cc27-4dec-9ef3-3759e1705e38",
   "metadata": {
    "tags": []
   },
   "outputs": [],
   "source": [
    "import pandas as pd\n",
    "\n",
    "df = pd.read_excel('https://raw.githubusercontent.com/Multiomics-Analytics-Group/networks_to_study_microbes/main/example_data/DEG/Wu2020.PNAS.xlsx')\n",
    "df.head()"
   ]
  },
  {
   "cell_type": "code",
   "execution_count": null,
   "id": "7b0f70f0-4368-4e52-b5c6-d97ce3720040",
   "metadata": {
    "tags": []
   },
   "outputs": [],
   "source": [
    "df.tail()"
   ]
  },
  {
   "cell_type": "markdown",
   "id": "0e15c036-ba29-453d-b383-b70182ef8f17",
   "metadata": {
    "colab": {
     "base_uri": "https://localhost:8080/"
    },
    "id": "cFmbCkKTttDI",
    "outputId": "e97b7406-948a-4e73-d2fa-8d476836a586"
   },
   "source": [
    "Podemos pasar los valores que queremos graficar en dos listas."
   ]
  },
  {
   "cell_type": "code",
   "execution_count": null,
   "id": "ndTz_x9FttDJ",
   "metadata": {
    "colab": {
     "base_uri": "https://localhost:8080/",
     "height": 542
    },
    "id": "ndTz_x9FttDJ",
    "outputId": "0d5e9d77-b560-4a51-853d-3295441d81af",
    "tags": []
   },
   "outputs": [],
   "source": [
    "px.line(x = df['Symbol'], y = df['log2FoldChange'])"
   ]
  },
  {
   "cell_type": "markdown",
   "id": "GXzmrOhOttDK",
   "metadata": {
    "id": "GXzmrOhOttDK"
   },
   "source": [
    "Podemos usar directamente el DataFrame de Pandas."
   ]
  },
  {
   "cell_type": "code",
   "execution_count": null,
   "id": "TxR6fwkXttDL",
   "metadata": {
    "colab": {
     "base_uri": "https://localhost:8080/",
     "height": 542
    },
    "id": "TxR6fwkXttDL",
    "outputId": "79b9ab4a-9a31-472d-e8b0-d2abad1f9f41",
    "tags": []
   },
   "outputs": [],
   "source": [
    "px.line(data_frame = df, x = \"Symbol\" , y = \"log2FoldChange\")"
   ]
  },
  {
   "cell_type": "markdown",
   "id": "v4zc_w50ttDN",
   "metadata": {
    "id": "v4zc_w50ttDN"
   },
   "source": [
    "## Guardalo en un variable\n",
    "\n",
    "Si quieres reutilizar el plot para mostrarlo varias veces o para modificarlo posteriormente, puedes guardarlo en una variable igual que cualquier otro valor o estructura. Para mostrar el plot, simplemente usa`.show()`"
   ]
  },
  {
   "cell_type": "code",
   "execution_count": null,
   "id": "qqLr5Bx6ttDO",
   "metadata": {
    "id": "qqLr5Bx6ttDO",
    "tags": []
   },
   "outputs": [],
   "source": [
    "fig = px.line(data_frame = df, x = \"Symbol\" , y = \"log2FoldChange\")"
   ]
  },
  {
   "cell_type": "code",
   "execution_count": null,
   "id": "YgfSnm5VttDO",
   "metadata": {
    "colab": {
     "base_uri": "https://localhost:8080/",
     "height": 542
    },
    "id": "YgfSnm5VttDO",
    "outputId": "8e1c1401-fe11-47c2-ffdf-48bee9da95a0",
    "tags": []
   },
   "outputs": [],
   "source": [
    "fig.show()"
   ]
  },
  {
   "cell_type": "markdown",
   "id": "9d319199-5da4-4f65-88b4-38274adf7cf6",
   "metadata": {
    "tags": []
   },
   "source": [
    "## Color\n",
    "\n",
    "Puedes usar otras columnas en el dataframe para dar color a tu plot."
   ]
  },
  {
   "cell_type": "code",
   "execution_count": null,
   "id": "0293085f-6f6e-4faf-b4cf-824b539d60ef",
   "metadata": {
    "tags": []
   },
   "outputs": [],
   "source": [
    "fig = px.line(data_frame = df, x = \"Symbol\" , y = \"log2FoldChange\", color=\"Category\")"
   ]
  },
  {
   "cell_type": "code",
   "execution_count": null,
   "id": "5a60603c-cbc2-4e7c-9a7b-68d9b4cba2a2",
   "metadata": {
    "tags": []
   },
   "outputs": [],
   "source": [
    "fig.show()"
   ]
  },
  {
   "cell_type": "markdown",
   "id": "VNB-Wf1rttDO",
   "metadata": {
    "id": "VNB-Wf1rttDO"
   },
   "source": [
    "## Structura de una figura Plotly\n",
    "\n",
    "En Plotly, las figuras son en verdad un diccionario que puedes visualizar cuando usas `.data` en la variable donde has guardado el plot y `.layout` para ver el layout de la figura."
   ]
  },
  {
   "cell_type": "code",
   "execution_count": null,
   "id": "lFqe5697ttDO",
   "metadata": {
    "id": "lFqe5697ttDO",
    "outputId": "b4114350-5870-49db-db35-7a4d84c8dd27",
    "tags": []
   },
   "outputs": [],
   "source": [
    "#fig.data"
   ]
  },
  {
   "cell_type": "code",
   "execution_count": null,
   "id": "aa50a9bf-25dd-4736-b59d-a366369a353c",
   "metadata": {
    "tags": []
   },
   "outputs": [],
   "source": [
    "fig.layout"
   ]
  },
  {
   "cell_type": "markdown",
   "id": "IA98vxq1ttDO",
   "metadata": {
    "id": "IA98vxq1ttDO"
   },
   "source": [
    "Como puedes observar hay varios parametros en los diccionarios de datos y layout que se puden modificar. Generalmente, para modificar la estetica de una figura, debemos modificar el diccionario de layout. Lo podemos hacer usando ``.update_layout``. Por ejemplo, para añadir un titulo o cambiar el nombre de un eje."
   ]
  },
  {
   "cell_type": "code",
   "execution_count": null,
   "id": "o-QjeU0OttDP",
   "metadata": {
    "colab": {
     "base_uri": "https://localhost:8080/",
     "height": 542
    },
    "id": "o-QjeU0OttDP",
    "outputId": "fb567942-6bf3-46eb-b245-2da9dcd7c6c2",
    "tags": []
   },
   "outputs": [],
   "source": [
    "fig.update_layout(template=\"plotly_dark\", title = \"Genes Log Fold Change\", yaxis_title='logFC')"
   ]
  },
  {
   "cell_type": "markdown",
   "id": "3i4ZVU0kttDR",
   "metadata": {
    "id": "3i4ZVU0kttDR"
   },
   "source": [
    "## Text argument\n",
    "\n",
    "We can add the value of a variable at the coordinates given by the x and y argument by using the `text` argument,"
   ]
  },
  {
   "cell_type": "code",
   "execution_count": null,
   "id": "_oiedKBkttDR",
   "metadata": {
    "colab": {
     "base_uri": "https://localhost:8080/",
     "height": 542
    },
    "id": "_oiedKBkttDR",
    "outputId": "e58244e4-3e67-4e5b-b169-3cecec6ce9e2",
    "tags": []
   },
   "outputs": [],
   "source": [
    "fig = px.line(df,\n",
    "              x=\"Symbol\",\n",
    "              y=\"log2FoldChange\",\n",
    "              text=\"Symbol\", #The text argument allows us to plot the actual number on the datapoint\n",
    "              title=\"Log Fold Change\")\n",
    "fig.show()"
   ]
  },
  {
   "cell_type": "code",
   "execution_count": null,
   "id": "e3390e1b-bac8-456d-b2f3-51cc51d24ac0",
   "metadata": {
    "tags": []
   },
   "outputs": [],
   "source": [
    "fig = px.line(df,\n",
    "              x=\"Symbol\",\n",
    "              y=\"log2FoldChange\",\n",
    "              color='Chromosome',\n",
    "              title=\"Log Fold Change\")\n",
    "fig.show()"
   ]
  },
  {
   "cell_type": "markdown",
   "id": "M_Ax3CO7ttDS",
   "metadata": {
    "id": "M_Ax3CO7ttDS"
   },
   "source": [
    "# Ejercicios\n",
    "\n",
    "1) Crea un line chart donde se muestra el valor p ajustado por gen, coloreando por cromosoma"
   ]
  },
  {
   "cell_type": "code",
   "execution_count": null,
   "id": "zvCtfSxTttDS",
   "metadata": {
    "id": "zvCtfSxTttDS",
    "tags": []
   },
   "outputs": [],
   "source": []
  },
  {
   "cell_type": "markdown",
   "id": "8SMeF0UJttDT",
   "metadata": {
    "id": "8SMeF0UJttDT"
   },
   "source": [
    "2) Haz el mismo plot pero solo para aquellos genes que pertenecen a la categoria 'Antigen_Processing_and_Presentation' y que tienen un valor p ajustado menor de 0.05 y sin usar color"
   ]
  },
  {
   "cell_type": "code",
   "execution_count": null,
   "id": "oJrunaRPttDT",
   "metadata": {
    "id": "oJrunaRPttDT",
    "tags": []
   },
   "outputs": [],
   "source": []
  },
  {
   "cell_type": "markdown",
   "id": "uzqxpb5HttDT",
   "metadata": {
    "id": "uzqxpb5HttDT"
   },
   "source": [
    "3) Cambia el layout para que tenga el template de Plotly dark (arriba para tener una pista)"
   ]
  },
  {
   "cell_type": "code",
   "execution_count": null,
   "id": "eWUhNWZCttDT",
   "metadata": {
    "id": "eWUhNWZCttDT"
   },
   "outputs": [],
   "source": []
  },
  {
   "cell_type": "markdown",
   "id": "1JZa7LBEttDT",
   "metadata": {
    "id": "1JZa7LBEttDT"
   },
   "source": [
    "# Scatter plots\n",
    "\n",
    "Los scatter plot son plots que usan las coordenadas x e y para mostrar la relacion de dos variables.\n",
    "\n",
    "En Plotly se usa la funcion `px.scatter()` para graficar scatter plots y tiene parametros parecidos a los del line plot."
   ]
  },
  {
   "cell_type": "code",
   "execution_count": null,
   "id": "39612704-bfda-4a8c-b1c3-125bfbc9b765",
   "metadata": {
    "tags": []
   },
   "outputs": [],
   "source": [
    "fig = px.scatter(df,\n",
    "                 x=\"Padj\",\n",
    "                 y=\"Pvalue\",\n",
    "                 color=\"log2FoldChange\")\n",
    "fig.show()"
   ]
  },
  {
   "cell_type": "markdown",
   "id": "p8mONPDlttDT",
   "metadata": {
    "id": "p8mONPDlttDT"
   },
   "source": [
    "## El parametro symbol\n",
    "\n",
    "Si quisieramos usar diferentes simbolos en el scatter para distinguir por ejemplo entre dos categorias, podemos pasar el argumento `symbol` a la funcion y dandole el valor de la columna Category.\n",
    "\n",
    "Para simplificar, primero filtraremos para tener dos categorias unicamente."
   ]
  },
  {
   "cell_type": "code",
   "execution_count": null,
   "id": "TwpQFkJTttDU",
   "metadata": {
    "colab": {
     "base_uri": "https://localhost:8080/",
     "height": 542
    },
    "id": "TwpQFkJTttDU",
    "outputId": "498f5daa-9b0f-4fc5-ef52-2af76e5b1d36",
    "tags": []
   },
   "outputs": [],
   "source": [
    "df2cat = df[df['Category'].isin(['TCRsignalingPathway', 'Antigen_Processing_and_Presentation'])]\n",
    "fig = px.scatter(df2cat,\n",
    "                 x=\"Padj\",\n",
    "                 y=\"Pvalue\", \n",
    "                symbol=\"Category\")\n",
    "fig.show()"
   ]
  },
  {
   "cell_type": "markdown",
   "id": "_70WHUVHttDU",
   "metadata": {
    "id": "_70WHUVHttDU"
   },
   "source": [
    "## Tamaño de los dots\n",
    "\n",
    "El tamaño de los puntos en el scatter plot se puede modificar usando el argumento `size`."
   ]
  },
  {
   "cell_type": "code",
   "execution_count": null,
   "id": "IpO5xGgfttDU",
   "metadata": {
    "colab": {
     "base_uri": "https://localhost:8080/",
     "height": 542
    },
    "id": "IpO5xGgfttDU",
    "outputId": "3777b8a6-5d4b-409c-f5d4-aea5048f1baa",
    "tags": []
   },
   "outputs": [],
   "source": [
    "fig = px.scatter(df,\n",
    "                 x=\"Symbol\",\n",
    "                 y=\"log2FoldChange\",\n",
    "                 size=\"Pvalue\",\n",
    "                color=\"Category\")\n",
    "fig.show()"
   ]
  },
  {
   "cell_type": "markdown",
   "id": "yr8LsjjkttDU",
   "metadata": {
    "id": "yr8LsjjkttDU"
   },
   "source": [
    "## Trend line\n",
    "\n",
    "Podemos añadir una linea de tendencia usando el argumento `trendline` al que le pasamos el valor del modelo a usar, por defecto Ordinary Least Squares trendline (linear regression) con el valor `ols`. "
   ]
  },
  {
   "cell_type": "code",
   "execution_count": null,
   "id": "vXpxv5hlttDU",
   "metadata": {
    "colab": {
     "base_uri": "https://localhost:8080/",
     "height": 542
    },
    "id": "vXpxv5hlttDU",
    "outputId": "b202b112-3c5c-43ce-8c1a-1a682f5835c2",
    "tags": []
   },
   "outputs": [],
   "source": [
    "fig = px.scatter(df,\n",
    "                 x=\"Padj\",\n",
    "                 y=\"Pvalue\",\n",
    "                 trendline='ols',\n",
    "                 color=\"log2FoldChange\")\n",
    "fig.show()"
   ]
  },
  {
   "cell_type": "markdown",
   "id": "6UU5RT3pttDV",
   "metadata": {
    "id": "6UU5RT3pttDV"
   },
   "source": [
    "## Ejercicio\n",
    "\n",
    "1) Busca la opcion para eliminar la leyenda de esta figura"
   ]
  },
  {
   "cell_type": "code",
   "execution_count": null,
   "id": "yyMHwKNuttDV",
   "metadata": {
    "id": "yyMHwKNuttDV",
    "tags": []
   },
   "outputs": [],
   "source": [
    "fig = px.scatter(df,\n",
    "                 x=\"Symbol\",\n",
    "                 y=\"log2FoldChange\",\n",
    "                 size=\"Pvalue\",\n",
    "                color=\"Category\")\n",
    "fig.show()"
   ]
  },
  {
   "cell_type": "markdown",
   "id": "fdNT2n5UttDV",
   "metadata": {
    "id": "fdNT2n5UttDV"
   },
   "source": [
    "2) Modifica el plot anterior para incluir simbolos que distingan entre cromosomas. Si la visualizacion es complicada intenta filtrar los datos para mostrar los de solo 2-3 cromosomas."
   ]
  },
  {
   "cell_type": "code",
   "execution_count": null,
   "id": "Y0VFaWzittDV",
   "metadata": {
    "id": "Y0VFaWzittDV"
   },
   "outputs": [],
   "source": []
  },
  {
   "cell_type": "markdown",
   "id": "09YyPOW9ttDV",
   "metadata": {
    "id": "09YyPOW9ttDV"
   },
   "source": [
    "# Bar Charts\n",
    "\n",
    "La funcion `px.bar()` nos permite graficar bar charts que se pueden utilizar para mostrar datos cuantitativos en datos cualitativos."
   ]
  },
  {
   "cell_type": "markdown",
   "id": "f9b27748-045f-4930-bf47-07d069a4bbad",
   "metadata": {},
   "source": [
    "En este caso cargaremos datos que proporciona Plotly para practicar. Los datos provienen del dataset Gapminder que contine informacion sobre habitantes, expectativa de vida y producto interior brutoen diferentes paises desde 1952 a 2007.\n",
    "\n",
    "Para cargar estos datos se puede utilizar la siguiente funcion:"
   ]
  },
  {
   "cell_type": "code",
   "execution_count": null,
   "id": "ee592bd4-3a8d-44da-8e8f-8c1d7f3fc7ea",
   "metadata": {
    "tags": []
   },
   "outputs": [],
   "source": [
    "px.data.gapminder()"
   ]
  },
  {
   "cell_type": "markdown",
   "id": "a1e07532-6098-44fc-89cf-68cd34726830",
   "metadata": {},
   "source": [
    "En este caso utilizaremos los datos de las Americas."
   ]
  },
  {
   "cell_type": "code",
   "execution_count": null,
   "id": "zl19hVUYttDV",
   "metadata": {
    "colab": {
     "base_uri": "https://localhost:8080/",
     "height": 542
    },
    "id": "zl19hVUYttDV",
    "outputId": "4c0785f9-9a4f-490a-e958-60784e3e397d",
    "tags": []
   },
   "outputs": [],
   "source": [
    "df = px.data.gapminder().query(\"continent == 'Americas'\")\n",
    "fig = px.bar(df, x='year', y='pop', color='country')\n",
    "fig.show()"
   ]
  },
  {
   "cell_type": "code",
   "execution_count": null,
   "id": "8750aff6-087d-4b70-9bc9-485662f45866",
   "metadata": {
    "tags": []
   },
   "outputs": [],
   "source": [
    "df = px.data.gapminder().query(\"continent == 'Americas'\")\n",
    "fig = px.bar(df, x='year', y='pop', color='country', barmode='group')\n",
    "fig.show()"
   ]
  },
  {
   "cell_type": "markdown",
   "id": "sZYer7OtttDW",
   "metadata": {
    "id": "sZYer7OtttDW"
   },
   "source": [
    "## Orientacion\n",
    "\n",
    "El bar plot es por defecto vertical pero se puede visualizar horizontal cambiando el argumento `orientation` a `\"h\"`. "
   ]
  },
  {
   "cell_type": "code",
   "execution_count": null,
   "id": "ukIZnabtttDW",
   "metadata": {
    "colab": {
     "base_uri": "https://localhost:8080/",
     "height": 542
    },
    "id": "ukIZnabtttDW",
    "outputId": "4abd17fd-bb61-4bac-888a-86daff6b2754",
    "tags": []
   },
   "outputs": [],
   "source": [
    "fig = px.bar(df, x='pop', y='year', color='country', orientation=\"h\")\n",
    "fig.show()"
   ]
  },
  {
   "cell_type": "markdown",
   "id": "szVB2GnettDW",
   "metadata": {
    "id": "szVB2GnettDW"
   },
   "source": [
    "## Añadir texto a los bars\n",
    "\n",
    "Podemos añadir texto a las bars usando el argumento `text` y pasandole cualquier variable en el dataframe."
   ]
  },
  {
   "cell_type": "code",
   "execution_count": null,
   "id": "cGXs_QNcttDW",
   "metadata": {
    "colab": {
     "base_uri": "https://localhost:8080/",
     "height": 542
    },
    "id": "cGXs_QNcttDW",
    "outputId": "ef76ba24-b5c3-4ba5-cb94-b7590e075a27",
    "tags": []
   },
   "outputs": [],
   "source": [
    "df = px.data.gapminder().query(\"continent == 'Americas' and year == 2007 and pop > 2.e6\")\n",
    "fig = px.bar(df, y='pop', x='country', text='pop', text_auto='.2s',\n",
    "            title=\"Default: various text sizes, positions and angles\")\n",
    "fig.show()"
   ]
  },
  {
   "cell_type": "markdown",
   "id": "lf7Cy5RattDY",
   "metadata": {
    "id": "lf7Cy5RattDY"
   },
   "source": [
    "# Histogramas\n",
    "\n",
    "Podemos usar histogramas para representar la distribucion de variables en nuestro dataframe. En Plotly el histograma es muy parecido a un barplot en el que los datos estan agregados mediante varias posibles funciones de agregacion (e.g. suma, promedio, conteo...).\n",
    "\n",
    "En comparacion con `px.bar()`, `px.histogram()` puede funcionar con solo el argumento `x` que puede ser una variable continua o categorica."
   ]
  },
  {
   "cell_type": "code",
   "execution_count": null,
   "id": "e2ea61b6-5ebd-4b7c-b974-8f0c58455291",
   "metadata": {
    "tags": []
   },
   "outputs": [],
   "source": [
    "df = px.data.gapminder().query(\"continent == 'Americas' and pop > 14.e6\")\n",
    "fig = px.histogram(df, x=\"gdpPercap\", y='country', title = \"Total GDP\")\n",
    "fig.show()"
   ]
  },
  {
   "cell_type": "code",
   "execution_count": null,
   "id": "2uF0wg4CttDY",
   "metadata": {
    "colab": {
     "base_uri": "https://localhost:8080/",
     "height": 542
    },
    "id": "2uF0wg4CttDY",
    "outputId": "d12c4f9d-34ed-4e1c-9dce-6b626548d7cc"
   },
   "outputs": [],
   "source": [
    "fig = px.histogram(df, x=\"total_bill\", nbins=20)\n",
    "fig.show()"
   ]
  },
  {
   "cell_type": "markdown",
   "id": "P1eLloXwttDa",
   "metadata": {
    "id": "P1eLloXwttDa"
   },
   "source": [
    "# Box plots y violin plots\n",
    "\n",
    "Box plots and violin plots es una buena forma de mostrar distribuciones. `px.box()` y `px.violin()` nos permiten graficar estas distribuciones y funcionan de identica forma (mismos argumentos)"
   ]
  },
  {
   "cell_type": "code",
   "execution_count": null,
   "id": "mNcQNMf6ttDa",
   "metadata": {
    "colab": {
     "base_uri": "https://localhost:8080/",
     "height": 542
    },
    "id": "mNcQNMf6ttDa",
    "outputId": "a66bcd44-9b2a-42bc-e2ee-fbfaa4b15800",
    "tags": []
   },
   "outputs": [],
   "source": [
    "df = px.data.gapminder().query(\"continent == 'Americas' and pop > 14.e6\")\n",
    "fig = px.box(df, y=\"gdpPercap\", x=\"country\")\n",
    "fig.show()"
   ]
  },
  {
   "cell_type": "code",
   "execution_count": null,
   "id": "zo4c7z5UttDa",
   "metadata": {
    "colab": {
     "base_uri": "https://localhost:8080/",
     "height": 542
    },
    "id": "zo4c7z5UttDa",
    "outputId": "e85a938b-0afc-475d-ab89-c1d8a14bd9d9",
    "tags": []
   },
   "outputs": [],
   "source": [
    "fig = px.violin(df, y=\"gdpPercap\", x=\"country\")\n",
    "fig.show()"
   ]
  },
  {
   "cell_type": "code",
   "execution_count": null,
   "id": "WYi2zF3JttDb",
   "metadata": {
    "colab": {
     "base_uri": "https://localhost:8080/",
     "height": 542
    },
    "id": "WYi2zF3JttDb",
    "outputId": "23d16267-9145-4b38-b48f-2223f7f546a6",
    "tags": []
   },
   "outputs": [],
   "source": [
    "fig = px.violin(df, y=\"gdpPercap\", x=\"country\", color='country', points='all')\n",
    "fig.show()"
   ]
  },
  {
   "cell_type": "markdown",
   "id": "uuofdBkXttDb",
   "metadata": {
    "id": "uuofdBkXttDb"
   },
   "source": [
    "## Boxplot dentro del violin"
   ]
  },
  {
   "cell_type": "code",
   "execution_count": null,
   "id": "TEmEpp9gttDb",
   "metadata": {
    "colab": {
     "base_uri": "https://localhost:8080/",
     "height": 542
    },
    "id": "TEmEpp9gttDb",
    "outputId": "f021d9d7-e417-450d-e353-b93a901750f2",
    "tags": []
   },
   "outputs": [],
   "source": [
    "fig = px.violin(df, y=\"gdpPercap\", x=\"country\", color=\"country\", box=True)\n",
    "fig.show()"
   ]
  },
  {
   "cell_type": "markdown",
   "id": "7v_xwsjnttDb",
   "metadata": {
    "id": "7v_xwsjnttDb"
   },
   "source": [
    "## Notched bloxplot"
   ]
  },
  {
   "cell_type": "code",
   "execution_count": null,
   "id": "10ky-fVHttDb",
   "metadata": {
    "colab": {
     "base_uri": "https://localhost:8080/",
     "height": 542
    },
    "id": "10ky-fVHttDb",
    "outputId": "607af297-da77-4e21-8cfc-d54d363b26ef",
    "tags": []
   },
   "outputs": [],
   "source": [
    "fig = px.box(df, y=\"gdpPercap\", x=\"country\", color='country', notched=True, points='all')\n",
    "fig.show()"
   ]
  },
  {
   "cell_type": "markdown",
   "id": "PI5Bq_0DttDb",
   "metadata": {
    "id": "PI5Bq_0DttDb"
   },
   "source": [
    "## Mostrando la media"
   ]
  },
  {
   "cell_type": "code",
   "execution_count": null,
   "id": "t0nNUzm5ttDb",
   "metadata": {
    "colab": {
     "base_uri": "https://localhost:8080/",
     "height": 542
    },
    "id": "t0nNUzm5ttDb",
    "outputId": "3835c06c-bc58-4e4f-ba30-70d1751aba3a",
    "tags": []
   },
   "outputs": [],
   "source": [
    "fig = px.box(df, y=\"gdpPercap\", x=\"country\", color='country', notched=True, points='all')\n",
    "fig.update_traces(boxmean=True)\n",
    "fig.show()"
   ]
  },
  {
   "cell_type": "markdown",
   "id": "H7_2TR_RttDe",
   "metadata": {
    "id": "H7_2TR_RttDe"
   },
   "source": [
    "## Error\n",
    "\n",
    "En **scatter**, **line** y **bar** plots es importante mostrar la informacion de error como por ejemplo intervalos de confianza o metricas de error. Para ello en Plotly se puede usar el argumento `error` (`error_x` o `error_y` dependiendo de donde la queremos añadir) y eso añade la error bar en la figura.\n",
    "\n",
    "**Nota**: Para incluir el error se debe de tener otra variable que contenga la informacion de error. En el ejemplo, creamos una variable nueva que llamamos `error`."
   ]
  },
  {
   "cell_type": "code",
   "execution_count": null,
   "id": "WGhQffeBttDe",
   "metadata": {
    "colab": {
     "base_uri": "https://localhost:8080/",
     "height": 542
    },
    "id": "WGhQffeBttDe",
    "outputId": "3cf03fcb-40fd-4a4b-bc5b-184f2e2fa78c",
    "tags": []
   },
   "outputs": [],
   "source": [
    "df = px.data.gapminder().query(\"continent=='Oceania'\")\n",
    "df['error'] = df[\"lifeExp\"]/100\n",
    "fig = px.bar(df,\n",
    "              x=\"year\",\n",
    "              y=\"lifeExp\",\n",
    "              color='country',\n",
    "              color_discrete_map  = {\"Australia\":\"Black\", \"New Zealand\": \"Red\"},\n",
    "              error_y='error',\n",
    "              title=\"Life expectancy per year\")\n",
    "\n",
    "fig.show()"
   ]
  },
  {
   "cell_type": "markdown",
   "id": "2GPbR_C_ttDf",
   "metadata": {
    "id": "2GPbR_C_ttDf"
   },
   "source": [
    "## Animando tus figuras\n",
    "\n",
    "Plotly Express tiene varias funciones para crear animaciones usando los argumentos `animation_frame` y `animation_group`. Echale un vistazo a ejemplos aqui: https://plotly.com/python/animations/."
   ]
  },
  {
   "cell_type": "code",
   "execution_count": null,
   "id": "odChCfcLttDf",
   "metadata": {
    "id": "odChCfcLttDf",
    "outputId": "a2165386-0eea-477d-c803-4665f72539a3",
    "tags": []
   },
   "outputs": [],
   "source": [
    "fig = px.bar(df, \n",
    "             y=\"country\", \n",
    "             x=\"gdpPercap\", \n",
    "             color=\"country\",\n",
    "             orientation=\"h\", \n",
    "             animation_frame=\"year\",\n",
    "             animation_group=\"country\",\n",
    "            title=\"Evolution of GDP\",\n",
    "            text=\"gdpPercap\", text_auto='.2s', range_x=[5000, 40000])\n",
    "\n",
    "fig.show()"
   ]
  },
  {
   "cell_type": "markdown",
   "id": "j35uC-bYttDg",
   "metadata": {
    "id": "j35uC-bYttDg"
   },
   "source": [
    "## Ejercicio\n",
    "\n",
    "1) Crea una animacion de un scatter plot para el continente africano mostrando la correlacion entre GDP y life expectancy en el tiempo."
   ]
  },
  {
   "cell_type": "code",
   "execution_count": null,
   "id": "hdeusozOttDg",
   "metadata": {
    "id": "hdeusozOttDg",
    "tags": []
   },
   "outputs": [],
   "source": []
  },
  {
   "cell_type": "markdown",
   "id": "ee7a2995-88c1-4c9f-8cf5-254def479332",
   "metadata": {},
   "source": [
    "# Other resources"
   ]
  },
  {
   "cell_type": "markdown",
   "id": "a8a8a41a-2563-430a-9d26-c94dbd6622bd",
   "metadata": {},
   "source": [
    "1. [Matplotlib](https://matplotlib.org/)\n",
    "2. [Bokeh](https://bokeh.org/)\n",
    "3. [Altair](https://altair-viz.github.io/)\n",
    "4. [Seaborn](https://seaborn.pydata.org/)\n",
    "5. [Python Graph Gallery](https://www.python-graph-gallery.com/)"
   ]
  }
 ],
 "metadata": {
  "colab": {
   "provenance": []
  },
  "kernelspec": {
   "display_name": "Python 3 (ipykernel)",
   "language": "python",
   "name": "python3"
  },
  "language_info": {
   "codemirror_mode": {
    "name": "ipython",
    "version": 3
   },
   "file_extension": ".py",
   "mimetype": "text/x-python",
   "name": "python",
   "nbconvert_exporter": "python",
   "pygments_lexer": "ipython3",
   "version": "3.11.0"
  },
  "rise": {
   "scroll": true
  }
 },
 "nbformat": 4,
 "nbformat_minor": 5
}
