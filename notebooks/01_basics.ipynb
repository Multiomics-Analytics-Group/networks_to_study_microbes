{
 "cells": [
  {
   "cell_type": "markdown",
   "metadata": {
    "colab_type": "text",
    "id": "cBY7Bp8DzkuH"
   },
   "source": [
    "<img src=\"https://github.com/Multiomics-Analytics-Group/networks_to_study_microbes/blob/main/figures/cfb.png?raw=1\" width=\"300\">\n",
    "\n",
    "\n",
    "[![Open In Colab](https://colab.research.google.com/assets/colab-badge.svg)](https://colab.research.google.com/github/Multiomics-Analytics-Group/networks_to_study_microbes/blob/main/notebooks/01_basics.ipynb)\n",
    "\n",
    "# Networks to Study Microbes\n"
   ]
  },
  {
   "cell_type": "markdown",
   "metadata": {
    "colab_type": "text",
    "id": "PmF78qUdzkuL",
    "jp-MarkdownHeadingCollapsed": true,
    "tags": []
   },
   "source": [
    "### Conceptos Básicos\n",
    "\n",
    "1) Variables\n",
    "\n",
    "2) Tipos\n",
    "\n",
    "3) Funciones\n",
    "\n",
    "4) Librerias de Python"
   ]
  },
  {
   "cell_type": "markdown",
   "metadata": {
    "colab_type": "text",
    "id": "ScYwgYUXzkuN"
   },
   "source": [
    "### Variables\n",
    "\n",
    "- Las variables se usan para almacenar valores que quieres usar más adelante\n",
    "\n",
    "- Para definir variables debes dar un nombre y asignarles valor usando el símbolo '=' --> a = 5"
   ]
  },
  {
   "cell_type": "code",
   "execution_count": null,
   "metadata": {
    "colab": {},
    "colab_type": "code",
    "id": "nM9_Axx8zkuO"
   },
   "outputs": [],
   "source": [
    "mi_primera_variable = 5"
   ]
  },
  {
   "cell_type": "code",
   "execution_count": null,
   "metadata": {
    "colab": {},
    "colab_type": "code",
    "id": "7x2rmMadzkuU"
   },
   "outputs": [],
   "source": [
    "mi_segunda_variable = 12"
   ]
  },
  {
   "cell_type": "code",
   "execution_count": null,
   "metadata": {
    "colab": {},
    "colab_type": "code",
    "id": "1yrau9QAzkua"
   },
   "outputs": [],
   "source": [
    "c = \"Dónde, \"\n",
    "d = \"cuándo, \"\n",
    "e = \"por qué?\""
   ]
  },
  {
   "cell_type": "code",
   "execution_count": null,
   "metadata": {
    "colab": {},
    "colab_type": "code",
    "id": "0Xv6wTP9zkug",
    "outputId": "c690c4f2-b91c-4b53-c020-5cc1b78d771e"
   },
   "outputs": [],
   "source": [
    "mi_primera_variable + mi_segunda_variable"
   ]
  },
  {
   "cell_type": "code",
   "execution_count": null,
   "metadata": {
    "colab": {},
    "colab_type": "code",
    "id": "Hj_msRJEzkum",
    "outputId": "4aa88e3b-cef5-4b69-90a4-9fb5c34ec7ac"
   },
   "outputs": [],
   "source": [
    "c + d + e"
   ]
  },
  {
   "cell_type": "markdown",
   "metadata": {},
   "source": [
    "En Python debes seguir algunas restricciones cuando le asignes nombres a tus variables:\n",
    "\n",
    "1. Las variables tienen que comenzar con una letra:  \n",
    "    * `mi_variable`: Valido\n",
    "    * `2no`: No valido!  \n",
    "   \n",
    "2. El resto del nombre puede contener letras o numeros. Puedes usar guion bajo si quieres usar un nombre con varias palabras:  \n",
    "    * `variable2`: Valido\n",
    "    * `hey@no`: No valido! \n",
    "    * `hey_no`: Valido\n",
    "    \n",
    "3. Ten en cuenta que el nombre de las variables es case-sensitive  \n",
    "    * `Yes` and `yes` son dos variables diferentes. \n",
    "\n",
    "4. Importante: el nombre de las variables debe ser unico, o si lo usas de nuevo el valor se reescribira"
   ]
  },
  {
   "cell_type": "code",
   "execution_count": null,
   "metadata": {
    "tags": []
   },
   "outputs": [],
   "source": [
    "a = 5\n",
    "b = 1\n",
    "\n",
    "a = 6"
   ]
  },
  {
   "cell_type": "markdown",
   "metadata": {},
   "source": [
    "Que valor tiene 'a'?"
   ]
  },
  {
   "cell_type": "markdown",
   "metadata": {
    "colab_type": "text",
    "id": "sTRKAx_ezkus"
   },
   "source": [
    "### Tipos\n",
    "\n",
    "- Las variables pueden ser de diferentes tipos: integer, float, string, boolean"
   ]
  },
  {
   "cell_type": "markdown",
   "metadata": {
    "colab_type": "text",
    "id": "8-z8750Kzkuv"
   },
   "source": [
    "##### Integer (escalar)"
   ]
  },
  {
   "cell_type": "code",
   "execution_count": null,
   "metadata": {
    "colab": {},
    "colab_type": "code",
    "id": "5PFur0GJzkux"
   },
   "outputs": [],
   "source": [
    "a = 123"
   ]
  },
  {
   "cell_type": "markdown",
   "metadata": {
    "colab_type": "text",
    "id": "UsCX8Qjnzku0"
   },
   "source": [
    "##### Float (decimal)"
   ]
  },
  {
   "cell_type": "code",
   "execution_count": null,
   "metadata": {
    "colab": {},
    "colab_type": "code",
    "id": "PVIH0Ic-zku1"
   },
   "outputs": [],
   "source": [
    "b = 1.23"
   ]
  },
  {
   "cell_type": "markdown",
   "metadata": {
    "colab_type": "text",
    "id": "un_rOXlozku5"
   },
   "source": [
    "##### String (texto)"
   ]
  },
  {
   "cell_type": "code",
   "execution_count": null,
   "metadata": {
    "colab": {},
    "colab_type": "code",
    "id": "0ozCId0xzku6"
   },
   "outputs": [],
   "source": [
    "c = \"Hola mundo!\""
   ]
  },
  {
   "cell_type": "markdown",
   "metadata": {
    "colab_type": "text",
    "id": "CEu0b-Gyzku9"
   },
   "source": [
    "##### Boolean"
   ]
  },
  {
   "cell_type": "code",
   "execution_count": null,
   "metadata": {
    "colab": {},
    "colab_type": "code",
    "id": "cuNjHS7WzkvA"
   },
   "outputs": [],
   "source": [
    "d = True"
   ]
  },
  {
   "cell_type": "code",
   "execution_count": null,
   "metadata": {
    "colab": {},
    "colab_type": "code",
    "id": "vejyybOQzkvD"
   },
   "outputs": [],
   "source": [
    "e = False"
   ]
  },
  {
   "cell_type": "code",
   "execution_count": null,
   "metadata": {
    "colab": {},
    "colab_type": "code",
    "id": "LF82XEa6zkvF",
    "outputId": "a982f40d-1198-43c2-f993-6d98f13e5d96"
   },
   "outputs": [],
   "source": [
    "a == b"
   ]
  },
  {
   "cell_type": "markdown",
   "metadata": {
    "colab_type": "text",
    "id": "DjuIpvLozkvJ"
   },
   "source": [
    "### Funciones/Métodos\n",
    "\n",
    "- Funciones/Métodos definen acciones sobre variables i.e suma, imprimir valor\n",
    "\n",
    "- Las funciones/métodos se deben llamar para realizar la acción y se deben specificar parametros"
   ]
  },
  {
   "cell_type": "code",
   "execution_count": null,
   "metadata": {
    "colab": {},
    "colab_type": "code",
    "id": "5Ky05PFlzkvK",
    "outputId": "03f7e282-b40c-462c-a788-fc5de8c8d379"
   },
   "outputs": [],
   "source": [
    "sum([a,b])"
   ]
  },
  {
   "cell_type": "code",
   "execution_count": null,
   "metadata": {
    "colab": {},
    "colab_type": "code",
    "id": "_RMvi1pKzkvN",
    "outputId": "07af81c7-db5b-4090-9de8-67b23ba882d8"
   },
   "outputs": [],
   "source": [
    "print(c)"
   ]
  },
  {
   "cell_type": "markdown",
   "metadata": {
    "colab_type": "text",
    "id": "JtM8ldcpzkvR"
   },
   "source": [
    "- Las funciones se definen usando la palabra reservada en Python **def**:"
   ]
  },
  {
   "cell_type": "code",
   "execution_count": null,
   "metadata": {
    "colab": {},
    "colab_type": "code",
    "id": "eOQy6Oj8zkvS"
   },
   "outputs": [],
   "source": [
    "def suma_dos_numeros(a, b):\n",
    "    return a + b"
   ]
  },
  {
   "cell_type": "code",
   "execution_count": null,
   "metadata": {
    "colab": {},
    "colab_type": "code",
    "id": "sPp3_j6mzkvU"
   },
   "outputs": [],
   "source": [
    "def grita_hola():\n",
    "    print(\"Hola!!!!!!\")"
   ]
  },
  {
   "cell_type": "code",
   "execution_count": null,
   "metadata": {
    "colab": {},
    "colab_type": "code",
    "id": "kcYI05gfzkvX",
    "outputId": "edecad0a-717a-47c8-95ed-4744b4e2e13f"
   },
   "outputs": [],
   "source": [
    "suma_dos_numeros(12,12)"
   ]
  },
  {
   "cell_type": "code",
   "execution_count": null,
   "metadata": {
    "colab": {},
    "colab_type": "code",
    "id": "YYpR7t2Yzkvc",
    "outputId": "3ef89531-7781-4b01-a484-441f18143ff2"
   },
   "outputs": [],
   "source": [
    "grita_hola()"
   ]
  },
  {
   "cell_type": "markdown",
   "metadata": {},
   "source": [
    "Puedes comprobar el tipo de una variable usando la funcion type()"
   ]
  },
  {
   "cell_type": "code",
   "execution_count": null,
   "metadata": {
    "tags": []
   },
   "outputs": [],
   "source": [
    "type(a)"
   ]
  },
  {
   "cell_type": "markdown",
   "metadata": {},
   "source": [
    "# Entendiendo Mensajes de Error\n",
    "\n",
    "\n",
    "Los errores programando son inevitables! No hay que preocuparse cuando aparezca un mesaje en rojo, en la mayor parte de los casos toda la informacion para solucionar el error esta en ese mensaje. Los errores mas comunes son porque algo que referenciamos no existe, intentamos hacer algo que no esta permitido o utilizamos la sintaxis incorrecta.\n",
    "\n",
    "Aqui un ejemplo de un error bastante comun:\n",
    "***\n",
    "Look at the error message below. You can find the most important piece of information **on the last line: this is the actual error** and this is where you should always look first. In the part above the last line, you can see in which line of your program the error occurs in. \n",
    "\n",
    "```python\n",
    "---------------------------------------------------------------------------\n",
    "NameError                                 Traceback (most recent call last)\n",
    "Cell In[15], line 1\n",
    "----> 1 mi_variable   # La flecha indica la linea donde se produce el error\n",
    "\n",
    "NameError: name 'mi_variable' is not defined    # al final siempre se muestra el error y el tipo\n",
    "```"
   ]
  },
  {
   "cell_type": "code",
   "execution_count": null,
   "metadata": {},
   "outputs": [],
   "source": [
    "1 / 0"
   ]
  },
  {
   "cell_type": "code",
   "execution_count": null,
   "metadata": {
    "tags": []
   },
   "outputs": [],
   "source": [
    "mi_variable"
   ]
  },
  {
   "cell_type": "code",
   "execution_count": null,
   "metadata": {
    "tags": []
   },
   "outputs": [],
   "source": [
    "\"saldo\" + 12"
   ]
  },
  {
   "cell_type": "code",
   "execution_count": null,
   "metadata": {
    "tags": []
   },
   "outputs": [],
   "source": [
    "23andme = 12"
   ]
  },
  {
   "cell_type": "markdown",
   "metadata": {
    "colab_type": "text",
    "id": "KgJMcMZuzkvh"
   },
   "source": [
    "### Librerias\n",
    "\n",
    "- Programación es un esfuerzo colaborativo\n",
    "\n",
    "- Mucha gente define funciones que pueden ser utilizadas por todo el mundo\n",
    "\n",
    "- Estas funciones se agrupan en librerias que pueden utilizarse simplemente importandolas"
   ]
  },
  {
   "cell_type": "markdown",
   "metadata": {
    "colab_type": "text",
    "id": "OC6ILl_uzkvl"
   },
   "source": [
    "#### Importar Libreria"
   ]
  },
  {
   "cell_type": "code",
   "execution_count": null,
   "metadata": {
    "colab": {},
    "colab_type": "code",
    "id": "infA9qCYzkvo",
    "scrolled": true
   },
   "outputs": [],
   "source": [
    "import numpy as np\n",
    "import pandas as pd"
   ]
  },
  {
   "cell_type": "markdown",
   "metadata": {
    "colab_type": "text",
    "id": "AR9F-plYzkvx"
   },
   "source": [
    "#### Usar Libreria"
   ]
  },
  {
   "cell_type": "code",
   "execution_count": null,
   "metadata": {
    "colab": {},
    "colab_type": "code",
    "id": "25lUH1zbzkvy"
   },
   "outputs": [],
   "source": [
    "df = pd.DataFrame(np.random.randint(0,100,size=(100, 4)), columns=list('ABCD'))"
   ]
  },
  {
   "cell_type": "code",
   "execution_count": null,
   "metadata": {
    "colab": {},
    "colab_type": "code",
    "id": "A9BZFFoyzkv1",
    "outputId": "f570eac4-0e34-438c-e960-8377e22f31ae"
   },
   "outputs": [],
   "source": [
    "df.head()"
   ]
  },
  {
   "cell_type": "markdown",
   "metadata": {
    "colab_type": "text",
    "id": "v7Zmehq7zkv3"
   },
   "source": [
    "## Práctica"
   ]
  },
  {
   "cell_type": "markdown",
   "metadata": {
    "colab_type": "text",
    "id": "X_YAn50Xzkv5"
   },
   "source": [
    "### Usando Python como una Calculadora\n",
    "\n",
    "Usando los operadores en esta tabla, resuelve las operaciones matematicas de los ejercicios:\n",
    "\n",
    "|Asignar Valor | Suma | Resta | Multiplicación | División | Superíndice | \n",
    "|  :--------:  | :---:| :---: | :------------: | :------: | :---------: |\n",
    "|      =       |   +  |   -   |        *       |     /    |      **     |"
   ]
  },
  {
   "cell_type": "markdown",
   "metadata": {
    "colab_type": "text",
    "id": "TkTYFCHzzkv6"
   },
   "source": [
    "1. Cuánto es dos más tres?"
   ]
  },
  {
   "cell_type": "code",
   "execution_count": null,
   "metadata": {
    "colab": {},
    "colab_type": "code",
    "id": "rAkcobxhzkv6"
   },
   "outputs": [],
   "source": []
  },
  {
   "cell_type": "markdown",
   "metadata": {
    "colab_type": "text",
    "id": "h9hoUAB5zkv9"
   },
   "source": [
    "2. Cuánto es dos por tres?"
   ]
  },
  {
   "cell_type": "code",
   "execution_count": null,
   "metadata": {
    "colab": {},
    "colab_type": "code",
    "id": "5XDPim4wzkv-"
   },
   "outputs": [],
   "source": []
  },
  {
   "cell_type": "markdown",
   "metadata": {
    "colab_type": "text",
    "id": "3A61whGFzkwA"
   },
   "source": [
    "3. Cuánto es cuatro al cubo?"
   ]
  },
  {
   "cell_type": "code",
   "execution_count": null,
   "metadata": {
    "colab": {},
    "colab_type": "code",
    "id": "cDjl-u4OzkwB"
   },
   "outputs": [],
   "source": []
  },
  {
   "cell_type": "markdown",
   "metadata": {
    "colab_type": "text",
    "id": "nQCGf_PUzkwO"
   },
   "source": [
    "4. Cuanto es **X** menos 7, si  X es igual a 10?"
   ]
  },
  {
   "cell_type": "code",
   "execution_count": null,
   "metadata": {
    "colab": {},
    "colab_type": "code",
    "id": "Y6KQwsdTzkwQ"
   },
   "outputs": [],
   "source": []
  },
  {
   "cell_type": "code",
   "execution_count": null,
   "metadata": {
    "colab": {},
    "colab_type": "code",
    "id": "4BnMPsDZzkwU"
   },
   "outputs": [],
   "source": []
  },
  {
   "cell_type": "markdown",
   "metadata": {
    "colab_type": "text",
    "id": "Up261kupzkwY"
   },
   "source": [
    "#### Trabajando con Textos (string)\n",
    "\n",
    "Strings son datos en formato texto. Se pueden crear variables tipo string (texto) haciendo usod de commillas simples (e.g. 'Hi!') o comillas dobles (e.g. \"Hi!\")\n",
    "\n",
    "Se pueden usar algunos de los operadores que hemos visto anteriormente pero tienen un efecto distinto:\n",
    "\n",
    "|Asignar a una Variable| Concatenar String | Repetir un numero de veces |\n",
    "|  :----------------:  |  :------------:   |        :---------:         |\n",
    "|          =           |         +         |             *              |"
   ]
  },
  {
   "cell_type": "markdown",
   "metadata": {
    "colab_type": "text",
    "id": "FCUQdb5ozkwa"
   },
   "source": [
    "1. Haciendo uso de estos operadores, concatena estas dos variables"
   ]
  },
  {
   "cell_type": "code",
   "execution_count": null,
   "metadata": {
    "colab": {},
    "colab_type": "code",
    "id": "tduUWbSPzkwe"
   },
   "outputs": [],
   "source": [
    "saludos = \"Hola\"\n",
    "persona = \"Pepito\""
   ]
  },
  {
   "cell_type": "code",
   "execution_count": null,
   "metadata": {
    "colab": {},
    "colab_type": "code",
    "id": "aSZzsphezkwk"
   },
   "outputs": [],
   "source": []
  },
  {
   "cell_type": "markdown",
   "metadata": {
    "colab_type": "text",
    "id": "o5_gP7SLzkwn"
   },
   "source": [
    "2. Repite el saludo 3 veces"
   ]
  },
  {
   "cell_type": "code",
   "execution_count": null,
   "metadata": {
    "colab": {},
    "colab_type": "code",
    "id": "Qm_D8Agwzkwo"
   },
   "outputs": [],
   "source": []
  },
  {
   "cell_type": "markdown",
   "metadata": {
    "colab_type": "text",
    "id": "3uEqoGm0zkwr"
   },
   "source": [
    "**Algunos metodos utiles**\n",
    "\n",
    "Usa los metodos: **strip**, **swapcase**, **title**, **lower** y **upper** para modificar los siguientes string:"
   ]
  },
  {
   "cell_type": "markdown",
   "metadata": {
    "colab_type": "text",
    "id": "O2CFFTBizkws"
   },
   "source": [
    "**\"Tengo hambre\"** -> **\"TENGO HAMBRE\"**"
   ]
  },
  {
   "cell_type": "code",
   "execution_count": null,
   "metadata": {
    "colab": {},
    "colab_type": "code",
    "id": "Zd7Oq0WAzkwt"
   },
   "outputs": [],
   "source": []
  },
  {
   "cell_type": "markdown",
   "metadata": {
    "colab_type": "text",
    "id": "Mb4T1I4qzkwv"
   },
   "source": [
    "**\"la reina de inglaterra\"** -> **\"La Reina De Inglaterra\"**"
   ]
  },
  {
   "cell_type": "code",
   "execution_count": null,
   "metadata": {
    "colab": {},
    "colab_type": "code",
    "id": "QKHOQZiOzkww"
   },
   "outputs": [],
   "source": []
  },
  {
   "cell_type": "markdown",
   "metadata": {
    "colab_type": "text",
    "id": "oZSDtHOhzkw2"
   },
   "source": [
    "**QUIEN quiere Programar?\"** -> **quien QUIERE pROGRAMAR?\"**"
   ]
  },
  {
   "cell_type": "code",
   "execution_count": null,
   "metadata": {
    "colab": {},
    "colab_type": "code",
    "id": "0svy1nfozkw3"
   },
   "outputs": [],
   "source": []
  },
  {
   "cell_type": "markdown",
   "metadata": {},
   "source": [
    "**Hola mi querido amigozzzzzz** -> **Hola mi querido amigo**"
   ]
  },
  {
   "cell_type": "code",
   "execution_count": null,
   "metadata": {
    "tags": []
   },
   "outputs": [],
   "source": []
  },
  {
   "cell_type": "markdown",
   "metadata": {
    "colab_type": "text",
    "id": "mL6vin0tzkw6"
   },
   "source": [
    "#### Listas de Varios Elementos\n",
    "\n",
    "Las listas son sequencias de datos. Se contruyen utilizando: **[]** o **list()**. Se pueden concatenar como vimos en el caso de texto, pero pueden contener cualquier tipo de dato (texto, numeros, etc.). Los metodos que podemos utilizar son:\n",
    "\n",
    "| Metodo   |  Efecto                                  | \n",
    "| :-----:  |  :----------:                                  |\n",
    "| append() | Concatena un elemento a la lista        | \n",
    "| extend() | Concatena una lista a otra lista sequencialmente  | \n",
    "| remove() | Elimina un elemento de la lista                 |\n",
    "| clear()  | Vacia la lista              | \n",
    "| copy()   | Retorna una copia de la lista                    |\n",
    "| sort()   | Ordena la lista                               |\n",
    "| reverse()| Cambia el sentido de la lista       |"
   ]
  },
  {
   "cell_type": "markdown",
   "metadata": {
    "colab_type": "text",
    "id": "VjHrruKazkw6"
   },
   "source": [
    "**Ejemplo** Esto es una lista de 5 elementos"
   ]
  },
  {
   "cell_type": "code",
   "execution_count": null,
   "metadata": {
    "colab": {},
    "colab_type": "code",
    "id": "oMllx7gpzkw7"
   },
   "outputs": [],
   "source": [
    "mi_lista = ['a','b', 'c', 'd', 'e']"
   ]
  },
  {
   "cell_type": "code",
   "execution_count": null,
   "metadata": {
    "colab": {},
    "colab_type": "code",
    "id": "vp2tfaFGzkw9",
    "outputId": "84f08b6b-7bdc-4b7b-f7c6-d51d70d0ccdc"
   },
   "outputs": [],
   "source": [
    "mi_lista"
   ]
  },
  {
   "cell_type": "markdown",
   "metadata": {},
   "source": [
    "Tambien se pueden crear listas **vacias**:"
   ]
  },
  {
   "cell_type": "code",
   "execution_count": null,
   "metadata": {},
   "outputs": [],
   "source": [
    "empty_list = []\n",
    "print(empty_list)"
   ]
  },
  {
   "cell_type": "markdown",
   "metadata": {},
   "source": [
    "Para saber los elementos de la list se puede usar el metodo **len()**"
   ]
  },
  {
   "cell_type": "code",
   "execution_count": null,
   "metadata": {},
   "outputs": [],
   "source": [
    "len(mi_lista)"
   ]
  },
  {
   "cell_type": "markdown",
   "metadata": {},
   "source": [
    "## Accediendo valores en la lista\n",
    "\n",
    "\n",
    "Los elementos de una lista se acceden por su indice o posicion en la lista. Debes tener en cuenta que la posicion inicial en Python es ``0``!"
   ]
  },
  {
   "cell_type": "code",
   "execution_count": null,
   "metadata": {
    "tags": []
   },
   "outputs": [],
   "source": [
    "estudiantes = [\"Julian\", \"Marcela\", \"Sebastian\"]"
   ]
  },
  {
   "cell_type": "code",
   "execution_count": null,
   "metadata": {
    "tags": []
   },
   "outputs": [],
   "source": [
    "estudiantes[0]"
   ]
  },
  {
   "cell_type": "code",
   "execution_count": null,
   "metadata": {
    "tags": []
   },
   "outputs": [],
   "source": [
    "estudiantes[1]"
   ]
  },
  {
   "cell_type": "code",
   "execution_count": null,
   "metadata": {
    "tags": []
   },
   "outputs": [],
   "source": [
    "estudiantes[2]"
   ]
  },
  {
   "cell_type": "markdown",
   "metadata": {},
   "source": [
    "Tambien se puede acceder a la lista de ultimo a primero, en sentido inverso. Para ello debes utilizar numeros negativos siendo ``-1`` la ultima posicion, ``-2`` la penultima, etc."
   ]
  },
  {
   "cell_type": "code",
   "execution_count": null,
   "metadata": {
    "tags": []
   },
   "outputs": [],
   "source": [
    "estudiantes[-1]"
   ]
  },
  {
   "cell_type": "markdown",
   "metadata": {},
   "source": [
    "Para comprobar si un elemento esta en una lista podemos utilizar ``in``.\n",
    "\n",
    "``` python\n",
    "print(\"Juan\" in estudiantes)\n",
    "```"
   ]
  },
  {
   "cell_type": "code",
   "execution_count": null,
   "metadata": {
    "tags": []
   },
   "outputs": [],
   "source": [
    "print(\"Juan\" in estudiantes)"
   ]
  },
  {
   "cell_type": "code",
   "execution_count": null,
   "metadata": {
    "tags": []
   },
   "outputs": [],
   "source": [
    "print(\"Marcela\" in estudiantes)"
   ]
  },
  {
   "cell_type": "code",
   "execution_count": null,
   "metadata": {},
   "outputs": [],
   "source": [
    "print(\"sebastian\" in estudiantes)"
   ]
  },
  {
   "cell_type": "markdown",
   "metadata": {},
   "source": [
    "**Incluyendo elementos a una lista:**\n",
    "* ``append``: incluir un nuevo elemento al final de la lista\n",
    "* ``extend``: incluir al final de la lista los elementos de una lista\n",
    "* ``insert``: incluir un elemento en posicion indicada"
   ]
  },
  {
   "cell_type": "code",
   "execution_count": null,
   "metadata": {
    "tags": []
   },
   "outputs": [],
   "source": [
    "# append\n",
    "platos = ['arepa', 'sancocho', 'arroz', 'sopa']\n",
    "platos.append('lentejas')\n",
    "print(platos)"
   ]
  },
  {
   "cell_type": "code",
   "execution_count": null,
   "metadata": {
    "tags": []
   },
   "outputs": [],
   "source": [
    "platos = ['arepa', 'sancocho', 'arroz', 'sopa']\n",
    "platos.append(['lentejas', 'frijoles'])\n",
    "print(platos)"
   ]
  },
  {
   "cell_type": "code",
   "execution_count": null,
   "metadata": {
    "tags": []
   },
   "outputs": [],
   "source": [
    "# extend\n",
    "platos = ['arepa', 'sancocho', 'arroz', 'sopa']\n",
    "platos.extend(['lentejas', 'frijoles'])\n",
    "print(platos)"
   ]
  },
  {
   "cell_type": "code",
   "execution_count": null,
   "metadata": {
    "tags": []
   },
   "outputs": [],
   "source": [
    "platos = ['arepa', 'sancocho', 'arroz', 'sopa', 'lentejas', 'frijoles']\n",
    "platos.insert(2, \"flan\")\n",
    "print(platos)"
   ]
  },
  {
   "cell_type": "markdown",
   "metadata": {
    "tags": []
   },
   "source": [
    "**Eliminar elementos de una lista:**\n",
    "* ``clear``: elimina todos los elementos de la lista\n",
    "* ``pop``\n",
    "    - Elimina el elemento de la lista en la posicion especificada y lo devuelve.\n",
    "    - Si no se le pasa ninguna posicion como parametro, elimina el ultimo elemento y lo devuelve\n",
    "* ``del``: elimina el elemento en la posicion especificada"
   ]
  },
  {
   "cell_type": "code",
   "execution_count": null,
   "metadata": {
    "tags": []
   },
   "outputs": [],
   "source": [
    "#clear\n",
    "platos = ['arepa', 'sancocho', 'arroz', 'sopa', 'lentejas', 'frijoles']\n",
    "platos.clear()\n",
    "print(platos)"
   ]
  },
  {
   "cell_type": "code",
   "execution_count": null,
   "metadata": {
    "tags": []
   },
   "outputs": [],
   "source": [
    "# pop\n",
    "platos = ['arepa', 'sancocho', 'arroz', 'sopa', 'lentejas', 'frijoles']\n",
    "platos.pop()"
   ]
  },
  {
   "cell_type": "code",
   "execution_count": null,
   "metadata": {
    "tags": []
   },
   "outputs": [],
   "source": [
    "print(platos)"
   ]
  },
  {
   "cell_type": "code",
   "execution_count": null,
   "metadata": {
    "tags": []
   },
   "outputs": [],
   "source": [
    "# pop\n",
    "platos = ['arepa', 'sancocho', 'arroz', 'sopa', 'lentejas', 'frijoles']\n",
    "platos.pop(2)"
   ]
  },
  {
   "cell_type": "code",
   "execution_count": null,
   "metadata": {
    "tags": []
   },
   "outputs": [],
   "source": [
    "print(platos)"
   ]
  },
  {
   "cell_type": "code",
   "execution_count": null,
   "metadata": {
    "tags": []
   },
   "outputs": [],
   "source": [
    "# del \n",
    "platos = ['arepa', 'sancocho', 'arroz', 'sopa', 'lentejas', 'frijoles']\n",
    "del platos[3]\n",
    "print(platos)\n",
    "del platos[1]\n",
    "print(platos)"
   ]
  },
  {
   "cell_type": "code",
   "execution_count": null,
   "metadata": {
    "tags": []
   },
   "outputs": [],
   "source": [
    "#del\n",
    "platos = ['arepa', 'sancocho', 'arroz', 'sopa', 'lentejas', 'frijoles']\n",
    "del platos[6]\n",
    "print(platos)"
   ]
  },
  {
   "cell_type": "markdown",
   "metadata": {},
   "source": [
    "**Otros metodos utiles:**\n",
    "* `count`: devuelve el numero de veces que un elemento se ha encontrado en la lista.\n",
    "* `sort`: ordena la lista\n",
    "* `copy`: hace una copia de la lista a otra variable\n",
    "\n",
    "\n",
    "### Practica estos metodos con la lista de platos o cualquier otra lista que crees"
   ]
  },
  {
   "cell_type": "code",
   "execution_count": null,
   "metadata": {},
   "outputs": [],
   "source": []
  },
  {
   "cell_type": "markdown",
   "metadata": {},
   "source": [
    "# Ejercicios"
   ]
  },
  {
   "cell_type": "markdown",
   "metadata": {
    "colab_type": "text",
    "id": "G3OzE5YkzkxA"
   },
   "source": [
    "1. Haz una lista con tus peliculas favoritas"
   ]
  },
  {
   "cell_type": "code",
   "execution_count": null,
   "metadata": {
    "colab": {},
    "colab_type": "code",
    "id": "D0MbXFyGzkxB"
   },
   "outputs": [],
   "source": []
  },
  {
   "cell_type": "markdown",
   "metadata": {},
   "source": [
    "2. Cuantos elementos tiene tu lista de peliculas?"
   ]
  },
  {
   "cell_type": "code",
   "execution_count": null,
   "metadata": {},
   "outputs": [],
   "source": []
  },
  {
   "cell_type": "markdown",
   "metadata": {
    "colab_type": "text",
    "id": "2a1NqguIzkxD"
   },
   "source": [
    "3. Tu experimento tiene 3 muestras (muestra_A, muestra_B y muestra_D) contruye una lista"
   ]
  },
  {
   "cell_type": "code",
   "execution_count": null,
   "metadata": {
    "colab": {},
    "colab_type": "code",
    "id": "lLIZn6-wzkxE"
   },
   "outputs": [],
   "source": []
  },
  {
   "cell_type": "markdown",
   "metadata": {
    "colab_type": "text",
    "id": "0z27fH3azkxH"
   },
   "source": [
    "4. Añade una muestra más: muestra_C"
   ]
  },
  {
   "cell_type": "code",
   "execution_count": null,
   "metadata": {
    "colab": {},
    "colab_type": "code",
    "id": "-3z_orT8zkxH"
   },
   "outputs": [],
   "source": []
  },
  {
   "cell_type": "markdown",
   "metadata": {
    "colab_type": "text",
    "id": "37l54h8azk19"
   },
   "source": [
    "5. Ordena la lista de muestras"
   ]
  },
  {
   "cell_type": "code",
   "execution_count": null,
   "metadata": {
    "colab": {},
    "colab_type": "code",
    "id": "Imt2zx2Wzk1-"
   },
   "outputs": [],
   "source": []
  },
  {
   "cell_type": "markdown",
   "metadata": {
    "colab_type": "text",
    "id": "aBqpQS6Hzk2A"
   },
   "source": [
    "6. Incluye en tu lista de muestras otras dos nuevas muestras recolectadas: muestra_E, muestra_F"
   ]
  },
  {
   "cell_type": "code",
   "execution_count": null,
   "metadata": {
    "colab": {},
    "colab_type": "code",
    "id": "PUlLKUhRzk2C"
   },
   "outputs": [],
   "source": [
    "nuevas_muestras = ['muestra_E', 'muestra_F']"
   ]
  },
  {
   "cell_type": "code",
   "execution_count": null,
   "metadata": {
    "colab": {},
    "colab_type": "code",
    "id": "B3J2Witrzk2F"
   },
   "outputs": [],
   "source": []
  },
  {
   "cell_type": "markdown",
   "metadata": {},
   "source": [
    "# Diccionarios\n",
    "\n",
    "> Un diccionario permite almacenar pares de clave, valor. La clave (key) se usa para encontrar el valor. Muy util cuando se quiere buscar elementos por su clave (como un diccionario tradicional).\n",
    "\n",
    "- Los diccionarios se crean usando los simbolos de llaves ``{clave: valor}``\n",
    "- Los valores se puede acceder por la clave y se indica de forma parecida a las listas dictio[clave] --> valor\n",
    "- Las claves en un diccionario son unicas!"
   ]
  },
  {
   "cell_type": "code",
   "execution_count": 30,
   "metadata": {
    "tags": []
   },
   "outputs": [
    {
     "name": "stdout",
     "output_type": "stream",
     "text": [
      "{'Medellin': 13350000, 'Cartagena': 18550000, 'Ibague': 8400000, 'Bogota': 1837442}\n"
     ]
    }
   ],
   "source": [
    "# define dictionary\n",
    "ciudades = {\n",
    "    'Medellin': 13350000, # par clave valor\n",
    "    'Cartagena': 18550000,\n",
    "    'Ibague': 8400000,\n",
    "    'Bogota': 1837442,\n",
    "}\n",
    "\n",
    "# display dictionary\n",
    "print(ciudades)"
   ]
  },
  {
   "cell_type": "markdown",
   "metadata": {},
   "source": [
    "Para acceder a un valor especifico:"
   ]
  },
  {
   "cell_type": "code",
   "execution_count": 31,
   "metadata": {
    "tags": []
   },
   "outputs": [
    {
     "name": "stdout",
     "output_type": "stream",
     "text": [
      "18550000\n"
     ]
    }
   ],
   "source": [
    "print(ciudades['Cartagena'])"
   ]
  },
  {
   "cell_type": "markdown",
   "metadata": {},
   "source": [
    "Para cambiar o asignar un valor:"
   ]
  },
  {
   "cell_type": "code",
   "execution_count": 32,
   "metadata": {
    "tags": []
   },
   "outputs": [],
   "source": [
    "ciudades[\"Copenhague\"] = 2389212"
   ]
  },
  {
   "cell_type": "code",
   "execution_count": 33,
   "metadata": {
    "tags": []
   },
   "outputs": [
    {
     "name": "stdout",
     "output_type": "stream",
     "text": [
      "{'Medellin': 13350000, 'Cartagena': 18550000, 'Ibague': 8400000, 'Bogota': 1837442, 'Copenhague': 2389212}\n"
     ]
    }
   ],
   "source": [
    "print(ciudades)"
   ]
  },
  {
   "cell_type": "markdown",
   "metadata": {},
   "source": [
    "Los diccionarios permiten construir **estructuras mas complejas**, por ejemplo, que el valor sea **una lista**:"
   ]
  },
  {
   "cell_type": "code",
   "execution_count": 34,
   "metadata": {
    "tags": []
   },
   "outputs": [
    {
     "name": "stdout",
     "output_type": "stream",
     "text": [
      "{'bacteria': ['Streptococcus pneumoniae', 'Staphylococcus aureus'], 'fungi': ['Aspergillus versicolor', 'Candida albicans']}\n"
     ]
    }
   ],
   "source": [
    "microbes = {\"bacteria\": [\"Streptococcus pneumoniae\", \"Staphylococcus aureus\"], \n",
    "            \"fungi\": [\"Aspergillus versicolor\", \"Candida albicans\"]}\n",
    "print(microbes)"
   ]
  },
  {
   "cell_type": "markdown",
   "metadata": {},
   "source": [
    "# Ejercicios"
   ]
  },
  {
   "cell_type": "markdown",
   "metadata": {},
   "source": [
    "1. Crea un diccionario de 3 elementos"
   ]
  },
  {
   "cell_type": "code",
   "execution_count": null,
   "metadata": {},
   "outputs": [],
   "source": []
  },
  {
   "cell_type": "markdown",
   "metadata": {},
   "source": [
    "2. Crea a diccionario de departamentos en Colombia donde la clave es el nombre del departamento y los valores es una lista de ciudades en ese departamento."
   ]
  },
  {
   "cell_type": "code",
   "execution_count": null,
   "metadata": {},
   "outputs": [],
   "source": []
  },
  {
   "cell_type": "markdown",
   "metadata": {},
   "source": [
    "3. Muestra el contenido para uno de los departamentos"
   ]
  },
  {
   "cell_type": "code",
   "execution_count": null,
   "metadata": {},
   "outputs": [],
   "source": []
  },
  {
   "cell_type": "markdown",
   "metadata": {},
   "source": [
    "4. Accede a una de las ciudades en un departamento."
   ]
  },
  {
   "cell_type": "code",
   "execution_count": null,
   "metadata": {},
   "outputs": [],
   "source": []
  },
  {
   "cell_type": "markdown",
   "metadata": {},
   "source": [
    "5. Incluye en el diccionario un nuevo departamento y sus ciudades."
   ]
  },
  {
   "cell_type": "code",
   "execution_count": null,
   "metadata": {},
   "outputs": [],
   "source": []
  },
  {
   "cell_type": "markdown",
   "metadata": {},
   "source": [
    "6. Elimina uno de los departamentos."
   ]
  },
  {
   "cell_type": "code",
   "execution_count": null,
   "metadata": {},
   "outputs": [],
   "source": []
  },
  {
   "cell_type": "markdown",
   "metadata": {
    "colab_type": "text",
    "id": "5VvX0bg9zk4K"
   },
   "source": [
    "### Más Recursos\n",
    "\n",
    "  - String Methods: https://docs.python.org/3/library/stdtypes.html#string-methods\n",
    "  \n",
    "  - Python Strings: https://realpython.com/python-strings/\n",
    "   \n",
    "  - Python Lists: https://realpython.com/python-lists-tuples/\n"
   ]
  }
 ],
 "metadata": {
  "colab": {
   "collapsed_sections": [
    "OC6ILl_uzkvl",
    "AR9F-plYzkvx",
    "Up261kupzkwY",
    "mL6vin0tzkw6"
   ],
   "name": "Conceptos Básicos.ipynb",
   "provenance": []
  },
  "kernelspec": {
   "display_name": "Python 3 (ipykernel)",
   "language": "python",
   "name": "python3"
  },
  "language_info": {
   "codemirror_mode": {
    "name": "ipython",
    "version": 3
   },
   "file_extension": ".py",
   "mimetype": "text/x-python",
   "name": "python",
   "nbconvert_exporter": "python",
   "pygments_lexer": "ipython3",
   "version": "3.11.0"
  }
 },
 "nbformat": 4,
 "nbformat_minor": 4
}
