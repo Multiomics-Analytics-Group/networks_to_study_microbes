{
 "cells": [
  {
   "cell_type": "markdown",
   "metadata": {
    "colab_type": "text",
    "id": "cBY7Bp8DzkuH"
   },
   "source": [
    "<img src=\"https://github.com/Multiomics-Analytics-Group/networks_to_study_microbes/blob/figures/cfb.png?raw=1\" width=\"300\">\n",
    "\n",
    "\n",
    "[![Open In Colab](https://colab.research.google.com/assets/colab-badge.svg)](https://colab.research.google.com/github/Multiomics-Analytics-Group/networks_to_study_microbes/blob/variables.ipynb)\n",
    "\n",
    "# Networks to Study Microbes\n"
   ]
  },
  {
   "cell_type": "markdown",
   "metadata": {
    "colab_type": "text",
    "id": "PmF78qUdzkuL"
   },
   "source": [
    "### Conceptos Básicos\n",
    "\n",
    "1) Variables\n",
    "\n",
    "2) Tipos\n",
    "\n",
    "3) Funciones\n",
    "\n",
    "4) Librerias de Python"
   ]
  },
  {
   "cell_type": "markdown",
   "metadata": {
    "colab_type": "text",
    "id": "ScYwgYUXzkuN"
   },
   "source": [
    "### Variables\n",
    "\n",
    "- Las variables se usan para almacenar valores que quieres usar más adelante\n",
    "\n",
    "- Para definir variables debes dar un nombre y asignarles valor usando el símbolo '=' --> a = 5"
   ]
  },
  {
   "cell_type": "code",
   "execution_count": null,
   "metadata": {
    "colab": {},
    "colab_type": "code",
    "id": "nM9_Axx8zkuO"
   },
   "outputs": [],
   "source": [
    "mi_primera_variable = 5"
   ]
  },
  {
   "cell_type": "code",
   "execution_count": null,
   "metadata": {
    "colab": {},
    "colab_type": "code",
    "id": "7x2rmMadzkuU"
   },
   "outputs": [],
   "source": [
    "mi_segunda_variable = 12"
   ]
  },
  {
   "cell_type": "code",
   "execution_count": null,
   "metadata": {
    "colab": {},
    "colab_type": "code",
    "id": "1yrau9QAzkua"
   },
   "outputs": [],
   "source": [
    "c = \"Dónde, \"\n",
    "d = \"cuándo, \"\n",
    "e = \"por qué?\""
   ]
  },
  {
   "cell_type": "code",
   "execution_count": null,
   "metadata": {
    "colab": {},
    "colab_type": "code",
    "id": "0Xv6wTP9zkug",
    "outputId": "c690c4f2-b91c-4b53-c020-5cc1b78d771e"
   },
   "outputs": [
    {
     "data": {
      "text/plain": [
       "17"
      ]
     },
     "execution_count": 30,
     "metadata": {
      "tags": []
     },
     "output_type": "execute_result"
    }
   ],
   "source": [
    "mi_primera_variable + mi_segunda_variable"
   ]
  },
  {
   "cell_type": "code",
   "execution_count": null,
   "metadata": {
    "colab": {},
    "colab_type": "code",
    "id": "Hj_msRJEzkum",
    "outputId": "4aa88e3b-cef5-4b69-90a4-9fb5c34ec7ac"
   },
   "outputs": [
    {
     "data": {
      "text/plain": [
       "'Dónde, cuándo, por qué?'"
      ]
     },
     "execution_count": 31,
     "metadata": {
      "tags": []
     },
     "output_type": "execute_result"
    }
   ],
   "source": [
    "c + d + e"
   ]
  },
  {
   "cell_type": "markdown",
   "metadata": {},
   "source": [
    "En Python debes seguir algunas restricciones cuando le asignes nombres a tus variables:\n",
    "\n",
    "1. Las variables tienen que comenzar con una letra:  \n",
    "    * `mi_variable`: Valido\n",
    "    * `2no`: No valido!  \n",
    "   \n",
    "2. El resto del nombre puede contener letras o numeros. Puedes usar guion bajo si quieres usar un nombre con varias palabras:  \n",
    "    * `variable2`: Valido\n",
    "    * `hey@no`: No valido! \n",
    "    * `hey_no`: Valido\n",
    "    \n",
    "3. Ten en cuenta que el nombre de las variables es case-sensitive  \n",
    "    * `Yes` and `yes` son dos variables diferentes. \n",
    "\n",
    "4. Importante: el nombre de las variables debe ser unico, o si lo usas de nuevo el valor se reescribira"
   ]
  },
  {
   "cell_type": "code",
   "execution_count": 1,
   "metadata": {
    "tags": []
   },
   "outputs": [],
   "source": [
    "a = 5\n",
    "b = 1\n",
    "\n",
    "a = 6"
   ]
  },
  {
   "cell_type": "markdown",
   "metadata": {},
   "source": [
    "Que valor tiene 'a'?"
   ]
  },
  {
   "cell_type": "markdown",
   "metadata": {
    "colab_type": "text",
    "id": "sTRKAx_ezkus"
   },
   "source": [
    "### Tipos\n",
    "\n",
    "- Las variables pueden ser de diferentes tipos: integer, float, string, boolean"
   ]
  },
  {
   "cell_type": "markdown",
   "metadata": {
    "colab_type": "text",
    "id": "8-z8750Kzkuv"
   },
   "source": [
    "##### Integer (escalar)"
   ]
  },
  {
   "cell_type": "code",
   "execution_count": null,
   "metadata": {
    "colab": {},
    "colab_type": "code",
    "id": "5PFur0GJzkux"
   },
   "outputs": [],
   "source": [
    "a = 123"
   ]
  },
  {
   "cell_type": "markdown",
   "metadata": {
    "colab_type": "text",
    "id": "UsCX8Qjnzku0"
   },
   "source": [
    "##### Float (decimal)"
   ]
  },
  {
   "cell_type": "code",
   "execution_count": null,
   "metadata": {
    "colab": {},
    "colab_type": "code",
    "id": "PVIH0Ic-zku1"
   },
   "outputs": [],
   "source": [
    "b = 1.23"
   ]
  },
  {
   "cell_type": "markdown",
   "metadata": {
    "colab_type": "text",
    "id": "un_rOXlozku5"
   },
   "source": [
    "##### String (texto)"
   ]
  },
  {
   "cell_type": "code",
   "execution_count": null,
   "metadata": {
    "colab": {},
    "colab_type": "code",
    "id": "0ozCId0xzku6"
   },
   "outputs": [],
   "source": [
    "c = \"Hola mundo!\""
   ]
  },
  {
   "cell_type": "markdown",
   "metadata": {
    "colab_type": "text",
    "id": "CEu0b-Gyzku9"
   },
   "source": [
    "##### Boolean"
   ]
  },
  {
   "cell_type": "code",
   "execution_count": null,
   "metadata": {
    "colab": {},
    "colab_type": "code",
    "id": "cuNjHS7WzkvA"
   },
   "outputs": [],
   "source": [
    "d = True"
   ]
  },
  {
   "cell_type": "code",
   "execution_count": null,
   "metadata": {
    "colab": {},
    "colab_type": "code",
    "id": "vejyybOQzkvD"
   },
   "outputs": [],
   "source": [
    "e = False"
   ]
  },
  {
   "cell_type": "code",
   "execution_count": null,
   "metadata": {
    "colab": {},
    "colab_type": "code",
    "id": "LF82XEa6zkvF",
    "outputId": "a982f40d-1198-43c2-f993-6d98f13e5d96"
   },
   "outputs": [
    {
     "data": {
      "text/plain": [
       "False"
      ]
     },
     "execution_count": 36,
     "metadata": {
      "tags": []
     },
     "output_type": "execute_result"
    }
   ],
   "source": [
    "a == b"
   ]
  },
  {
   "cell_type": "markdown",
   "metadata": {
    "colab_type": "text",
    "id": "DjuIpvLozkvJ"
   },
   "source": [
    "### Funciones/Métodos\n",
    "\n",
    "- Funciones/Métodos definen acciones sobre variables i.e suma, imprimir valor\n",
    "\n",
    "- Las funciones/métodos se deben llamar para realizar la acción y se deben specificar parametros"
   ]
  },
  {
   "cell_type": "code",
   "execution_count": null,
   "metadata": {
    "colab": {},
    "colab_type": "code",
    "id": "5Ky05PFlzkvK",
    "outputId": "03f7e282-b40c-462c-a788-fc5de8c8d379"
   },
   "outputs": [
    {
     "data": {
      "text/plain": [
       "124.23"
      ]
     },
     "execution_count": 38,
     "metadata": {
      "tags": []
     },
     "output_type": "execute_result"
    }
   ],
   "source": [
    "sum([a,b])"
   ]
  },
  {
   "cell_type": "code",
   "execution_count": null,
   "metadata": {
    "colab": {},
    "colab_type": "code",
    "id": "_RMvi1pKzkvN",
    "outputId": "07af81c7-db5b-4090-9de8-67b23ba882d8"
   },
   "outputs": [
    {
     "name": "stdout",
     "output_type": "stream",
     "text": [
      "Hola mundo!\n"
     ]
    }
   ],
   "source": [
    "print(c)"
   ]
  },
  {
   "cell_type": "markdown",
   "metadata": {
    "colab_type": "text",
    "id": "JtM8ldcpzkvR"
   },
   "source": [
    "- Las funciones se definen usando la palabra reservada en Python **def**:"
   ]
  },
  {
   "cell_type": "code",
   "execution_count": null,
   "metadata": {
    "colab": {},
    "colab_type": "code",
    "id": "eOQy6Oj8zkvS"
   },
   "outputs": [],
   "source": [
    "def suma_dos_numeros(a, b):\n",
    "    return a + b"
   ]
  },
  {
   "cell_type": "code",
   "execution_count": null,
   "metadata": {
    "colab": {},
    "colab_type": "code",
    "id": "sPp3_j6mzkvU"
   },
   "outputs": [],
   "source": [
    "def grita_hola():\n",
    "    print(\"Hola!!!!!!\")"
   ]
  },
  {
   "cell_type": "code",
   "execution_count": null,
   "metadata": {
    "colab": {},
    "colab_type": "code",
    "id": "kcYI05gfzkvX",
    "outputId": "edecad0a-717a-47c8-95ed-4744b4e2e13f"
   },
   "outputs": [
    {
     "data": {
      "text/plain": [
       "24"
      ]
     },
     "execution_count": 43,
     "metadata": {
      "tags": []
     },
     "output_type": "execute_result"
    }
   ],
   "source": [
    "suma_dos_numeros(12,12)"
   ]
  },
  {
   "cell_type": "code",
   "execution_count": null,
   "metadata": {
    "colab": {},
    "colab_type": "code",
    "id": "YYpR7t2Yzkvc",
    "outputId": "3ef89531-7781-4b01-a484-441f18143ff2"
   },
   "outputs": [
    {
     "name": "stdout",
     "output_type": "stream",
     "text": [
      "Hola!!!!!!\n"
     ]
    }
   ],
   "source": [
    "grita_hola()"
   ]
  },
  {
   "cell_type": "markdown",
   "metadata": {},
   "source": [
    "Puedes comprobar el tipo de una variable usando la funcion type()"
   ]
  },
  {
   "cell_type": "code",
   "execution_count": 2,
   "metadata": {
    "tags": []
   },
   "outputs": [
    {
     "data": {
      "text/plain": [
       "int"
      ]
     },
     "execution_count": 2,
     "metadata": {},
     "output_type": "execute_result"
    }
   ],
   "source": [
    "type(a)"
   ]
  },
  {
   "cell_type": "markdown",
   "metadata": {
    "colab_type": "text",
    "id": "KgJMcMZuzkvh"
   },
   "source": [
    "### Librerias\n",
    "\n",
    "- Programación es un esfuerzo colaborativo\n",
    "\n",
    "- Mucha gente define funciones que pueden ser utilizadas por todo el mundo\n",
    "\n",
    "- Estas funciones se agrupan en librerias que pueden utilizarse simplemente importandolas"
   ]
  },
  {
   "cell_type": "markdown",
   "metadata": {
    "colab_type": "text",
    "id": "OC6ILl_uzkvl"
   },
   "source": [
    "#### Importar Libreria"
   ]
  },
  {
   "cell_type": "code",
   "execution_count": null,
   "metadata": {
    "colab": {},
    "colab_type": "code",
    "id": "infA9qCYzkvo",
    "scrolled": true
   },
   "outputs": [],
   "source": [
    "import pandas as pd"
   ]
  },
  {
   "cell_type": "markdown",
   "metadata": {
    "colab_type": "text",
    "id": "AR9F-plYzkvx"
   },
   "source": [
    "#### Usar Libreria"
   ]
  },
  {
   "cell_type": "code",
   "execution_count": null,
   "metadata": {
    "colab": {},
    "colab_type": "code",
    "id": "25lUH1zbzkvy"
   },
   "outputs": [],
   "source": [
    "df = pd.DataFrame(np.random.randint(0,100,size=(100, 4)), columns=list('ABCD'))"
   ]
  },
  {
   "cell_type": "code",
   "execution_count": null,
   "metadata": {
    "colab": {},
    "colab_type": "code",
    "id": "A9BZFFoyzkv1",
    "outputId": "f570eac4-0e34-438c-e960-8377e22f31ae"
   },
   "outputs": [
    {
     "data": {
      "text/html": [
       "<div>\n",
       "<style scoped>\n",
       "    .dataframe tbody tr th:only-of-type {\n",
       "        vertical-align: middle;\n",
       "    }\n",
       "\n",
       "    .dataframe tbody tr th {\n",
       "        vertical-align: top;\n",
       "    }\n",
       "\n",
       "    .dataframe thead th {\n",
       "        text-align: right;\n",
       "    }\n",
       "</style>\n",
       "<table border=\"1\" class=\"dataframe\">\n",
       "  <thead>\n",
       "    <tr style=\"text-align: right;\">\n",
       "      <th></th>\n",
       "      <th>A</th>\n",
       "      <th>B</th>\n",
       "      <th>C</th>\n",
       "      <th>D</th>\n",
       "    </tr>\n",
       "  </thead>\n",
       "  <tbody>\n",
       "    <tr>\n",
       "      <th>0</th>\n",
       "      <td>73</td>\n",
       "      <td>36</td>\n",
       "      <td>73</td>\n",
       "      <td>86</td>\n",
       "    </tr>\n",
       "    <tr>\n",
       "      <th>1</th>\n",
       "      <td>26</td>\n",
       "      <td>27</td>\n",
       "      <td>98</td>\n",
       "      <td>64</td>\n",
       "    </tr>\n",
       "    <tr>\n",
       "      <th>2</th>\n",
       "      <td>16</td>\n",
       "      <td>89</td>\n",
       "      <td>27</td>\n",
       "      <td>46</td>\n",
       "    </tr>\n",
       "    <tr>\n",
       "      <th>3</th>\n",
       "      <td>98</td>\n",
       "      <td>72</td>\n",
       "      <td>89</td>\n",
       "      <td>62</td>\n",
       "    </tr>\n",
       "    <tr>\n",
       "      <th>4</th>\n",
       "      <td>46</td>\n",
       "      <td>98</td>\n",
       "      <td>62</td>\n",
       "      <td>45</td>\n",
       "    </tr>\n",
       "  </tbody>\n",
       "</table>\n",
       "</div>"
      ],
      "text/plain": [
       "    A   B   C   D\n",
       "0  73  36  73  86\n",
       "1  26  27  98  64\n",
       "2  16  89  27  46\n",
       "3  98  72  89  62\n",
       "4  46  98  62  45"
      ]
     },
     "execution_count": 50,
     "metadata": {
      "tags": []
     },
     "output_type": "execute_result"
    }
   ],
   "source": [
    "df.head()"
   ]
  },
  {
   "cell_type": "markdown",
   "metadata": {
    "colab_type": "text",
    "id": "v7Zmehq7zkv3"
   },
   "source": [
    "## Práctica"
   ]
  },
  {
   "cell_type": "markdown",
   "metadata": {
    "colab_type": "text",
    "id": "X_YAn50Xzkv5"
   },
   "source": [
    "### Usando Python como una Calculadora\n",
    "\n",
    "Usando los operadores en esta tabla, resuelve las operaciones matematicas de los ejercicios:\n",
    "\n",
    "|Asignar Valor | Suma | Resta | Multiplicación | División | Superíndice | \n",
    "|  :--------:  | :---:| :---: | :------------: | :------: | :---------: |\n",
    "|      =       |   +  |   -   |        *       |     /    |      **     |"
   ]
  },
  {
   "cell_type": "markdown",
   "metadata": {
    "colab_type": "text",
    "id": "TkTYFCHzzkv6"
   },
   "source": [
    "1. Cuánto es dos más tres?"
   ]
  },
  {
   "cell_type": "code",
   "execution_count": null,
   "metadata": {
    "colab": {},
    "colab_type": "code",
    "id": "rAkcobxhzkv6"
   },
   "outputs": [],
   "source": []
  },
  {
   "cell_type": "markdown",
   "metadata": {
    "colab_type": "text",
    "id": "h9hoUAB5zkv9"
   },
   "source": [
    "2. Cuánto es dos por tres?"
   ]
  },
  {
   "cell_type": "code",
   "execution_count": null,
   "metadata": {
    "colab": {},
    "colab_type": "code",
    "id": "5XDPim4wzkv-"
   },
   "outputs": [],
   "source": []
  },
  {
   "cell_type": "markdown",
   "metadata": {
    "colab_type": "text",
    "id": "3A61whGFzkwA"
   },
   "source": [
    "3. Cuánto es cuatro al cubo?"
   ]
  },
  {
   "cell_type": "code",
   "execution_count": null,
   "metadata": {
    "colab": {},
    "colab_type": "code",
    "id": "cDjl-u4OzkwB"
   },
   "outputs": [],
   "source": []
  },
  {
   "cell_type": "markdown",
   "metadata": {
    "colab_type": "text",
    "id": "nQCGf_PUzkwO"
   },
   "source": [
    "4. Cuanto es **X** menos 7, si  X es igual a 10?"
   ]
  },
  {
   "cell_type": "code",
   "execution_count": null,
   "metadata": {
    "colab": {},
    "colab_type": "code",
    "id": "Y6KQwsdTzkwQ"
   },
   "outputs": [],
   "source": []
  },
  {
   "cell_type": "code",
   "execution_count": null,
   "metadata": {
    "colab": {},
    "colab_type": "code",
    "id": "4BnMPsDZzkwU"
   },
   "outputs": [],
   "source": []
  },
  {
   "cell_type": "markdown",
   "metadata": {
    "colab_type": "text",
    "id": "Up261kupzkwY"
   },
   "source": [
    "#### Trabajando con Textos (string)\n",
    "\n",
    "Strings son datos en formato texto. Se pueden crear variables tipo string (texto) haciendo usod de commillas simples (e.g. 'Hi!') o comillas dobles (e.g. \"Hi!\")\n",
    "\n",
    "Se pueden usar algunos de los operadores que hemos visto anteriormente pero tienen un efecto distinto:\n",
    "\n",
    "|Asignar a una Variable| Concatenar String | Repetir un numero de veces |\n",
    "|  :----------------:  |  :------------:   |        :---------:         |\n",
    "|          =           |         +         |             *              |"
   ]
  },
  {
   "cell_type": "markdown",
   "metadata": {
    "colab_type": "text",
    "id": "FCUQdb5ozkwa"
   },
   "source": [
    "1. Haciendo uso de estos operadores, concatena estas dos variables"
   ]
  },
  {
   "cell_type": "code",
   "execution_count": null,
   "metadata": {
    "colab": {},
    "colab_type": "code",
    "id": "tduUWbSPzkwe"
   },
   "outputs": [],
   "source": [
    "saludos = \"Hola\"\n",
    "persona = \"Pepito\""
   ]
  },
  {
   "cell_type": "code",
   "execution_count": null,
   "metadata": {
    "colab": {},
    "colab_type": "code",
    "id": "aSZzsphezkwk"
   },
   "outputs": [],
   "source": []
  },
  {
   "cell_type": "markdown",
   "metadata": {
    "colab_type": "text",
    "id": "o5_gP7SLzkwn"
   },
   "source": [
    "2. Repite el saludo 3 veces"
   ]
  },
  {
   "cell_type": "code",
   "execution_count": null,
   "metadata": {
    "colab": {},
    "colab_type": "code",
    "id": "Qm_D8Agwzkwo"
   },
   "outputs": [],
   "source": []
  },
  {
   "cell_type": "markdown",
   "metadata": {
    "colab_type": "text",
    "id": "3uEqoGm0zkwr"
   },
   "source": [
    "**Algunos metodos utiles**\n",
    "\n",
    "Usa los metodos: **strip**, **swapcase**, **title**, **lower**, **upper**, y **zfill** para modificar los siguientes string:"
   ]
  },
  {
   "cell_type": "markdown",
   "metadata": {
    "colab_type": "text",
    "id": "O2CFFTBizkws"
   },
   "source": [
    "**\"Tengo hambre\"** -> **\"TENGO HAMBRE\"**"
   ]
  },
  {
   "cell_type": "code",
   "execution_count": null,
   "metadata": {
    "colab": {},
    "colab_type": "code",
    "id": "Zd7Oq0WAzkwt"
   },
   "outputs": [],
   "source": []
  },
  {
   "cell_type": "markdown",
   "metadata": {
    "colab_type": "text",
    "id": "Mb4T1I4qzkwv"
   },
   "source": [
    "**\"la reina de inglaterra\"** -> **\"La Reina De Inglaterra\"**"
   ]
  },
  {
   "cell_type": "code",
   "execution_count": null,
   "metadata": {
    "colab": {},
    "colab_type": "code",
    "id": "QKHOQZiOzkww"
   },
   "outputs": [],
   "source": []
  },
  {
   "cell_type": "markdown",
   "metadata": {
    "colab_type": "text",
    "id": "oZSDtHOhzkw2"
   },
   "source": [
    "**QUIEN quiere Programar?\"** -> **quien QUIERE pROGRAMAR?\"**"
   ]
  },
  {
   "cell_type": "code",
   "execution_count": null,
   "metadata": {
    "colab": {},
    "colab_type": "code",
    "id": "0svy1nfozkw3"
   },
   "outputs": [],
   "source": []
  },
  {
   "cell_type": "markdown",
   "metadata": {
    "colab_type": "text",
    "id": "mL6vin0tzkw6"
   },
   "source": [
    "#### Listas de Varios Elementos\n",
    "\n",
    "Las listas son sequencias de datos. Se contruyen utilizando: **[]** o **list()**. Se pueden concatenar como vimos en el caso de texto, pero pueden contener cualquier tipo de dato (texto, numeros, etc.). Los metodos que podemos utilizar son:\n",
    "\n",
    "| Metodo   |  Efecto                                  | \n",
    "| :-----:  |  :----------:                                  |\n",
    "| append() | Concatena un elemento a la lista        | \n",
    "| extend() | Concatena una lista a otra lista sequencialmente  | \n",
    "| remove() | Elimina un elemento de la lista                 |\n",
    "| clear()  | Vacia la lista              | \n",
    "| copy()   | Retorna una copia de la lista                    |\n",
    "| sort()   | Ordena la lista                               |\n",
    "| reverse()| Cambia el sentido de la lista       |"
   ]
  },
  {
   "cell_type": "markdown",
   "metadata": {
    "colab_type": "text",
    "id": "VjHrruKazkw6"
   },
   "source": [
    "**Ejemplo** Esto es una lista de 5 elementos"
   ]
  },
  {
   "cell_type": "code",
   "execution_count": null,
   "metadata": {
    "colab": {},
    "colab_type": "code",
    "id": "oMllx7gpzkw7"
   },
   "outputs": [],
   "source": [
    "mi_lista = ['a','b', 'c', 'd', 'e']"
   ]
  },
  {
   "cell_type": "code",
   "execution_count": null,
   "metadata": {
    "colab": {},
    "colab_type": "code",
    "id": "vp2tfaFGzkw9",
    "outputId": "84f08b6b-7bdc-4b7b-f7c6-d51d70d0ccdc"
   },
   "outputs": [
    {
     "data": {
      "text/plain": [
       "['a', 'b', 'c', 'd', 'e']"
      ]
     },
     "execution_count": 10,
     "metadata": {
      "tags": []
     },
     "output_type": "execute_result"
    }
   ],
   "source": [
    "mi_lista"
   ]
  },
  {
   "cell_type": "markdown",
   "metadata": {
    "colab_type": "text",
    "id": "G3OzE5YkzkxA"
   },
   "source": [
    "1. Haz una lista con tus tres peliculas favoritas"
   ]
  },
  {
   "cell_type": "code",
   "execution_count": null,
   "metadata": {
    "colab": {},
    "colab_type": "code",
    "id": "D0MbXFyGzkxB"
   },
   "outputs": [],
   "source": []
  },
  {
   "cell_type": "markdown",
   "metadata": {
    "colab_type": "text",
    "id": "2a1NqguIzkxD"
   },
   "source": [
    "2. Tu experimento tiene 3 muestras (muestra_A, muestra_B y muestra_D) contruye una lista"
   ]
  },
  {
   "cell_type": "code",
   "execution_count": null,
   "metadata": {
    "colab": {},
    "colab_type": "code",
    "id": "lLIZn6-wzkxE"
   },
   "outputs": [],
   "source": []
  },
  {
   "cell_type": "markdown",
   "metadata": {
    "colab_type": "text",
    "id": "0z27fH3azkxH"
   },
   "source": [
    "3. Añade una muestra más: muestra_C"
   ]
  },
  {
   "cell_type": "code",
   "execution_count": null,
   "metadata": {
    "colab": {},
    "colab_type": "code",
    "id": "-3z_orT8zkxH"
   },
   "outputs": [],
   "source": []
  },
  {
   "cell_type": "markdown",
   "metadata": {
    "colab_type": "text",
    "id": "37l54h8azk19"
   },
   "source": [
    "4. Ordena la lista de muestras"
   ]
  },
  {
   "cell_type": "code",
   "execution_count": null,
   "metadata": {
    "colab": {},
    "colab_type": "code",
    "id": "Imt2zx2Wzk1-"
   },
   "outputs": [],
   "source": []
  },
  {
   "cell_type": "markdown",
   "metadata": {
    "colab_type": "text",
    "id": "aBqpQS6Hzk2A"
   },
   "source": [
    "5. Incluye en tu lista de muestras otras dos nuevas muestras recolectadas: muestra_E, muestra_F"
   ]
  },
  {
   "cell_type": "code",
   "execution_count": null,
   "metadata": {
    "colab": {},
    "colab_type": "code",
    "id": "PUlLKUhRzk2C"
   },
   "outputs": [],
   "source": [
    "nuevas_muestras = ['muestra_E', 'muestra_F']"
   ]
  },
  {
   "cell_type": "code",
   "execution_count": null,
   "metadata": {
    "colab": {},
    "colab_type": "code",
    "id": "B3J2Witrzk2F"
   },
   "outputs": [],
   "source": []
  },
  {
   "cell_type": "markdown",
   "metadata": {
    "colab_type": "text",
    "id": "5VvX0bg9zk4K"
   },
   "source": [
    "### Más Recursos\n",
    "\n",
    "  - String Methods: https://docs.python.org/3/library/stdtypes.html#string-methods\n",
    "  \n",
    "  - Python Strings: https://realpython.com/python-strings/\n",
    "   \n",
    "  - Python Lists: https://realpython.com/python-lists-tuples/\n"
   ]
  }
 ],
 "metadata": {
  "colab": {
   "collapsed_sections": [
    "OC6ILl_uzkvl",
    "AR9F-plYzkvx",
    "Up261kupzkwY",
    "mL6vin0tzkw6"
   ],
   "name": "Conceptos Básicos.ipynb",
   "provenance": []
  },
  "kernelspec": {
   "display_name": "Python 3 (ipykernel)",
   "language": "python",
   "name": "python3"
  },
  "language_info": {
   "codemirror_mode": {
    "name": "ipython",
    "version": 3
   },
   "file_extension": ".py",
   "mimetype": "text/x-python",
   "name": "python",
   "nbconvert_exporter": "python",
   "pygments_lexer": "ipython3",
   "version": "3.11.0"
  }
 },
 "nbformat": 4,
 "nbformat_minor": 4
}
