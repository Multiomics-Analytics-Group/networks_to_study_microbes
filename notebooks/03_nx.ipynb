{
 "cells": [
  {
   "cell_type": "markdown",
   "metadata": {
    "colab_type": "text",
    "id": "vaGcvsgkXl1w"
   },
   "source": [
    "<img src=\"https://github.com/Multiomics-Analytics-Group/networks_to_study_microbes/blob/main/figures/cfb.png?raw=1\" width=\"300\">\n",
    "\n",
    "\n",
    "[![Open In Colab](https://colab.research.google.com/assets/colab-badge.svg)](https://colab.research.google.com/github/Multiomics-Analytics-Group/networks_to_study_microbes/blob/main/notebooks/03_nx.ipynb)\n",
    "\n",
    "# Networks to Study Microbes\n"
   ]
  },
  {
   "cell_type": "markdown",
   "metadata": {
    "colab_type": "text",
    "id": "o_31xJ2zXl1y"
   },
   "source": [
    "# Introducción a Netwokx (Network Analysis)"
   ]
  },
  {
   "cell_type": "markdown",
   "metadata": {
    "colab_type": "text",
    "id": "AQFy5DbuXl1z"
   },
   "source": [
    "Networkx es una libreria que te permite construir y analizar redes de todo tipo.\n",
    "\n",
    "Provee un marco de:\n",
    "- Creación de redes\n",
    "- Analisis de redes haciendo uso de algoritmos de grafos\n",
    "- Visualizacion\n",
    "- Interfaz de connexión con otros software de redes"
   ]
  },
  {
   "cell_type": "markdown",
   "metadata": {
    "colab_type": "text",
    "id": "qZmY77W8Xl10"
   },
   "source": [
    "## Objectivos\n",
    "\n",
    "- Creación de una Red\n",
    "- Manipulación de Nodos y Ejes\n",
    "- Atributos de Nodes y Ejes\n",
    "- Visualización"
   ]
  },
  {
   "cell_type": "markdown",
   "metadata": {
    "colab_type": "text",
    "id": "XQVRPoRFXl11"
   },
   "source": [
    "## Creación de una Red\n",
    "\n",
    "Creamos una red vacia (sin nodos)."
   ]
  },
  {
   "cell_type": "code",
   "execution_count": null,
   "metadata": {
    "colab": {},
    "colab_type": "code",
    "id": "wycMC4vZXl12",
    "tags": []
   },
   "outputs": [],
   "source": [
    "import networkx as nx"
   ]
  },
  {
   "cell_type": "code",
   "execution_count": null,
   "metadata": {
    "colab": {},
    "colab_type": "code",
    "id": "PlL1vKdXXl15",
    "tags": []
   },
   "outputs": [],
   "source": [
    "G = nx.Graph()"
   ]
  },
  {
   "cell_type": "markdown",
   "metadata": {
    "colab_type": "text",
    "id": "6iYVuuAeXl18"
   },
   "source": [
    "### Añadir Nodos"
   ]
  },
  {
   "cell_type": "markdown",
   "metadata": {
    "colab_type": "text",
    "id": "jQLxMxWtXl18"
   },
   "source": [
    "**Un único nodo**"
   ]
  },
  {
   "cell_type": "code",
   "execution_count": null,
   "metadata": {
    "colab": {},
    "colab_type": "code",
    "id": "kNmcTfiDXl19"
   },
   "outputs": [],
   "source": [
    "G.add_node(1)"
   ]
  },
  {
   "cell_type": "markdown",
   "metadata": {
    "colab_type": "text",
    "id": "VkhNuCsxXl1_"
   },
   "source": [
    "**Varios nodos a la vez (lista)**"
   ]
  },
  {
   "cell_type": "code",
   "execution_count": null,
   "metadata": {
    "colab": {},
    "colab_type": "code",
    "id": "1TWn16JWXl2A"
   },
   "outputs": [],
   "source": [
    "G.add_nodes_from([2, 3])"
   ]
  },
  {
   "cell_type": "markdown",
   "metadata": {
    "colab_type": "text",
    "id": "fY6MaiqiXl2C"
   },
   "source": [
    "**Numero de nodos**"
   ]
  },
  {
   "cell_type": "code",
   "execution_count": null,
   "metadata": {
    "colab": {
     "base_uri": "https://localhost:8080/",
     "height": 34
    },
    "colab_type": "code",
    "executionInfo": {
     "elapsed": 8283,
     "status": "ok",
     "timestamp": 1572837138338,
     "user": {
      "displayName": "YESID CUESTA ASTROZ",
      "photoUrl": "https://lh3.googleusercontent.com/a-/AAuE7mDdTiw9DbxZnDbgUb_pAygni2zSVdCIvONzgx4=s64",
      "userId": "10363918808048566473"
     },
     "user_tz": 300
    },
    "id": "rxADHGtqXl2D",
    "outputId": "d2a9052d-20ef-4b88-a0bc-433ee8de9284"
   },
   "outputs": [],
   "source": [
    "G.number_of_nodes()"
   ]
  },
  {
   "cell_type": "markdown",
   "metadata": {
    "colab_type": "text",
    "id": "kRiEcHE6Xl2F"
   },
   "source": [
    "### Añadir Ejes"
   ]
  },
  {
   "cell_type": "markdown",
   "metadata": {
    "colab_type": "text",
    "id": "fvXx6fSEXl2G"
   },
   "source": [
    "**Un único eje**"
   ]
  },
  {
   "cell_type": "code",
   "execution_count": null,
   "metadata": {
    "colab": {},
    "colab_type": "code",
    "id": "eM9F55vTXl2G"
   },
   "outputs": [],
   "source": [
    "G.add_edge(1, 2)"
   ]
  },
  {
   "cell_type": "markdown",
   "metadata": {
    "colab_type": "text",
    "id": "SdGpTWQTXl2I"
   },
   "source": [
    "**Varios ejes a la vez (lista)**"
   ]
  },
  {
   "cell_type": "code",
   "execution_count": null,
   "metadata": {
    "colab": {},
    "colab_type": "code",
    "id": "2p9hyqJXXl2J"
   },
   "outputs": [],
   "source": [
    "G.add_edges_from([(1, 2),(1, 3)])"
   ]
  },
  {
   "cell_type": "markdown",
   "metadata": {
    "colab_type": "text",
    "id": "l-xOWQ1fXl2L"
   },
   "source": [
    "**Numero de ejes**"
   ]
  },
  {
   "cell_type": "code",
   "execution_count": null,
   "metadata": {
    "colab": {
     "base_uri": "https://localhost:8080/",
     "height": 34
    },
    "colab_type": "code",
    "executionInfo": {
     "elapsed": 8268,
     "status": "ok",
     "timestamp": 1572837138342,
     "user": {
      "displayName": "YESID CUESTA ASTROZ",
      "photoUrl": "https://lh3.googleusercontent.com/a-/AAuE7mDdTiw9DbxZnDbgUb_pAygni2zSVdCIvONzgx4=s64",
      "userId": "10363918808048566473"
     },
     "user_tz": 300
    },
    "id": "K6X0T921Xl2L",
    "outputId": "733a8acd-d421-406a-bb49-b8b94b32330d"
   },
   "outputs": [],
   "source": [
    "G.number_of_edges()"
   ]
  },
  {
   "cell_type": "markdown",
   "metadata": {
    "colab_type": "text",
    "id": "FdiZv-69Xl2N"
   },
   "source": [
    "**Lista de nodes adyacentes**"
   ]
  },
  {
   "cell_type": "code",
   "execution_count": null,
   "metadata": {
    "colab": {
     "base_uri": "https://localhost:8080/",
     "height": 34
    },
    "colab_type": "code",
    "executionInfo": {
     "elapsed": 8258,
     "status": "ok",
     "timestamp": 1572837138343,
     "user": {
      "displayName": "YESID CUESTA ASTROZ",
      "photoUrl": "https://lh3.googleusercontent.com/a-/AAuE7mDdTiw9DbxZnDbgUb_pAygni2zSVdCIvONzgx4=s64",
      "userId": "10363918808048566473"
     },
     "user_tz": 300
    },
    "id": "6O0S70mDXl2O",
    "outputId": "005e772c-fac8-4761-d616-2822d329be0f"
   },
   "outputs": [],
   "source": [
    "list(G.neighbors(1))"
   ]
  },
  {
   "cell_type": "markdown",
   "metadata": {
    "colab_type": "text",
    "id": "TMeC7f5MXl2Q"
   },
   "source": [
    "**Número de nodos adyacentes (grado)**"
   ]
  },
  {
   "cell_type": "code",
   "execution_count": null,
   "metadata": {
    "colab": {
     "base_uri": "https://localhost:8080/",
     "height": 34
    },
    "colab_type": "code",
    "executionInfo": {
     "elapsed": 8250,
     "status": "ok",
     "timestamp": 1572837138344,
     "user": {
      "displayName": "YESID CUESTA ASTROZ",
      "photoUrl": "https://lh3.googleusercontent.com/a-/AAuE7mDdTiw9DbxZnDbgUb_pAygni2zSVdCIvONzgx4=s64",
      "userId": "10363918808048566473"
     },
     "user_tz": 300
    },
    "id": "mrR0Tf-5Xl2Q",
    "outputId": "540d880f-5595-4e8a-ed98-1f8456080c6b"
   },
   "outputs": [],
   "source": [
    "list(nx.degree(G))"
   ]
  },
  {
   "cell_type": "markdown",
   "metadata": {
    "colab_type": "text",
    "id": "HAQTrM4yXl2S"
   },
   "source": [
    "## Atributos de Nodos y Ejes"
   ]
  },
  {
   "cell_type": "markdown",
   "metadata": {
    "colab_type": "text",
    "id": "Nc4NzwUmXl2T"
   },
   "source": [
    "### Atributos de nodo"
   ]
  },
  {
   "cell_type": "code",
   "execution_count": null,
   "metadata": {
    "colab": {},
    "colab_type": "code",
    "id": "Osm99FxhXl2T"
   },
   "outputs": [],
   "source": [
    "G.add_node(1, nombre='Primero')"
   ]
  },
  {
   "cell_type": "code",
   "execution_count": null,
   "metadata": {
    "colab": {},
    "colab_type": "code",
    "id": "wKWyBh9XXl2V"
   },
   "outputs": [],
   "source": [
    "G.add_node(2, nombre='Segundo')"
   ]
  },
  {
   "cell_type": "markdown",
   "metadata": {
    "colab_type": "text",
    "id": "owNCnsDvXl2X"
   },
   "source": [
    "**Mostrar atributos**"
   ]
  },
  {
   "cell_type": "code",
   "execution_count": null,
   "metadata": {
    "colab": {
     "base_uri": "https://localhost:8080/",
     "height": 34
    },
    "colab_type": "code",
    "executionInfo": {
     "elapsed": 8234,
     "status": "ok",
     "timestamp": 1572837138347,
     "user": {
      "displayName": "YESID CUESTA ASTROZ",
      "photoUrl": "https://lh3.googleusercontent.com/a-/AAuE7mDdTiw9DbxZnDbgUb_pAygni2zSVdCIvONzgx4=s64",
      "userId": "10363918808048566473"
     },
     "user_tz": 300
    },
    "id": "osDhBzd3Xl2Y",
    "outputId": "d3e4093a-4e19-49da-ff98-61eccad06cae"
   },
   "outputs": [],
   "source": [
    "list(G.nodes(data=True))"
   ]
  },
  {
   "cell_type": "markdown",
   "metadata": {
    "colab_type": "text",
    "id": "ug4Ud-65Xl2a"
   },
   "source": [
    "### Atributos de eje"
   ]
  },
  {
   "cell_type": "code",
   "execution_count": null,
   "metadata": {
    "colab": {},
    "colab_type": "code",
    "id": "tmVPDc8HXl2a"
   },
   "outputs": [],
   "source": [
    "G.add_edge(1, 2, peso=5.7, color='azul')"
   ]
  },
  {
   "cell_type": "code",
   "execution_count": null,
   "metadata": {
    "colab": {},
    "colab_type": "code",
    "id": "6lCpo9mmXl2c"
   },
   "outputs": [],
   "source": [
    "G.add_edges_from([(3, 4), (4, 5)], color='rojo', peso=2.)"
   ]
  },
  {
   "cell_type": "code",
   "execution_count": null,
   "metadata": {},
   "outputs": [],
   "source": [
    "G.add_edges_from([(3, 1), (1, 5)], color='azul', peso=2.)"
   ]
  },
  {
   "cell_type": "markdown",
   "metadata": {
    "colab_type": "text",
    "id": "UUTNOdoVXl2f"
   },
   "source": [
    "**Listar atributos de los ejes**"
   ]
  },
  {
   "cell_type": "code",
   "execution_count": null,
   "metadata": {
    "colab": {
     "base_uri": "https://localhost:8080/",
     "height": 85
    },
    "colab_type": "code",
    "executionInfo": {
     "elapsed": 8212,
     "status": "ok",
     "timestamp": 1572837138349,
     "user": {
      "displayName": "YESID CUESTA ASTROZ",
      "photoUrl": "https://lh3.googleusercontent.com/a-/AAuE7mDdTiw9DbxZnDbgUb_pAygni2zSVdCIvONzgx4=s64",
      "userId": "10363918808048566473"
     },
     "user_tz": 300
    },
    "id": "1nhoGADUXl2h",
    "outputId": "59597ed7-30a5-405b-a188-37cbbef80441"
   },
   "outputs": [],
   "source": [
    "list(G.edges(data=True))"
   ]
  },
  {
   "cell_type": "markdown",
   "metadata": {
    "colab_type": "text",
    "id": "vuF__y5_Xl2k"
   },
   "source": [
    "## Visualización"
   ]
  },
  {
   "cell_type": "code",
   "execution_count": null,
   "metadata": {
    "colab": {},
    "colab_type": "code",
    "id": "ysUB3RRRXl2m"
   },
   "outputs": [],
   "source": [
    "import matplotlib.pyplot as plt\n",
    "%matplotlib inline"
   ]
  },
  {
   "cell_type": "markdown",
   "metadata": {
    "colab_type": "text",
    "id": "k3UEGF55Xl2n"
   },
   "source": [
    "**Visualización con layout por defecto**"
   ]
  },
  {
   "cell_type": "code",
   "execution_count": null,
   "metadata": {
    "colab": {
     "base_uri": "https://localhost:8080/",
     "height": 319
    },
    "colab_type": "code",
    "executionInfo": {
     "elapsed": 8201,
     "status": "ok",
     "timestamp": 1572837138352,
     "user": {
      "displayName": "YESID CUESTA ASTROZ",
      "photoUrl": "https://lh3.googleusercontent.com/a-/AAuE7mDdTiw9DbxZnDbgUb_pAygni2zSVdCIvONzgx4=s64",
      "userId": "10363918808048566473"
     },
     "user_tz": 300
    },
    "id": "yiCo_qB4Xl2o",
    "outputId": "b5b5f9a1-a011-4481-c96d-42fa29c28f0e"
   },
   "outputs": [],
   "source": [
    "nx.draw(G)"
   ]
  },
  {
   "cell_type": "markdown",
   "metadata": {},
   "source": [
    "**Visualizacion con labels**"
   ]
  },
  {
   "cell_type": "code",
   "execution_count": null,
   "metadata": {},
   "outputs": [],
   "source": [
    "nx.draw_networkx(G)"
   ]
  },
  {
   "cell_type": "markdown",
   "metadata": {
    "colab_type": "text",
    "id": "NH3UNuM0Xl2q"
   },
   "source": [
    "**Visualización con layout spectral**"
   ]
  },
  {
   "cell_type": "code",
   "execution_count": null,
   "metadata": {
    "colab": {
     "base_uri": "https://localhost:8080/",
     "height": 319
    },
    "colab_type": "code",
    "executionInfo": {
     "elapsed": 8784,
     "status": "ok",
     "timestamp": 1572837138945,
     "user": {
      "displayName": "YESID CUESTA ASTROZ",
      "photoUrl": "https://lh3.googleusercontent.com/a-/AAuE7mDdTiw9DbxZnDbgUb_pAygni2zSVdCIvONzgx4=s64",
      "userId": "10363918808048566473"
     },
     "user_tz": 300
    },
    "id": "tBA1w6kbXl2q",
    "outputId": "87e1422f-5e86-4c03-fa00-aad49ceb30a1"
   },
   "outputs": [],
   "source": [
    "nx.draw_spectral(G)"
   ]
  },
  {
   "cell_type": "markdown",
   "metadata": {
    "colab_type": "text",
    "id": "Fs52RNGLXl2s"
   },
   "source": [
    "**Visualización con layout circular**"
   ]
  },
  {
   "cell_type": "code",
   "execution_count": null,
   "metadata": {
    "colab": {
     "base_uri": "https://localhost:8080/",
     "height": 319
    },
    "colab_type": "code",
    "executionInfo": {
     "elapsed": 8776,
     "status": "ok",
     "timestamp": 1572837138946,
     "user": {
      "displayName": "YESID CUESTA ASTROZ",
      "photoUrl": "https://lh3.googleusercontent.com/a-/AAuE7mDdTiw9DbxZnDbgUb_pAygni2zSVdCIvONzgx4=s64",
      "userId": "10363918808048566473"
     },
     "user_tz": 300
    },
    "id": "xcqE2HtNXl2t",
    "outputId": "725947f4-ac33-4dcf-de82-480325eae7fb"
   },
   "outputs": [],
   "source": [
    "nx.draw_circular(G)"
   ]
  },
  {
   "cell_type": "markdown",
   "metadata": {
    "colab_type": "text",
    "id": "8yNU-E_bXl2u"
   },
   "source": [
    "## Práctica"
   ]
  },
  {
   "cell_type": "markdown",
   "metadata": {
    "colab_type": "text",
    "id": "8G8VKT6sXl2v"
   },
   "source": [
    "1. Crea una red con 10 nodos (path_graph)"
   ]
  },
  {
   "cell_type": "code",
   "execution_count": null,
   "metadata": {
    "colab": {},
    "colab_type": "code",
    "id": "bnjWqJ6FXl2v"
   },
   "outputs": [],
   "source": []
  },
  {
   "cell_type": "markdown",
   "metadata": {
    "colab_type": "text",
    "id": "GsR2ggd9Xl2x"
   },
   "source": [
    "2. Connecta los nodos de forma que todos los nodos tengan al menos grado 2 (degree)"
   ]
  },
  {
   "cell_type": "code",
   "execution_count": null,
   "metadata": {
    "colab": {},
    "colab_type": "code",
    "id": "XpIGdnkHXl2x"
   },
   "outputs": [],
   "source": []
  },
  {
   "cell_type": "markdown",
   "metadata": {
    "colab_type": "text",
    "id": "yTMejNGLXl2z"
   },
   "source": [
    "3. Añade color como atributo de los nodos 1 a "
   ]
  },
  {
   "cell_type": "code",
   "execution_count": null,
   "metadata": {
    "colab": {},
    "colab_type": "code",
    "id": "ujUI3pYaXl20"
   },
   "outputs": [],
   "source": []
  },
  {
   "cell_type": "markdown",
   "metadata": {
    "colab_type": "text",
    "id": "KFv4fWW2Xl22"
   },
   "source": [
    "4. Añade peso a los ejes entre nodos (1,2), (2,3), (3,4)"
   ]
  },
  {
   "cell_type": "code",
   "execution_count": null,
   "metadata": {
    "colab": {},
    "colab_type": "code",
    "id": "zTnFaZ5pXl22"
   },
   "outputs": [],
   "source": []
  },
  {
   "cell_type": "markdown",
   "metadata": {
    "colab_type": "text",
    "id": "hWYrwbQBXl24"
   },
   "source": [
    "5. Viasualiza la red con varios layout"
   ]
  },
  {
   "cell_type": "code",
   "execution_count": null,
   "metadata": {
    "colab": {},
    "colab_type": "code",
    "id": "G5BWza3vXl24"
   },
   "outputs": [],
   "source": []
  },
  {
   "cell_type": "markdown",
   "metadata": {
    "colab_type": "text",
    "id": "o-s1lxRuXl26"
   },
   "source": [
    "## Cargando Datos Externos\n",
    "\n",
    "Cargamos los datos del articulo *High-Quality Binary Protein Interaction Map of the Yeast Interactome Network* para crear una red con Networkx."
   ]
  },
  {
   "cell_type": "markdown",
   "metadata": {
    "colab_type": "text",
    "id": "ZqE9aAGmXl28"
   },
   "source": [
    "### Leer Datos con Pandas\n",
    "\n",
    "**Ficheros Comma Separated/Tab Separated (.csv, .tsv)**"
   ]
  },
  {
   "cell_type": "code",
   "execution_count": null,
   "metadata": {
    "colab": {},
    "colab_type": "code",
    "id": "cweyacBBXl29"
   },
   "outputs": [],
   "source": [
    "import pandas as pd"
   ]
  },
  {
   "cell_type": "code",
   "execution_count": null,
   "metadata": {
    "colab": {
     "base_uri": "https://localhost:8080/",
     "height": 204
    },
    "colab_type": "code",
    "executionInfo": {
     "elapsed": 238332,
     "status": "ok",
     "timestamp": 1572837368554,
     "user": {
      "displayName": "YESID CUESTA ASTROZ",
      "photoUrl": "https://lh3.googleusercontent.com/a-/AAuE7mDdTiw9DbxZnDbgUb_pAygni2zSVdCIvONzgx4=s64",
      "userId": "10363918808048566473"
     },
     "user_tz": 300
    },
    "id": "yUpzwtutXl2_",
    "outputId": "d68fd404-2196-4c91-fe09-7f93a3f219ec"
   },
   "outputs": [],
   "source": [
    "df = pd.read_csv('https://raw.githubusercontent.com/Multiomics-Analytics-Group/networks_to_study_microbes/main/example_data/PPI-TranscriptomicData/Yu2008Science.tsv',sep='\\t', header=None)\n",
    "df.head()"
   ]
  },
  {
   "cell_type": "markdown",
   "metadata": {
    "colab_type": "text",
    "id": "R2H9EEzcXl3D"
   },
   "source": [
    "### Convertir Data Frame en un Grafo de Networkx"
   ]
  },
  {
   "cell_type": "code",
   "execution_count": null,
   "metadata": {
    "colab": {},
    "colab_type": "code",
    "id": "Tah1CTKYXl3D"
   },
   "outputs": [],
   "source": [
    "G=nx.from_pandas_edgelist(df, \"SOURCE\", \"TARGET\")"
   ]
  },
  {
   "cell_type": "markdown",
   "metadata": {
    "colab_type": "text",
    "id": "ka5wb2oFXl3E"
   },
   "source": [
    "### Visualizar Grafo"
   ]
  },
  {
   "cell_type": "code",
   "execution_count": null,
   "metadata": {
    "colab": {
     "base_uri": "https://localhost:8080/",
     "height": 0
    },
    "colab_type": "code",
    "executionInfo": {
     "elapsed": 246670,
     "status": "ok",
     "timestamp": 1572837376906,
     "user": {
      "displayName": "YESID CUESTA ASTROZ",
      "photoUrl": "https://lh3.googleusercontent.com/a-/AAuE7mDdTiw9DbxZnDbgUb_pAygni2zSVdCIvONzgx4=s64",
      "userId": "10363918808048566473"
     },
     "user_tz": 300
    },
    "id": "oifnKdl0Xl3F",
    "outputId": "0839ce15-e6ea-4db1-c4e6-a75db54d7056"
   },
   "outputs": [],
   "source": [
    "nx.draw(G)"
   ]
  },
  {
   "cell_type": "markdown",
   "metadata": {
    "colab_type": "text",
    "id": "1XcKS-1TXl3G"
   },
   "source": [
    "### Identificar Comunidades en la Red"
   ]
  },
  {
   "cell_type": "markdown",
   "metadata": {
    "colab_type": "text",
    "id": "xVZ0y76CXl3G"
   },
   "source": [
    "Las comunidades o módulos de una red son subconjuntos de nodos que tienen mayor densidad de conexiones internas que con el resto de la red. La identificación de estos módulos puede interpretarse como relaciones funcionales, similitud, o clasificación.\n",
    "\n",
    "Aquí usaremos un conocido método de identificación de comunidades, el método Louvain, empleado para extraer comunidades en redes de gran tamaño. Este método optimiza el proceso de modularidad, que mide la densidad de ejes dentro de la comunidad con respecto a ejes fuera de la comunidad. La optimización de este proceso result en teoricamente en la mejor agrupación de nodos en comunidades. https://es.wikipedia.org/wiki/M%C3%A9todo_de_Louvain"
   ]
  },
  {
   "cell_type": "code",
   "execution_count": null,
   "metadata": {
    "colab": {},
    "colab_type": "code",
    "id": "4AyZywm2Xl3H"
   },
   "outputs": [],
   "source": [
    "import community\n",
    "comunidades = community.best_partition(G)"
   ]
  },
  {
   "cell_type": "markdown",
   "metadata": {
    "colab_type": "text",
    "id": "YLlyuf_UXl3J"
   },
   "source": [
    "### Convertimos en un Data Frame"
   ]
  },
  {
   "cell_type": "code",
   "execution_count": null,
   "metadata": {
    "colab": {},
    "colab_type": "code",
    "id": "cNSMjRrnXl3L"
   },
   "outputs": [],
   "source": [
    "comunidades_df = pd.DataFrame.from_dict(comunidades,orient='index')"
   ]
  },
  {
   "cell_type": "markdown",
   "metadata": {
    "colab_type": "text",
    "id": "luY_UucOXl3M"
   },
   "source": [
    "### Visualizar una Comunidad"
   ]
  },
  {
   "cell_type": "code",
   "execution_count": null,
   "metadata": {
    "colab": {},
    "colab_type": "code",
    "id": "cBxHpr2NXl3Q"
   },
   "outputs": [],
   "source": [
    "nodos_comunidad = comunidades_df[comunidades_df[0] == 0].index.tolist()"
   ]
  },
  {
   "cell_type": "code",
   "execution_count": null,
   "metadata": {
    "colab": {
     "base_uri": "https://localhost:8080/",
     "height": 0
    },
    "colab_type": "code",
    "executionInfo": {
     "elapsed": 249116,
     "status": "ok",
     "timestamp": 1572837379377,
     "user": {
      "displayName": "YESID CUESTA ASTROZ",
      "photoUrl": "https://lh3.googleusercontent.com/a-/AAuE7mDdTiw9DbxZnDbgUb_pAygni2zSVdCIvONzgx4=s64",
      "userId": "10363918808048566473"
     },
     "user_tz": 300
    },
    "id": "XtgPk2miXl3S",
    "outputId": "feab02e7-b4fc-45b0-abee-7a5f8d7a9b36"
   },
   "outputs": [],
   "source": [
    "nodos_comunidad"
   ]
  },
  {
   "cell_type": "markdown",
   "metadata": {
    "colab_type": "text",
    "id": "IBFjBrcnXl3T"
   },
   "source": [
    "### Obtener Subgraph Comunidad"
   ]
  },
  {
   "cell_type": "code",
   "execution_count": null,
   "metadata": {
    "colab": {},
    "colab_type": "code",
    "id": "JnzaV49SXl3U"
   },
   "outputs": [],
   "source": [
    "C = G.subgraph(nodos_comunidad)"
   ]
  },
  {
   "cell_type": "markdown",
   "metadata": {
    "colab_type": "text",
    "id": "JNURdeT9Xl3V"
   },
   "source": [
    "### Visualizar Comunidad"
   ]
  },
  {
   "cell_type": "code",
   "execution_count": null,
   "metadata": {
    "colab": {
     "base_uri": "https://localhost:8080/",
     "height": 0
    },
    "colab_type": "code",
    "executionInfo": {
     "elapsed": 249633,
     "status": "ok",
     "timestamp": 1572837379911,
     "user": {
      "displayName": "YESID CUESTA ASTROZ",
      "photoUrl": "https://lh3.googleusercontent.com/a-/AAuE7mDdTiw9DbxZnDbgUb_pAygni2zSVdCIvONzgx4=s64",
      "userId": "10363918808048566473"
     },
     "user_tz": 300
    },
    "id": "D2HE-xwrXl3V",
    "outputId": "40501a8c-a4f0-48ef-f148-16656caa54fb"
   },
   "outputs": [],
   "source": [
    "nx.draw(C)"
   ]
  },
  {
   "cell_type": "markdown",
   "metadata": {},
   "source": [
    "# Otras librerias para visualizacion de redes"
   ]
  },
  {
   "cell_type": "markdown",
   "metadata": {
    "tags": []
   },
   "source": [
    "## PyVis\n",
    "\n",
    "Visualizacion de redes interactivas -- https://pyvis.readthedocs.io/en/latest/index.html"
   ]
  },
  {
   "cell_type": "code",
   "execution_count": null,
   "metadata": {
    "tags": []
   },
   "outputs": [],
   "source": [
    "from pyvis.network import Network\n",
    "from IPython.core.display import display, HTML"
   ]
  },
  {
   "cell_type": "code",
   "execution_count": 54,
   "metadata": {
    "tags": []
   },
   "outputs": [
    {
     "name": "stdout",
     "output_type": "stream",
     "text": [
      "Local cdn resources have problems on chrome/safari when used in jupyter-notebook. \n"
     ]
    },
    {
     "data": {
      "text/html": [
       "\n",
       "        <iframe\n",
       "            width=\"500px\"\n",
       "            height=\"500px\"\n",
       "            src=\"nx.html\"\n",
       "            frameborder=\"0\"\n",
       "            allowfullscreen\n",
       "            \n",
       "        ></iframe>\n",
       "        "
      ],
      "text/plain": [
       "<IPython.lib.display.IFrame at 0x14770cd50>"
      ]
     },
     "execution_count": 54,
     "metadata": {},
     "output_type": "execute_result"
    }
   ],
   "source": [
    "G = nx.barabasi_albert_graph(100,m=1)\n",
    "nt = Network('500px', '500px', notebook=True)\n",
    "nt.from_nx(G)\n",
    "nt.show('nx.html')"
   ]
  },
  {
   "cell_type": "markdown",
   "metadata": {},
   "source": [
    "## Usando Atributos"
   ]
  },
  {
   "cell_type": "markdown",
   "metadata": {
    "tags": []
   },
   "source": [
    "Pyvis permite utilizar atributos asociados a los nodos que permiten modificar el aspecto de estos nodos.\n",
    "\n",
    "Los atributos son:\n",
    "\n",
    "**['size', 'value', 'title', 'x', 'y', 'label', 'color']**"
   ]
  },
  {
   "cell_type": "code",
   "execution_count": 63,
   "metadata": {
    "tags": []
   },
   "outputs": [
    {
     "name": "stdout",
     "output_type": "stream",
     "text": [
      "Local cdn resources have problems on chrome/safari when used in jupyter-notebook. \n"
     ]
    },
    {
     "data": {
      "text/html": [
       "\n",
       "        <iframe\n",
       "            width=\"500px\"\n",
       "            height=\"500px\"\n",
       "            src=\"nx.html\"\n",
       "            frameborder=\"0\"\n",
       "            allowfullscreen\n",
       "            \n",
       "        ></iframe>\n",
       "        "
      ],
      "text/plain": [
       "<IPython.lib.display.IFrame at 0x161eb42d0>"
      ]
     },
     "execution_count": 63,
     "metadata": {},
     "output_type": "execute_result"
    }
   ],
   "source": [
    "nx_graph = nx.cycle_graph(6)\n",
    "nx_graph.nodes[1]['title'] = 'Francisco'\n",
    "nx_graph.nodes[1]['group'] = 1\n",
    "nx_graph.nodes[2]['title'] = 'Monica'\n",
    "nx_graph.nodes[2]['group'] = 1\n",
    "nx_graph.nodes[3]['title'] = 'Matias'\n",
    "nx_graph.nodes[3]['group'] = 2\n",
    "nx_graph.nodes[4]['title'] = 'Sergio'\n",
    "nx_graph.nodes[4]['group'] = 2\n",
    "nx_graph.nodes[5]['title'] = 'Juan'\n",
    "nx_graph.nodes[5]['group'] = 3\n",
    "nx_graph.nodes[0]['title'] = 'Silvia'\n",
    "nx_graph.nodes[0]['group'] = 4\n",
    "nt = Network('500px', '500px', notebook=True)\n",
    "# populates the nodes and edges data structures\n",
    "nt.from_nx(nx_graph)\n",
    "nt.show('nx.html')"
   ]
  },
  {
   "cell_type": "markdown",
   "metadata": {},
   "source": [
    "## Ejercicio"
   ]
  },
  {
   "cell_type": "markdown",
   "metadata": {},
   "source": [
    "Crea una red y utiliza los atributos para modificar el aspecto."
   ]
  },
  {
   "cell_type": "code",
   "execution_count": null,
   "metadata": {},
   "outputs": [],
   "source": []
  }
 ],
 "metadata": {
  "colab": {
   "collapsed_sections": [
    "Nc4NzwUmXl2T",
    "ug4Ud-65Xl2a"
   ],
   "name": "Introducción a Networkx.ipynb",
   "provenance": []
  },
  "kernelspec": {
   "display_name": "Python 3 (ipykernel)",
   "language": "python",
   "name": "python3"
  },
  "language_info": {
   "codemirror_mode": {
    "name": "ipython",
    "version": 3
   },
   "file_extension": ".py",
   "mimetype": "text/x-python",
   "name": "python",
   "nbconvert_exporter": "python",
   "pygments_lexer": "ipython3",
   "version": "3.11.0"
  }
 },
 "nbformat": 4,
 "nbformat_minor": 4
}
