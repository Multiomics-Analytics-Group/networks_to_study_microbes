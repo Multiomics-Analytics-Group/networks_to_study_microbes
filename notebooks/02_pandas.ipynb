{
 "cells": [
  {
   "cell_type": "markdown",
   "metadata": {
    "id": "xBL66jqjYnwH"
   },
   "source": [
    "<img src=\"https://github.com/Multiomics-Analytics-Group/networks_to_study_microbes/blob/main/figures/cfb.png?raw=1\" width=\"300\">\n",
    "\n",
    "\n",
    "[![Open In Colab](https://colab.research.google.com/assets/colab-badge.svg)](https://colab.research.google.com/github/Multiomics-Analytics-Group/networks_to_study_microbes/blob/main/notebooks/02_pandas.ipynb)\n",
    "\n",
    "# Networks to Study Microbes\n"
   ]
  },
  {
   "cell_type": "markdown",
   "metadata": {
    "id": "totk0l2sYnwK"
   },
   "source": [
    "# Introducción a Pandas (Python Data Analysis Library)"
   ]
  },
  {
   "cell_type": "markdown",
   "metadata": {
    "id": "Lbx1BQ89YnwL"
   },
   "source": [
    "Pandas es una libreria que te permite trabajar con distintos tipos de datos:\n",
    "\n",
    "- Datos tabulares con columnas de tipo heterogeneo, como una hoja de cálculo de Excel\n",
    "- Datos de series de tiempo.\n",
    "- Cualquier tipo de dato observacional/estadístico."
   ]
  },
  {
   "cell_type": "markdown",
   "metadata": {
    "id": "afVLFCRvYnwM"
   },
   "source": [
    "## Objetivos"
   ]
  },
  {
   "cell_type": "markdown",
   "metadata": {
    "id": "GT5ltzILYnwM"
   },
   "source": [
    "- Concepto de tabla como data frames\n",
    "- Organizacion de una tabla: indice, columnas\n",
    "- Tipos de datos que se pueden manejar en un data frame\n",
    "- Aplicando estadísticas y agrupando\n",
    "- Modificando una tabla\n",
    "- Visualización\n",
    "- Leer/Escribir datos de/a un fichero"
   ]
  },
  {
   "cell_type": "code",
   "execution_count": 2,
   "metadata": {
    "id": "ZJu6E09mYnwN",
    "tags": []
   },
   "outputs": [],
   "source": [
    "import pandas as pd"
   ]
  },
  {
   "cell_type": "markdown",
   "metadata": {
    "id": "tGFgi4-MYnwS"
   },
   "source": [
    "## Crear un data frame"
   ]
  },
  {
   "cell_type": "code",
   "execution_count": null,
   "metadata": {
    "id": "DyNIfGlqYnwU"
   },
   "outputs": [],
   "source": [
    "df = pd.DataFrame({\n",
    "    'A': [2.23, 3.45, 4.5, 6.0],\n",
    "    'B': [1, 2, 3, 4],\n",
    "    'C': [\"test\", \"train\", \"test\", \"train\"]\n",
    "})"
   ]
  },
  {
   "cell_type": "code",
   "execution_count": null,
   "metadata": {
    "colab": {
     "base_uri": "https://localhost:8080/",
     "height": 173
    },
    "executionInfo": {
     "elapsed": 1290,
     "status": "ok",
     "timestamp": 1572836926436,
     "user": {
      "displayName": "Alberto Santos",
      "photoUrl": "https://lh3.googleusercontent.com/a-/AAuE7mBE9_MyDt9UP2q6XJJ3Tq__2Gpqyh1jWyOJL1xh=s64",
      "userId": "02765113856266690219"
     },
     "user_tz": 300
    },
    "id": "YikTONgXYnwY",
    "outputId": "008b8165-ebec-4246-c24f-df2dffa583cc"
   },
   "outputs": [
    {
     "data": {
      "text/html": [
       "<div>\n",
       "<style scoped>\n",
       "    .dataframe tbody tr th:only-of-type {\n",
       "        vertical-align: middle;\n",
       "    }\n",
       "\n",
       "    .dataframe tbody tr th {\n",
       "        vertical-align: top;\n",
       "    }\n",
       "\n",
       "    .dataframe thead th {\n",
       "        text-align: right;\n",
       "    }\n",
       "</style>\n",
       "<table border=\"1\" class=\"dataframe\">\n",
       "  <thead>\n",
       "    <tr style=\"text-align: right;\">\n",
       "      <th></th>\n",
       "      <th>A</th>\n",
       "      <th>B</th>\n",
       "      <th>C</th>\n",
       "    </tr>\n",
       "  </thead>\n",
       "  <tbody>\n",
       "    <tr>\n",
       "      <th>0</th>\n",
       "      <td>2.23</td>\n",
       "      <td>1</td>\n",
       "      <td>test</td>\n",
       "    </tr>\n",
       "    <tr>\n",
       "      <th>1</th>\n",
       "      <td>3.45</td>\n",
       "      <td>2</td>\n",
       "      <td>train</td>\n",
       "    </tr>\n",
       "    <tr>\n",
       "      <th>2</th>\n",
       "      <td>4.50</td>\n",
       "      <td>3</td>\n",
       "      <td>test</td>\n",
       "    </tr>\n",
       "    <tr>\n",
       "      <th>3</th>\n",
       "      <td>6.00</td>\n",
       "      <td>4</td>\n",
       "      <td>train</td>\n",
       "    </tr>\n",
       "  </tbody>\n",
       "</table>\n",
       "</div>"
      ],
      "text/plain": [
       "      A  B      C\n",
       "0  2.23  1   test\n",
       "1  3.45  2  train\n",
       "2  4.50  3   test\n",
       "3  6.00  4  train"
      ]
     },
     "execution_count": 3,
     "metadata": {
      "tags": []
     },
     "output_type": "execute_result"
    }
   ],
   "source": [
    "df"
   ]
  },
  {
   "cell_type": "code",
   "execution_count": null,
   "metadata": {},
   "outputs": [],
   "source": [
    "data = [\n",
    "    [2.23, 1, \"test\"],\n",
    "    [3.45, 2, \"train\"],\n",
    "    [4.5, 3, \"test\"],\n",
    "    [6.0, 4, \"train\"]\n",
    "]\n",
    "\n",
    "df = pd.DataFrame(data, columns=['A', 'B', 'C'])\n",
    "df"
   ]
  },
  {
   "cell_type": "markdown",
   "metadata": {},
   "source": [
    "### A partir de una `lista` de `diccionarios`"
   ]
  },
  {
   "cell_type": "code",
   "execution_count": null,
   "metadata": {},
   "outputs": [],
   "source": [
    "data = [\n",
    "    {'A': 2.23, 'B': 1, 'C': \"test\"},\n",
    "    {'A': 3.45, 'B': 2, 'C': \"train\"},\n",
    "    {'A': 4.5, 'B': 3, 'C': \"test\"},\n",
    "    {'A': 6.0, 'B': 4, 'C': \"train\"}\n",
    "]\n",
    "\n",
    "df = pd.DataFrame(data)\n",
    "df"
   ]
  },
  {
   "cell_type": "markdown",
   "metadata": {},
   "source": [
    "### Crear un `DataFrame` vacio"
   ]
  },
  {
   "cell_type": "code",
   "execution_count": null,
   "metadata": {},
   "outputs": [],
   "source": [
    "df = pd.DataFrame()\n",
    "df['A'] = [2.23, 3.45, 4.5, 6.0]\n",
    "df['B'] = [1, 2, 3, 4]\n",
    "df['C'] = [\"test\", \"train\", \"test\", \"train\"]\n",
    "\n",
    "df"
   ]
  },
  {
   "cell_type": "markdown",
   "metadata": {},
   "source": [
    "### Ejercicio\n",
    "\n",
    "Crea el siguiente DataFrame\n",
    "\n",
    "|  | Year | Product | Cost |\n",
    "| ---| :--: | :----:  | :--: |\n",
    "| 0  | 2015 | Apples  | 0.35 |\n",
    "| 1  | 2016 | Apples  | 0.45 |\n",
    "| 2  | 2015 | Bananas | 0.75 |\n",
    "| 3  | 2016 | Bananas | 1.10 |"
   ]
  },
  {
   "cell_type": "code",
   "execution_count": null,
   "metadata": {},
   "outputs": [],
   "source": []
  },
  {
   "cell_type": "markdown",
   "metadata": {
    "id": "OPaO4qHiYnyD"
   },
   "source": [
    "# Leer/Escribir Datos de/a un Fichero\n",
    "\n",
    "\n",
    "Pandas tiene varias funciones para leer datos en multiples formatos. La mayor parte de estas funciones comienzan con `read_`: \n",
    "\n",
    "| File Type | Function Name |\n",
    "| :----:    |  :---:  |\n",
    "| Excel | `pd.read_excel` |\n",
    "| CSV, TSV | `pd.read_csv` |\n",
    "| H5, HDF, HDF5 | `pd.read_hdf` |\n",
    "| JSON  | `pd.read_json` |\n",
    "| SQL | `pd.read_sql_table` |\n"
   ]
  },
  {
   "cell_type": "markdown",
   "metadata": {
    "id": "RtadV8CdYnyI"
   },
   "source": [
    "### Leyendo Datos\n",
    "\n",
    "Vamos a leer datos de GitHub. Para eso, vamos a GitHub, hacemos click en el dataset, y accedemos a la opcion Raw. Esta opcion habre los datos en modo text y nos permite copiar la URL directa al fichero y leerlo sin problemas.\n",
    "\n",
    "\n",
    "Por ejemplo, para acceder al fichero de Protein-protein Interactions de **Yu2008Science.tsv**: \n",
    "\n",
    "https://github.com/Multiomics-Analytics-Group/networks_to_study_microbes/tree/main/example_data/PPI-TranscriptomicData\n"
   ]
  },
  {
   "cell_type": "markdown",
   "metadata": {},
   "source": [
    "**Ficheros Comma Separated/Tab Separated (.csv, .tsv)**"
   ]
  },
  {
   "cell_type": "code",
   "execution_count": 14,
   "metadata": {
    "colab": {
     "base_uri": "https://localhost:8080/",
     "height": 204
    },
    "executionInfo": {
     "elapsed": 41243,
     "status": "ok",
     "timestamp": 1572836966730,
     "user": {
      "displayName": "Alberto Santos",
      "photoUrl": "https://lh3.googleusercontent.com/a-/AAuE7mBE9_MyDt9UP2q6XJJ3Tq__2Gpqyh1jWyOJL1xh=s64",
      "userId": "02765113856266690219"
     },
     "user_tz": 300
    },
    "id": "CUyW7tGRYnyK",
    "outputId": "cf800236-3fc0-402a-90c4-a9cdc141f658",
    "tags": []
   },
   "outputs": [
    {
     "data": {
      "text/html": [
       "<div>\n",
       "<style scoped>\n",
       "    .dataframe tbody tr th:only-of-type {\n",
       "        vertical-align: middle;\n",
       "    }\n",
       "\n",
       "    .dataframe tbody tr th {\n",
       "        vertical-align: top;\n",
       "    }\n",
       "\n",
       "    .dataframe thead th {\n",
       "        text-align: right;\n",
       "    }\n",
       "</style>\n",
       "<table border=\"1\" class=\"dataframe\">\n",
       "  <thead>\n",
       "    <tr style=\"text-align: right;\">\n",
       "      <th></th>\n",
       "      <th>SOURCE</th>\n",
       "      <th>TARGET</th>\n",
       "      <th>EVIDENCE</th>\n",
       "    </tr>\n",
       "  </thead>\n",
       "  <tbody>\n",
       "    <tr>\n",
       "      <th>0</th>\n",
       "      <td>YLR291C</td>\n",
       "      <td>YNL229C</td>\n",
       "      <td>CCSB-Y2H</td>\n",
       "    </tr>\n",
       "    <tr>\n",
       "      <th>1</th>\n",
       "      <td>YLR291C</td>\n",
       "      <td>YCR086W</td>\n",
       "      <td>CCSB-Y2H</td>\n",
       "    </tr>\n",
       "    <tr>\n",
       "      <th>2</th>\n",
       "      <td>YLR291C</td>\n",
       "      <td>YPR062W</td>\n",
       "      <td>CCSB-Y2H</td>\n",
       "    </tr>\n",
       "    <tr>\n",
       "      <th>3</th>\n",
       "      <td>YJL085W</td>\n",
       "      <td>YBR057C</td>\n",
       "      <td>CCSB-Y2H</td>\n",
       "    </tr>\n",
       "    <tr>\n",
       "      <th>4</th>\n",
       "      <td>YLR227C</td>\n",
       "      <td>YDR208W</td>\n",
       "      <td>CCSB-Y2H</td>\n",
       "    </tr>\n",
       "  </tbody>\n",
       "</table>\n",
       "</div>"
      ],
      "text/plain": [
       "    SOURCE   TARGET  EVIDENCE\n",
       "0  YLR291C  YNL229C  CCSB-Y2H\n",
       "1  YLR291C  YCR086W  CCSB-Y2H\n",
       "2  YLR291C  YPR062W  CCSB-Y2H\n",
       "3  YJL085W  YBR057C  CCSB-Y2H\n",
       "4  YLR227C  YDR208W  CCSB-Y2H"
      ]
     },
     "execution_count": 14,
     "metadata": {},
     "output_type": "execute_result"
    }
   ],
   "source": [
    "df = pd.read_csv(\"https://raw.githubusercontent.com/Multiomics-Analytics-Group/networks_to_study_microbes/main/example_data/PPI-TranscriptomicData/Yu2008Science.tsv\", sep='\\t')\n",
    "df.head()"
   ]
  },
  {
   "cell_type": "markdown",
   "metadata": {
    "id": "dKfAIbJEYnyO"
   },
   "source": [
    "**Ficheros Excel (.xls, .xlsx)**"
   ]
  },
  {
   "cell_type": "code",
   "execution_count": 7,
   "metadata": {
    "id": "LDAH9Hz4YnyO",
    "tags": []
   },
   "outputs": [],
   "source": [
    "#df = pd.read_excel(\"/content/drive/My Drive/Curso_Into_Bio_Networks/Archivos/PPI-TranscriptomicData/Yu2008Science.xls\", sheet_name='per-capita-electricity-consumption')"
   ]
  },
  {
   "cell_type": "markdown",
   "metadata": {
    "id": "XLbh3920YnyR"
   },
   "source": [
    "### Escribiendo Datos\n",
    "\n",
    "**Ficheros Comma Separated/Tab Separated (.csv, .tsv)**"
   ]
  },
  {
   "cell_type": "code",
   "execution_count": null,
   "metadata": {
    "id": "tY-Vy5QWYnyS"
   },
   "outputs": [],
   "source": [
    "#df.to_csv(\"/content/drive/My Drive/Curso_Into_Bio_Networks/Archivos/PPI-TranscriptomicData/test.tsv\", sep=',', index=False)"
   ]
  },
  {
   "cell_type": "markdown",
   "metadata": {
    "id": "TceoxBliYnyV"
   },
   "source": [
    "**Ficheros Excel (.xls, .xlsx)**"
   ]
  },
  {
   "cell_type": "code",
   "execution_count": null,
   "metadata": {
    "id": "H3WElpeBYnyW"
   },
   "outputs": [],
   "source": [
    "#df.to_excel(\"https://raw.githubusercontent.com/Multiomics-Analytics-Group/networks_to_study_microbes/main/example_data/PPI-TranscriptomicData/Yu2008Science.tsv\", sheet_name='ppi')"
   ]
  },
  {
   "cell_type": "markdown",
   "metadata": {},
   "source": [
    "## Accediendo a datos en Google Drive\n",
    "\n",
    "Puedes usar tu espacio en Google drive para acceder y almacenar datos. Sin embargo, debes montar el disco de Google Drive en Colab antes de poder utilizarlo siguiendo estos pasos:\n",
    "\n",
    "1. Ejecuta el siguiente codigo. Te proporcionara un link de autenticacion para que puedas acceder a tu Google Drive:"
   ]
  },
  {
   "cell_type": "code",
   "execution_count": null,
   "metadata": {
    "tags": []
   },
   "outputs": [],
   "source": [
    "from google.colab import drive\n",
    "drive.mount('/content/gdrive')"
   ]
  },
  {
   "cell_type": "markdown",
   "metadata": {},
   "source": [
    "2. Abre el enlace\n",
    "\n",
    "3. Elige tu Google account\n",
    "\n",
    "4. Permite el acceso a Google Drive Stream a tu Google Account\n",
    "\n",
    "5. Copia el codigo que te devuelve y pegalo en la caja de text como la que se muestra a continuacion.\n",
    "\n",
    "![image.png](https://i0.wp.com/neptune.ai/wp-content/uploads/2022/10/colab-code-copy.png?ssl=1)"
   ]
  },
  {
   "cell_type": "markdown",
   "metadata": {},
   "source": [
    "Una vez montado, podras visualizar tus ficheros en el panel de files de la izquierda y podras acceder a los ficheros como antes hemos mostrado:\n",
    "![image.png](https://i0.wp.com/neptune.ai/wp-content/uploads/2022/10/colab-drive.png?ssl=1)"
   ]
  },
  {
   "cell_type": "markdown",
   "metadata": {},
   "source": [
    "# Indexando"
   ]
  },
  {
   "cell_type": "code",
   "execution_count": 1,
   "metadata": {},
   "outputs": [],
   "source": [
    "df.index"
   ]
  },
  {
   "cell_type": "code",
   "execution_count": null,
   "metadata": {},
   "outputs": [],
   "source": [
    "df.index = [\"A\", \"B\", \"C\", \"D\"]"
   ]
  },
  {
   "cell_type": "code",
   "execution_count": null,
   "metadata": {},
   "outputs": [],
   "source": []
  },
  {
   "cell_type": "markdown",
   "metadata": {
    "id": "V3_jHoHKYnwb"
   },
   "source": [
    "### Propiedades de Estructura"
   ]
  },
  {
   "cell_type": "code",
   "execution_count": null,
   "metadata": {
    "colab": {
     "base_uri": "https://localhost:8080/",
     "height": 34
    },
    "executionInfo": {
     "elapsed": 1284,
     "status": "ok",
     "timestamp": 1572836926438,
     "user": {
      "displayName": "Alberto Santos",
      "photoUrl": "https://lh3.googleusercontent.com/a-/AAuE7mBE9_MyDt9UP2q6XJJ3Tq__2Gpqyh1jWyOJL1xh=s64",
      "userId": "02765113856266690219"
     },
     "user_tz": 300
    },
    "id": "ikPdc-uaYnwc",
    "outputId": "6bdcfcba-f4ce-4da9-867c-6d7b2a6edd6d"
   },
   "outputs": [
    {
     "data": {
      "text/plain": [
       "(4, 3)"
      ]
     },
     "execution_count": 4,
     "metadata": {
      "tags": []
     },
     "output_type": "execute_result"
    }
   ],
   "source": [
    "df.shape"
   ]
  },
  {
   "cell_type": "code",
   "execution_count": null,
   "metadata": {
    "colab": {
     "base_uri": "https://localhost:8080/",
     "height": 85
    },
    "executionInfo": {
     "elapsed": 1274,
     "status": "ok",
     "timestamp": 1572836926439,
     "user": {
      "displayName": "Alberto Santos",
      "photoUrl": "https://lh3.googleusercontent.com/a-/AAuE7mBE9_MyDt9UP2q6XJJ3Tq__2Gpqyh1jWyOJL1xh=s64",
      "userId": "02765113856266690219"
     },
     "user_tz": 300
    },
    "id": "5RushKbZYnwe",
    "outputId": "ac2b1fed-b841-4a03-e9a3-d26e5ad998ba"
   },
   "outputs": [
    {
     "data": {
      "text/plain": [
       "A    float64\n",
       "B      int64\n",
       "C     object\n",
       "dtype: object"
      ]
     },
     "execution_count": 5,
     "metadata": {
      "tags": []
     },
     "output_type": "execute_result"
    }
   ],
   "source": [
    "df.dtypes"
   ]
  },
  {
   "cell_type": "code",
   "execution_count": null,
   "metadata": {
    "colab": {
     "base_uri": "https://localhost:8080/",
     "height": 34
    },
    "executionInfo": {
     "elapsed": 1260,
     "status": "ok",
     "timestamp": 1572836926439,
     "user": {
      "displayName": "Alberto Santos",
      "photoUrl": "https://lh3.googleusercontent.com/a-/AAuE7mBE9_MyDt9UP2q6XJJ3Tq__2Gpqyh1jWyOJL1xh=s64",
      "userId": "02765113856266690219"
     },
     "user_tz": 300
    },
    "id": "qZ6etjpmYnwm",
    "outputId": "a0cb0870-e9d2-48c5-bb3d-98806780147f"
   },
   "outputs": [
    {
     "data": {
      "text/plain": [
       "RangeIndex(start=0, stop=4, step=1)"
      ]
     },
     "execution_count": 6,
     "metadata": {
      "tags": []
     },
     "output_type": "execute_result"
    }
   ],
   "source": [
    "df.index"
   ]
  },
  {
   "cell_type": "code",
   "execution_count": null,
   "metadata": {
    "colab": {
     "base_uri": "https://localhost:8080/",
     "height": 34
    },
    "executionInfo": {
     "elapsed": 1233,
     "status": "ok",
     "timestamp": 1572836926440,
     "user": {
      "displayName": "Alberto Santos",
      "photoUrl": "https://lh3.googleusercontent.com/a-/AAuE7mBE9_MyDt9UP2q6XJJ3Tq__2Gpqyh1jWyOJL1xh=s64",
      "userId": "02765113856266690219"
     },
     "user_tz": 300
    },
    "id": "XBMytuD3Ynwt",
    "outputId": "e7784615-6073-4ce1-a5e2-493c587bef2b"
   },
   "outputs": [
    {
     "data": {
      "text/plain": [
       "Index(['A', 'B', 'C'], dtype='object')"
      ]
     },
     "execution_count": 7,
     "metadata": {
      "tags": []
     },
     "output_type": "execute_result"
    }
   ],
   "source": [
    "df.columns"
   ]
  },
  {
   "cell_type": "code",
   "execution_count": null,
   "metadata": {
    "colab": {
     "base_uri": "https://localhost:8080/",
     "height": 102
    },
    "executionInfo": {
     "elapsed": 1184,
     "status": "ok",
     "timestamp": 1572836926441,
     "user": {
      "displayName": "Alberto Santos",
      "photoUrl": "https://lh3.googleusercontent.com/a-/AAuE7mBE9_MyDt9UP2q6XJJ3Tq__2Gpqyh1jWyOJL1xh=s64",
      "userId": "02765113856266690219"
     },
     "user_tz": 300
    },
    "id": "B-9IVeWFYnwx",
    "outputId": "9d00c76e-ab17-4739-d021-deed53a7677c"
   },
   "outputs": [
    {
     "data": {
      "text/plain": [
       "0    2.23\n",
       "1    3.45\n",
       "2    4.50\n",
       "3    6.00\n",
       "Name: A, dtype: float64"
      ]
     },
     "execution_count": 8,
     "metadata": {
      "tags": []
     },
     "output_type": "execute_result"
    }
   ],
   "source": [
    "df['A']"
   ]
  },
  {
   "cell_type": "markdown",
   "metadata": {
    "id": "qNNjE68jYnw0"
   },
   "source": [
    "### Inspeccionando Tablas"
   ]
  },
  {
   "cell_type": "code",
   "execution_count": null,
   "metadata": {
    "colab": {
     "base_uri": "https://localhost:8080/",
     "height": 173
    },
    "executionInfo": {
     "elapsed": 1177,
     "status": "ok",
     "timestamp": 1572836926442,
     "user": {
      "displayName": "Alberto Santos",
      "photoUrl": "https://lh3.googleusercontent.com/a-/AAuE7mBE9_MyDt9UP2q6XJJ3Tq__2Gpqyh1jWyOJL1xh=s64",
      "userId": "02765113856266690219"
     },
     "user_tz": 300
    },
    "id": "_s-VX9vmYnw3",
    "outputId": "afd98467-ec38-4240-a700-1d1fc0853cc0"
   },
   "outputs": [
    {
     "data": {
      "text/html": [
       "<div>\n",
       "<style scoped>\n",
       "    .dataframe tbody tr th:only-of-type {\n",
       "        vertical-align: middle;\n",
       "    }\n",
       "\n",
       "    .dataframe tbody tr th {\n",
       "        vertical-align: top;\n",
       "    }\n",
       "\n",
       "    .dataframe thead th {\n",
       "        text-align: right;\n",
       "    }\n",
       "</style>\n",
       "<table border=\"1\" class=\"dataframe\">\n",
       "  <thead>\n",
       "    <tr style=\"text-align: right;\">\n",
       "      <th></th>\n",
       "      <th>A</th>\n",
       "      <th>B</th>\n",
       "      <th>C</th>\n",
       "    </tr>\n",
       "  </thead>\n",
       "  <tbody>\n",
       "    <tr>\n",
       "      <th>0</th>\n",
       "      <td>2.23</td>\n",
       "      <td>1</td>\n",
       "      <td>test</td>\n",
       "    </tr>\n",
       "    <tr>\n",
       "      <th>1</th>\n",
       "      <td>3.45</td>\n",
       "      <td>2</td>\n",
       "      <td>train</td>\n",
       "    </tr>\n",
       "    <tr>\n",
       "      <th>2</th>\n",
       "      <td>4.50</td>\n",
       "      <td>3</td>\n",
       "      <td>test</td>\n",
       "    </tr>\n",
       "    <tr>\n",
       "      <th>3</th>\n",
       "      <td>6.00</td>\n",
       "      <td>4</td>\n",
       "      <td>train</td>\n",
       "    </tr>\n",
       "  </tbody>\n",
       "</table>\n",
       "</div>"
      ],
      "text/plain": [
       "      A  B      C\n",
       "0  2.23  1   test\n",
       "1  3.45  2  train\n",
       "2  4.50  3   test\n",
       "3  6.00  4  train"
      ]
     },
     "execution_count": 9,
     "metadata": {
      "tags": []
     },
     "output_type": "execute_result"
    }
   ],
   "source": [
    "df.head()"
   ]
  },
  {
   "cell_type": "code",
   "execution_count": null,
   "metadata": {
    "colab": {
     "base_uri": "https://localhost:8080/",
     "height": 142
    },
    "executionInfo": {
     "elapsed": 1169,
     "status": "ok",
     "timestamp": 1572836926444,
     "user": {
      "displayName": "Alberto Santos",
      "photoUrl": "https://lh3.googleusercontent.com/a-/AAuE7mBE9_MyDt9UP2q6XJJ3Tq__2Gpqyh1jWyOJL1xh=s64",
      "userId": "02765113856266690219"
     },
     "user_tz": 300
    },
    "id": "_uuCAzIUYnw8",
    "outputId": "498a8a72-5765-4977-acfc-6a477b28066c"
   },
   "outputs": [
    {
     "data": {
      "text/html": [
       "<div>\n",
       "<style scoped>\n",
       "    .dataframe tbody tr th:only-of-type {\n",
       "        vertical-align: middle;\n",
       "    }\n",
       "\n",
       "    .dataframe tbody tr th {\n",
       "        vertical-align: top;\n",
       "    }\n",
       "\n",
       "    .dataframe thead th {\n",
       "        text-align: right;\n",
       "    }\n",
       "</style>\n",
       "<table border=\"1\" class=\"dataframe\">\n",
       "  <thead>\n",
       "    <tr style=\"text-align: right;\">\n",
       "      <th></th>\n",
       "      <th>A</th>\n",
       "      <th>B</th>\n",
       "      <th>C</th>\n",
       "    </tr>\n",
       "  </thead>\n",
       "  <tbody>\n",
       "    <tr>\n",
       "      <th>1</th>\n",
       "      <td>3.45</td>\n",
       "      <td>2</td>\n",
       "      <td>train</td>\n",
       "    </tr>\n",
       "    <tr>\n",
       "      <th>2</th>\n",
       "      <td>4.50</td>\n",
       "      <td>3</td>\n",
       "      <td>test</td>\n",
       "    </tr>\n",
       "    <tr>\n",
       "      <th>3</th>\n",
       "      <td>6.00</td>\n",
       "      <td>4</td>\n",
       "      <td>train</td>\n",
       "    </tr>\n",
       "  </tbody>\n",
       "</table>\n",
       "</div>"
      ],
      "text/plain": [
       "      A  B      C\n",
       "1  3.45  2  train\n",
       "2  4.50  3   test\n",
       "3  6.00  4  train"
      ]
     },
     "execution_count": 10,
     "metadata": {
      "tags": []
     },
     "output_type": "execute_result"
    }
   ],
   "source": [
    "df.tail(3)"
   ]
  },
  {
   "cell_type": "code",
   "execution_count": null,
   "metadata": {
    "colab": {
     "base_uri": "https://localhost:8080/",
     "height": 297
    },
    "executionInfo": {
     "elapsed": 1353,
     "status": "ok",
     "timestamp": 1572836926635,
     "user": {
      "displayName": "Alberto Santos",
      "photoUrl": "https://lh3.googleusercontent.com/a-/AAuE7mBE9_MyDt9UP2q6XJJ3Tq__2Gpqyh1jWyOJL1xh=s64",
      "userId": "02765113856266690219"
     },
     "user_tz": 300
    },
    "id": "lqp_WXLTYnw-",
    "outputId": "a69345ff-e376-42ff-d114-427cb5ea41b3"
   },
   "outputs": [
    {
     "data": {
      "text/html": [
       "<div>\n",
       "<style scoped>\n",
       "    .dataframe tbody tr th:only-of-type {\n",
       "        vertical-align: middle;\n",
       "    }\n",
       "\n",
       "    .dataframe tbody tr th {\n",
       "        vertical-align: top;\n",
       "    }\n",
       "\n",
       "    .dataframe thead th {\n",
       "        text-align: right;\n",
       "    }\n",
       "</style>\n",
       "<table border=\"1\" class=\"dataframe\">\n",
       "  <thead>\n",
       "    <tr style=\"text-align: right;\">\n",
       "      <th></th>\n",
       "      <th>A</th>\n",
       "      <th>B</th>\n",
       "    </tr>\n",
       "  </thead>\n",
       "  <tbody>\n",
       "    <tr>\n",
       "      <th>count</th>\n",
       "      <td>4.000000</td>\n",
       "      <td>4.000000</td>\n",
       "    </tr>\n",
       "    <tr>\n",
       "      <th>mean</th>\n",
       "      <td>4.045000</td>\n",
       "      <td>2.500000</td>\n",
       "    </tr>\n",
       "    <tr>\n",
       "      <th>std</th>\n",
       "      <td>1.599719</td>\n",
       "      <td>1.290994</td>\n",
       "    </tr>\n",
       "    <tr>\n",
       "      <th>min</th>\n",
       "      <td>2.230000</td>\n",
       "      <td>1.000000</td>\n",
       "    </tr>\n",
       "    <tr>\n",
       "      <th>25%</th>\n",
       "      <td>3.145000</td>\n",
       "      <td>1.750000</td>\n",
       "    </tr>\n",
       "    <tr>\n",
       "      <th>50%</th>\n",
       "      <td>3.975000</td>\n",
       "      <td>2.500000</td>\n",
       "    </tr>\n",
       "    <tr>\n",
       "      <th>75%</th>\n",
       "      <td>4.875000</td>\n",
       "      <td>3.250000</td>\n",
       "    </tr>\n",
       "    <tr>\n",
       "      <th>max</th>\n",
       "      <td>6.000000</td>\n",
       "      <td>4.000000</td>\n",
       "    </tr>\n",
       "  </tbody>\n",
       "</table>\n",
       "</div>"
      ],
      "text/plain": [
       "              A         B\n",
       "count  4.000000  4.000000\n",
       "mean   4.045000  2.500000\n",
       "std    1.599719  1.290994\n",
       "min    2.230000  1.000000\n",
       "25%    3.145000  1.750000\n",
       "50%    3.975000  2.500000\n",
       "75%    4.875000  3.250000\n",
       "max    6.000000  4.000000"
      ]
     },
     "execution_count": 11,
     "metadata": {
      "tags": []
     },
     "output_type": "execute_result"
    }
   ],
   "source": [
    "df.describe()"
   ]
  },
  {
   "cell_type": "markdown",
   "metadata": {},
   "source": [
    "### Seleccion/Filtrado\n",
    "\n",
    "#### Seleccion\n",
    "Para seleccionar o filtrar podemos utilizar condiciones como veiamos con Bool:\n",
    "\n",
    "```python\n",
    "df['Column1'] > 0   # Devuelve una serie de `True` cuando es mayor que 0 y sino `Falso`\n",
    "```\n",
    "\n",
    "Para filtrar simplemente pon la condicion entre corchetes y filtrara aquellos que son `True`:\n",
    "\n",
    "```python\n",
    "select_rows = df[df['Column1'] > 0]\n",
    "```\n",
    "o\n",
    "```python\n",
    "select_rows = df.loc[df['Column1'] > 0]\n",
    "```"
   ]
  },
  {
   "cell_type": "code",
   "execution_count": null,
   "metadata": {},
   "outputs": [],
   "source": []
  },
  {
   "cell_type": "markdown",
   "metadata": {
    "id": "-stgoLqHYnxb"
   },
   "source": [
    "# Modificar Tabla"
   ]
  },
  {
   "cell_type": "markdown",
   "metadata": {
    "id": "JdN4iuzkYnxc"
   },
   "source": [
    "### Eliminar columna"
   ]
  },
  {
   "cell_type": "code",
   "execution_count": null,
   "metadata": {
    "id": "bMCsbiWHYnxc"
   },
   "outputs": [],
   "source": [
    "del df['B']"
   ]
  },
  {
   "cell_type": "code",
   "execution_count": null,
   "metadata": {
    "colab": {
     "base_uri": "https://localhost:8080/",
     "height": 173
    },
    "executionInfo": {
     "elapsed": 1242,
     "status": "ok",
     "timestamp": 1572836926643,
     "user": {
      "displayName": "Alberto Santos",
      "photoUrl": "https://lh3.googleusercontent.com/a-/AAuE7mBE9_MyDt9UP2q6XJJ3Tq__2Gpqyh1jWyOJL1xh=s64",
      "userId": "02765113856266690219"
     },
     "user_tz": 300
    },
    "id": "2BK7S2slYnxh",
    "outputId": "3ed394d4-f5ef-4394-a394-61076cefd8d4"
   },
   "outputs": [
    {
     "data": {
      "text/html": [
       "<div>\n",
       "<style scoped>\n",
       "    .dataframe tbody tr th:only-of-type {\n",
       "        vertical-align: middle;\n",
       "    }\n",
       "\n",
       "    .dataframe tbody tr th {\n",
       "        vertical-align: top;\n",
       "    }\n",
       "\n",
       "    .dataframe thead th {\n",
       "        text-align: right;\n",
       "    }\n",
       "</style>\n",
       "<table border=\"1\" class=\"dataframe\">\n",
       "  <thead>\n",
       "    <tr style=\"text-align: right;\">\n",
       "      <th></th>\n",
       "      <th>A</th>\n",
       "      <th>C</th>\n",
       "    </tr>\n",
       "  </thead>\n",
       "  <tbody>\n",
       "    <tr>\n",
       "      <th>0</th>\n",
       "      <td>2.23</td>\n",
       "      <td>test</td>\n",
       "    </tr>\n",
       "    <tr>\n",
       "      <th>1</th>\n",
       "      <td>3.45</td>\n",
       "      <td>train</td>\n",
       "    </tr>\n",
       "    <tr>\n",
       "      <th>2</th>\n",
       "      <td>4.50</td>\n",
       "      <td>test</td>\n",
       "    </tr>\n",
       "    <tr>\n",
       "      <th>3</th>\n",
       "      <td>6.00</td>\n",
       "      <td>train</td>\n",
       "    </tr>\n",
       "  </tbody>\n",
       "</table>\n",
       "</div>"
      ],
      "text/plain": [
       "      A      C\n",
       "0  2.23   test\n",
       "1  3.45  train\n",
       "2  4.50   test\n",
       "3  6.00  train"
      ]
     },
     "execution_count": 18,
     "metadata": {
      "tags": []
     },
     "output_type": "execute_result"
    }
   ],
   "source": [
    "df"
   ]
  },
  {
   "cell_type": "markdown",
   "metadata": {
    "id": "DKRXlfKyYnxm"
   },
   "source": [
    "### Crear una nueva columna"
   ]
  },
  {
   "cell_type": "code",
   "execution_count": null,
   "metadata": {
    "id": "aAupP9jOYnxm"
   },
   "outputs": [],
   "source": [
    "df['nueva'] = [3, 9, 27, 81]"
   ]
  },
  {
   "cell_type": "markdown",
   "metadata": {
    "id": "7gKWoIacYnxB"
   },
   "source": [
    "# Estadística\n",
    "\n",
    "```python\n",
    "df.describe() # describe las columnas numericas\n",
    "df['Column1'].describe() # describe una columna en particular\n",
    "df['Column1'].count()    # cuenta el numero de no NAs\n",
    "df['Column1'].nunique()  # counts el numbero de valores unicos\n",
    "df['Column1'].unique()   # devuelve una serie de valores unicos en la columna\n",
    "df['Column1'].value_counts()  # devuelve una lista de valores unicos y cuantas veces aparecen\n",
    "\n",
    "df['Column1'].max()\n",
    "df['Column1'].mean()\n",
    "df['Column2'][df['Column1'] == 'string'].sum()\n",
    "```\n"
   ]
  },
  {
   "cell_type": "markdown",
   "metadata": {
    "id": "eaTaBouEYnxC"
   },
   "source": [
    "#### Calcular la media de una columna"
   ]
  },
  {
   "cell_type": "code",
   "execution_count": null,
   "metadata": {
    "colab": {
     "base_uri": "https://localhost:8080/",
     "height": 34
    },
    "executionInfo": {
     "elapsed": 1314,
     "status": "ok",
     "timestamp": 1572836926637,
     "user": {
      "displayName": "Alberto Santos",
      "photoUrl": "https://lh3.googleusercontent.com/a-/AAuE7mBE9_MyDt9UP2q6XJJ3Tq__2Gpqyh1jWyOJL1xh=s64",
      "userId": "02765113856266690219"
     },
     "user_tz": 300
    },
    "id": "b00bxh80YnxD",
    "outputId": "7e9af464-e462-4c82-8720-91b4e8a74885"
   },
   "outputs": [
    {
     "data": {
      "text/plain": [
       "4.045"
      ]
     },
     "execution_count": 12,
     "metadata": {
      "tags": []
     },
     "output_type": "execute_result"
    }
   ],
   "source": [
    "df['A'].mean()"
   ]
  },
  {
   "cell_type": "markdown",
   "metadata": {
    "id": "tO-baabtYnxH"
   },
   "source": [
    "#### Calcular la suma de una columna"
   ]
  },
  {
   "cell_type": "code",
   "execution_count": null,
   "metadata": {
    "colab": {
     "base_uri": "https://localhost:8080/",
     "height": 34
    },
    "executionInfo": {
     "elapsed": 1300,
     "status": "ok",
     "timestamp": 1572836926638,
     "user": {
      "displayName": "Alberto Santos",
      "photoUrl": "https://lh3.googleusercontent.com/a-/AAuE7mBE9_MyDt9UP2q6XJJ3Tq__2Gpqyh1jWyOJL1xh=s64",
      "userId": "02765113856266690219"
     },
     "user_tz": 300
    },
    "id": "nADgxsQ6YnxJ",
    "outputId": "4dd9e749-8b02-483d-ce1d-4ed18ec7a9fb"
   },
   "outputs": [
    {
     "data": {
      "text/plain": [
       "16.18"
      ]
     },
     "execution_count": 13,
     "metadata": {
      "tags": []
     },
     "output_type": "execute_result"
    }
   ],
   "source": [
    "df['A'].sum()"
   ]
  },
  {
   "cell_type": "code",
   "execution_count": null,
   "metadata": {
    "colab": {
     "base_uri": "https://localhost:8080/",
     "height": 34
    },
    "executionInfo": {
     "elapsed": 1293,
     "status": "ok",
     "timestamp": 1572836926640,
     "user": {
      "displayName": "Alberto Santos",
      "photoUrl": "https://lh3.googleusercontent.com/a-/AAuE7mBE9_MyDt9UP2q6XJJ3Tq__2Gpqyh1jWyOJL1xh=s64",
      "userId": "02765113856266690219"
     },
     "user_tz": 300
    },
    "id": "j-Xz56TCYnxQ",
    "outputId": "5d8da345-fe1f-43cf-de3d-6b08c56ddc7a"
   },
   "outputs": [
    {
     "data": {
      "text/plain": [
       "2.23"
      ]
     },
     "execution_count": 14,
     "metadata": {
      "tags": []
     },
     "output_type": "execute_result"
    }
   ],
   "source": [
    "df['A'].min()"
   ]
  },
  {
   "cell_type": "code",
   "execution_count": null,
   "metadata": {
    "colab": {
     "base_uri": "https://localhost:8080/",
     "height": 34
    },
    "executionInfo": {
     "elapsed": 1283,
     "status": "ok",
     "timestamp": 1572836926641,
     "user": {
      "displayName": "Alberto Santos",
      "photoUrl": "https://lh3.googleusercontent.com/a-/AAuE7mBE9_MyDt9UP2q6XJJ3Tq__2Gpqyh1jWyOJL1xh=s64",
      "userId": "02765113856266690219"
     },
     "user_tz": 300
    },
    "id": "RvrKWkf5YnxU",
    "outputId": "1016d76f-2795-43f4-c9fe-f0d1721f5308"
   },
   "outputs": [
    {
     "data": {
      "text/plain": [
       "6.0"
      ]
     },
     "execution_count": 15,
     "metadata": {
      "tags": []
     },
     "output_type": "execute_result"
    }
   ],
   "source": [
    "df['A'].max()"
   ]
  },
  {
   "cell_type": "code",
   "execution_count": null,
   "metadata": {
    "colab": {
     "base_uri": "https://localhost:8080/",
     "height": 142
    },
    "executionInfo": {
     "elapsed": 1261,
     "status": "ok",
     "timestamp": 1572836926641,
     "user": {
      "displayName": "Alberto Santos",
      "photoUrl": "https://lh3.googleusercontent.com/a-/AAuE7mBE9_MyDt9UP2q6XJJ3Tq__2Gpqyh1jWyOJL1xh=s64",
      "userId": "02765113856266690219"
     },
     "user_tz": 300
    },
    "id": "V7Psc1IhYnxX",
    "outputId": "fabde318-40d8-4801-f2af-e755bd1aa8e0",
    "scrolled": true
   },
   "outputs": [
    {
     "data": {
      "text/html": [
       "<div>\n",
       "<style scoped>\n",
       "    .dataframe tbody tr th:only-of-type {\n",
       "        vertical-align: middle;\n",
       "    }\n",
       "\n",
       "    .dataframe tbody tr th {\n",
       "        vertical-align: top;\n",
       "    }\n",
       "\n",
       "    .dataframe thead th {\n",
       "        text-align: right;\n",
       "    }\n",
       "</style>\n",
       "<table border=\"1\" class=\"dataframe\">\n",
       "  <thead>\n",
       "    <tr style=\"text-align: right;\">\n",
       "      <th></th>\n",
       "      <th>A</th>\n",
       "      <th>B</th>\n",
       "    </tr>\n",
       "    <tr>\n",
       "      <th>C</th>\n",
       "      <th></th>\n",
       "      <th></th>\n",
       "    </tr>\n",
       "  </thead>\n",
       "  <tbody>\n",
       "    <tr>\n",
       "      <th>test</th>\n",
       "      <td>3.365</td>\n",
       "      <td>2</td>\n",
       "    </tr>\n",
       "    <tr>\n",
       "      <th>train</th>\n",
       "      <td>4.725</td>\n",
       "      <td>3</td>\n",
       "    </tr>\n",
       "  </tbody>\n",
       "</table>\n",
       "</div>"
      ],
      "text/plain": [
       "           A  B\n",
       "C              \n",
       "test   3.365  2\n",
       "train  4.725  3"
      ]
     },
     "execution_count": 16,
     "metadata": {
      "tags": []
     },
     "output_type": "execute_result"
    }
   ],
   "source": [
    "df.groupby(['C']).mean()"
   ]
  },
  {
   "cell_type": "markdown",
   "metadata": {},
   "source": [
    "# Ejercicio\n",
    "\n",
    "Haciendo uso de este dataset [covid-19 cases](\"https://opendata.ecdc.europa.eu/covid19/nationalcasedeath_eueea_daily_ei/csv/data.csv\")\n",
    "\n",
    "Responde a las siguientes preguntas."
   ]
  },
  {
   "cell_type": "markdown",
   "metadata": {},
   "source": [
    "1. Muestra las primeras y ultimas 5 lineas del dataset"
   ]
  },
  {
   "cell_type": "code",
   "execution_count": null,
   "metadata": {},
   "outputs": [],
   "source": []
  },
  {
   "cell_type": "markdown",
   "metadata": {},
   "source": [
    "2. Crea un nuevo dataset que tenga solo las columnas: date, population data, number of cases and deaths"
   ]
  },
  {
   "cell_type": "code",
   "execution_count": null,
   "metadata": {},
   "outputs": [],
   "source": []
  },
  {
   "cell_type": "markdown",
   "metadata": {},
   "source": [
    "3. Crea un nuevo dataset con: year, month, day, number of cases and deaths, para paises en Europa\n"
   ]
  },
  {
   "cell_type": "code",
   "execution_count": null,
   "metadata": {},
   "outputs": [],
   "source": []
  },
  {
   "cell_type": "markdown",
   "metadata": {},
   "source": [
    "4. Que pais tiene el mayor numero de muertes reportado?"
   ]
  },
  {
   "cell_type": "code",
   "execution_count": null,
   "metadata": {},
   "outputs": [],
   "source": []
  },
  {
   "cell_type": "markdown",
   "metadata": {},
   "source": [
    "5. Para cuantos paises hay datos en Europa?"
   ]
  },
  {
   "cell_type": "code",
   "execution_count": null,
   "metadata": {},
   "outputs": [],
   "source": []
  },
  {
   "cell_type": "markdown",
   "metadata": {},
   "source": [
    "# Missing Values\n",
    "\n",
    "| method | description\n",
    "| ---:  | :---- |\n",
    "**`isna()`** | devuelve True por cada NaN |\n",
    "**`notna()`** | devuelve False por cada NaN |\n",
    "**`dropna()`** | devuelve solo aquellas filas que no son NaNs |\n",
    "\n",
    "\n",
    "El caso de que el dataframe tenga missing values y necesitemos una matriz completa, podemos hacer uso de los siguientes metodos para imputar valores:\n",
    "\n",
    "| method | description |\n",
    "| ----: |  :---- |\n",
    "| **`fillna()`** | reemplaza NaNs con un valor dado |\n",
    "| **`ffill()`** | reemplaza NaNs el valor previo non-NaN |\n",
    "| **`bfill()`** | reemplaza NaNs con el siguiente valor non-NaN |\n",
    "| **`interpolate()`** | hace una interpolacion con los valores previos y siguientes |\n",
    "\n"
   ]
  },
  {
   "cell_type": "code",
   "execution_count": null,
   "metadata": {},
   "outputs": [],
   "source": [
    "df = pd.DataFrame({'time': [0.5, 1., 1.5, None, 2.5, 3., 3.5, None], 'value': [\n",
    "                    6, 4, 5, 8, None, 10, 11, None]})\n",
    "df"
   ]
  },
  {
   "cell_type": "code",
   "execution_count": null,
   "metadata": {},
   "outputs": [],
   "source": [
    "df[df['time'].isna()]"
   ]
  },
  {
   "cell_type": "code",
   "execution_count": null,
   "metadata": {},
   "outputs": [],
   "source": []
  },
  {
   "cell_type": "markdown",
   "metadata": {},
   "source": [
    "# Ejercicio"
   ]
  },
  {
   "cell_type": "markdown",
   "metadata": {},
   "source": [
    "1. A partir de este dataframe calcula el numero de missing values\n",
    "\n",
    "```python\n",
    "data = pd.DataFrame({'time': [0.5, 1., 1.5, None, 2.5, 3., 3.5, None], 'value': [\n",
    "                    6, 4, 5, 8, None, 10, 11, None]})\n",
    "```"
   ]
  },
  {
   "cell_type": "code",
   "execution_count": null,
   "metadata": {},
   "outputs": [],
   "source": []
  },
  {
   "cell_type": "markdown",
   "metadata": {},
   "source": [
    "2. Asigna el valor **0** en el caso de missing values en la columna **time**"
   ]
  },
  {
   "cell_type": "code",
   "execution_count": null,
   "metadata": {},
   "outputs": [],
   "source": []
  },
  {
   "cell_type": "markdown",
   "metadata": {},
   "source": [
    "3. Reemplaza los missing values en la columna **time** con los valores previos y los de la columna **value** con los siguientes."
   ]
  },
  {
   "cell_type": "code",
   "execution_count": null,
   "metadata": {},
   "outputs": [],
   "source": []
  },
  {
   "cell_type": "markdown",
   "metadata": {
    "id": "VvlJbGtYYnyY"
   },
   "source": [
    "## Más Recursos\n",
    "\n",
    "- Python Pandas: https://pandas.pydata.org/pandas-docs/stable/\n",
    "\n"
   ]
  }
 ],
 "metadata": {
  "colab": {
   "collapsed_sections": [],
   "name": "Introducción a Pandas.ipynb",
   "provenance": []
  },
  "kernelspec": {
   "display_name": "Python 3 (ipykernel)",
   "language": "python",
   "name": "python3"
  },
  "language_info": {
   "codemirror_mode": {
    "name": "ipython",
    "version": 3
   },
   "file_extension": ".py",
   "mimetype": "text/x-python",
   "name": "python",
   "nbconvert_exporter": "python",
   "pygments_lexer": "ipython3",
   "version": "3.11.0"
  }
 },
 "nbformat": 4,
 "nbformat_minor": 4
}
