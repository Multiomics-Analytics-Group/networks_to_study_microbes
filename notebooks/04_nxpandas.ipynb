{
 "cells": [
  {
   "cell_type": "markdown",
   "metadata": {
    "colab_type": "text",
    "id": "nynrCdZQGQDn"
   },
   "source": [
    "<img src=\"https://github.com/Multiomics-Analytics-Group/networks_to_study_microbes/blob/main/figures/cfb.png?raw=1\" width=\"300\">\n",
    "\n",
    "\n",
    "[![Open In Colab](https://colab.research.google.com/assets/colab-badge.svg)](https://colab.research.google.com/github/Multiomics-Analytics-Group/networks_to_study_microbes/blob/main/notebooks/04_nxpandas.ipynb)\n",
    "\n",
    "# Networks to Study Microbes\n"
   ]
  },
  {
   "cell_type": "markdown",
   "metadata": {
    "colab_type": "text",
    "id": "8u3bTjLHGQDu"
   },
   "source": [
    "# Práctica Pandas y Netwokx (Network Analysis de Phosphoproteomica)"
   ]
  },
  {
   "cell_type": "markdown",
   "metadata": {
    "colab_type": "text",
    "id": "lVmUErP6GQDy"
   },
   "source": [
    "Utilizando los datos del artículo: Francavilla et al 2017 vamos a crear una red de coexpresión de residuos fosforilados.\n",
    "\n",
    "Pasos:\n",
    "- Leer los datos haciendo uso de Pandas\n",
    "- Hacer un análisis exploratorio de los datos y filtrado\n",
    "- Calcular matriz de correlación\n",
    "- Convertir la matriz en una lista de ejes\n",
    "- Crear una red a partir de la lista de ejes\n",
    "- Visualizar red\n",
    "- Obtener nodos centrales\n",
    "- Exportar datos a Cytoscape"
   ]
  },
  {
   "cell_type": "markdown",
   "metadata": {
    "colab_type": "text",
    "id": "Z403kUhHLoER"
   },
   "source": [
    "## Cargando Datos Externos\n",
    "\n",
    "Cargamos los datos del articulo *Transcriptional and proteomic insights into the host response in fatal COVID-19 cases* para crear una red con Networkx. https://www.pnas.org/doi/10.1073/pnas.2018030117#supplementary-materials"
   ]
  },
  {
   "cell_type": "markdown",
   "metadata": {
    "colab_type": "text",
    "id": "RIi-OdmpLJZD"
   },
   "source": [
    "### Leer Datos con Pandas\n",
    "\n",
    "**Ficheros Comma Separated/Tab Separated (.csv, .tsv)**"
   ]
  },
  {
   "cell_type": "code",
   "execution_count": 4,
   "metadata": {
    "colab": {},
    "colab_type": "code",
    "id": "1pXdSOY9LJZP",
    "tags": []
   },
   "outputs": [],
   "source": [
    "import pandas as pd"
   ]
  },
  {
   "cell_type": "code",
   "execution_count": 6,
   "metadata": {
    "colab": {
     "base_uri": "https://localhost:8080/",
     "height": 206
    },
    "colab_type": "code",
    "executionInfo": {
     "elapsed": 1011,
     "status": "ok",
     "timestamp": 1572953778034,
     "user": {
      "displayName": "Alberto Santos",
      "photoUrl": "https://lh3.googleusercontent.com/a-/AAuE7mBE9_MyDt9UP2q6XJJ3Tq__2Gpqyh1jWyOJL1xh=s64",
      "userId": "02765113856266690219"
     },
     "user_tz": 300
    },
    "id": "XcWpGf3nLJZh",
    "outputId": "40deb882-dc88-4407-cf2d-a676bfe1e4b1",
    "tags": []
   },
   "outputs": [
    {
     "data": {
      "text/html": [
       "<div>\n",
       "<style scoped>\n",
       "    .dataframe tbody tr th:only-of-type {\n",
       "        vertical-align: middle;\n",
       "    }\n",
       "\n",
       "    .dataframe tbody tr th {\n",
       "        vertical-align: top;\n",
       "    }\n",
       "\n",
       "    .dataframe thead th {\n",
       "        text-align: right;\n",
       "    }\n",
       "</style>\n",
       "<table border=\"1\" class=\"dataframe\">\n",
       "  <thead>\n",
       "    <tr style=\"text-align: right;\">\n",
       "      <th></th>\n",
       "      <th>Category</th>\n",
       "      <th>Symbol</th>\n",
       "      <th>log2FoldChange</th>\n",
       "      <th>Pvalue</th>\n",
       "      <th>Padj</th>\n",
       "      <th>Name</th>\n",
       "      <th>Chromosome</th>\n",
       "    </tr>\n",
       "  </thead>\n",
       "  <tbody>\n",
       "    <tr>\n",
       "      <th>0</th>\n",
       "      <td>Antigen_Processing_and_Presentation</td>\n",
       "      <td>CD1A</td>\n",
       "      <td>-2.692900</td>\n",
       "      <td>3.582171e-03</td>\n",
       "      <td>0.020078</td>\n",
       "      <td>CD1a molecule</td>\n",
       "      <td>1</td>\n",
       "    </tr>\n",
       "    <tr>\n",
       "      <th>1</th>\n",
       "      <td>Antigen_Processing_and_Presentation</td>\n",
       "      <td>CD1C</td>\n",
       "      <td>-3.611340</td>\n",
       "      <td>6.640000e-06</td>\n",
       "      <td>0.000128</td>\n",
       "      <td>CD1c molecule</td>\n",
       "      <td>1</td>\n",
       "    </tr>\n",
       "    <tr>\n",
       "      <th>2</th>\n",
       "      <td>Antigen_Processing_and_Presentation</td>\n",
       "      <td>CD1E</td>\n",
       "      <td>-2.852514</td>\n",
       "      <td>7.838290e-04</td>\n",
       "      <td>0.006078</td>\n",
       "      <td>CD1e molecule</td>\n",
       "      <td>1</td>\n",
       "    </tr>\n",
       "    <tr>\n",
       "      <th>3</th>\n",
       "      <td>Antigen_Processing_and_Presentation</td>\n",
       "      <td>CIITA</td>\n",
       "      <td>-1.272361</td>\n",
       "      <td>2.349030e-04</td>\n",
       "      <td>0.002352</td>\n",
       "      <td>class II, major histocompatibility complex, tr...</td>\n",
       "      <td>16</td>\n",
       "    </tr>\n",
       "    <tr>\n",
       "      <th>4</th>\n",
       "      <td>Antigen_Processing_and_Presentation</td>\n",
       "      <td>CTSB</td>\n",
       "      <td>1.682332</td>\n",
       "      <td>7.640000e-07</td>\n",
       "      <td>0.000022</td>\n",
       "      <td>cathepsin B</td>\n",
       "      <td>8</td>\n",
       "    </tr>\n",
       "  </tbody>\n",
       "</table>\n",
       "</div>"
      ],
      "text/plain": [
       "                              Category Symbol  log2FoldChange        Pvalue  \\\n",
       "0  Antigen_Processing_and_Presentation   CD1A       -2.692900  3.582171e-03   \n",
       "1  Antigen_Processing_and_Presentation   CD1C       -3.611340  6.640000e-06   \n",
       "2  Antigen_Processing_and_Presentation   CD1E       -2.852514  7.838290e-04   \n",
       "3  Antigen_Processing_and_Presentation  CIITA       -1.272361  2.349030e-04   \n",
       "4  Antigen_Processing_and_Presentation   CTSB        1.682332  7.640000e-07   \n",
       "\n",
       "       Padj                                               Name Chromosome  \n",
       "0  0.020078                                      CD1a molecule          1  \n",
       "1  0.000128                                      CD1c molecule          1  \n",
       "2  0.006078                                      CD1e molecule          1  \n",
       "3  0.002352  class II, major histocompatibility complex, tr...         16  \n",
       "4  0.000022                                        cathepsin B          8  "
      ]
     },
     "execution_count": 6,
     "metadata": {},
     "output_type": "execute_result"
    }
   ],
   "source": [
    "df = pd.read_excel('https://raw.githubusercontent.com/Multiomics-Analytics-Group/networks_to_study_microbes/main/example_data/DEG/Wu2020.PNAS.xlsx')\n",
    "df.head()"
   ]
  },
  {
   "cell_type": "markdown",
   "metadata": {
    "colab_type": "text",
    "id": "KibIhlBFME7c"
   },
   "source": [
    "## Análisis Exploratorio"
   ]
  },
  {
   "cell_type": "markdown",
   "metadata": {
    "colab_type": "text",
    "id": "hc6-w3rhMNtN"
   },
   "source": [
    "**Accede a las 10 primeras filas**"
   ]
  },
  {
   "cell_type": "code",
   "execution_count": null,
   "metadata": {
    "colab": {},
    "colab_type": "code",
    "id": "c7Dui213MMBL"
   },
   "outputs": [],
   "source": []
  },
  {
   "cell_type": "markdown",
   "metadata": {
    "colab_type": "text",
    "id": "9X-NA333MVVv"
   },
   "source": [
    "**Accede a las 10 últimas filas**"
   ]
  },
  {
   "cell_type": "code",
   "execution_count": null,
   "metadata": {
    "colab": {},
    "colab_type": "code",
    "id": "XBw4E2kOMduT"
   },
   "outputs": [],
   "source": []
  },
  {
   "cell_type": "markdown",
   "metadata": {
    "colab_type": "text",
    "id": "_a2XW0quMeO_"
   },
   "source": [
    "**Muestra estadísticas de las columnas**"
   ]
  },
  {
   "cell_type": "code",
   "execution_count": null,
   "metadata": {
    "colab": {},
    "colab_type": "code",
    "id": "RmUaZ3tdMkrh"
   },
   "outputs": [],
   "source": []
  },
  {
   "cell_type": "markdown",
   "metadata": {
    "colab_type": "text",
    "id": "VE9KUxH3MlKl"
   },
   "source": [
    "**Muestra las columnas**"
   ]
  },
  {
   "cell_type": "code",
   "execution_count": null,
   "metadata": {
    "colab": {},
    "colab_type": "code",
    "id": "z8TSoNc8MqoT"
   },
   "outputs": [],
   "source": []
  },
  {
   "cell_type": "markdown",
   "metadata": {
    "colab_type": "text",
    "id": "Rd7Z5nF1NV9S"
   },
   "source": [
    "**Elimina todas las columnas excepto: Symbol, log2FoldChange, Padj, Name**\n",
    "\n",
    "Utiliza el método **drop** https://pandas.pydata.org/pandas-docs/stable/reference/api/pandas.DataFrame.drop.html"
   ]
  },
  {
   "cell_type": "code",
   "execution_count": null,
   "metadata": {
    "colab": {},
    "colab_type": "code",
    "id": "g1Fiav7BNi8P"
   },
   "outputs": [],
   "source": []
  },
  {
   "cell_type": "markdown",
   "metadata": {
    "colab_type": "text",
    "id": "8KFtaY-PNqSA"
   },
   "source": [
    "## Matriz de Correlación\n"
   ]
  },
  {
   "cell_type": "markdown",
   "metadata": {
    "colab_type": "text",
    "id": "8uPhf6XETrVO"
   },
   "source": [
    "**Utiliza la columna Symbol como índice de la matriz**\n",
    "\n",
    "Utilizar el metodo **set_index**"
   ]
  },
  {
   "cell_type": "code",
   "execution_count": null,
   "metadata": {
    "colab": {},
    "colab_type": "code",
    "id": "dn-XT1uyNzBO"
   },
   "outputs": [],
   "source": []
  },
  {
   "cell_type": "markdown",
   "metadata": {
    "colab_type": "text",
    "id": "FGi28koyT21Y"
   },
   "source": [
    "**Calcula la matriz de correlación (Gene-Gene)**\n",
    "\n",
    "Haciendo uso del método **corr** de Pandas https://pandas.pydata.org/pandas-docs/stable/reference/api/pandas.DataFrame.corr.html"
   ]
  },
  {
   "cell_type": "code",
   "execution_count": null,
   "metadata": {
    "colab": {},
    "colab_type": "code",
    "id": "Ckd2-Q_8T3Xj"
   },
   "outputs": [],
   "source": []
  },
  {
   "cell_type": "markdown",
   "metadata": {
    "colab_type": "text",
    "id": "pRPR1g8XOeg-"
   },
   "source": [
    "## Convertir la matriz a lista de ejes\n",
    "\n",
    "Haciendo uso del método **stack** de pandas convierte la matriz en una lista de ejes https://pandas.pydata.org/pandas-docs/stable/reference/api/pandas.DataFrame.stack.html"
   ]
  },
  {
   "cell_type": "code",
   "execution_count": null,
   "metadata": {
    "colab": {},
    "colab_type": "code",
    "id": "tVwWj6CTOsFR"
   },
   "outputs": [],
   "source": [
    "corr.index.name = None\n",
    "edges = corr.stack().reset_index()"
   ]
  },
  {
   "cell_type": "markdown",
   "metadata": {
    "colab_type": "text",
    "id": "1J0EEmidP4Ev"
   },
   "source": [
    "**Cambia el nombre de las columnas a: source, target, weight**"
   ]
  },
  {
   "cell_type": "code",
   "execution_count": null,
   "metadata": {
    "colab": {},
    "colab_type": "code",
    "id": "wYDCVO03P_Ti"
   },
   "outputs": [],
   "source": []
  },
  {
   "cell_type": "markdown",
   "metadata": {
    "colab_type": "text",
    "id": "-xhau0CMVaGG"
   },
   "source": [
    "**Filtra todas aquellas correlaciones por debajo de 0.5 o iguales a 1 (valor absoluto)**\n",
    "\n",
    "Para calcular el valor absoluto deberas importar la libraria **numpy** y utilizar el método **absolute**  https://docs.scipy.org/doc/numpy-1.15.1/reference/generated/numpy.absolute.html\n"
   ]
  },
  {
   "cell_type": "code",
   "execution_count": null,
   "metadata": {
    "colab": {},
    "colab_type": "code",
    "id": "zpCKk3_aVu2q"
   },
   "outputs": [],
   "source": []
  },
  {
   "cell_type": "markdown",
   "metadata": {
    "colab_type": "text",
    "id": "NAmgd_WJOxI8"
   },
   "source": [
    "## Crear red de coexpresión\n",
    "\n",
    "Recuerda mantener el atributo \"weight\"!"
   ]
  },
  {
   "cell_type": "code",
   "execution_count": null,
   "metadata": {
    "colab": {},
    "colab_type": "code",
    "id": "s9B8YnT2GQD9"
   },
   "outputs": [],
   "source": [
    "import networkx as nx"
   ]
  },
  {
   "cell_type": "code",
   "execution_count": null,
   "metadata": {
    "colab": {},
    "colab_type": "code",
    "id": "UN5PX0kwGQEE"
   },
   "outputs": [],
   "source": []
  },
  {
   "cell_type": "markdown",
   "metadata": {
    "colab_type": "text",
    "id": "w9MrThjfGQEi"
   },
   "source": [
    "**Obten número de nodos**"
   ]
  },
  {
   "cell_type": "code",
   "execution_count": null,
   "metadata": {
    "colab": {
     "base_uri": "https://localhost:8080/",
     "height": 34
    },
    "colab_type": "code",
    "executionInfo": {
     "elapsed": 582,
     "status": "ok",
     "timestamp": 1572953960926,
     "user": {
      "displayName": "Alberto Santos",
      "photoUrl": "https://lh3.googleusercontent.com/a-/AAuE7mBE9_MyDt9UP2q6XJJ3Tq__2Gpqyh1jWyOJL1xh=s64",
      "userId": "02765113856266690219"
     },
     "user_tz": 300
    },
    "id": "ZUwZq8VlGQEk",
    "outputId": "d55d43d2-b36e-4340-a779-0f6d70fc57c2"
   },
   "outputs": [
    {
     "data": {
      "text/plain": [
       "790"
      ]
     },
     "execution_count": 64,
     "metadata": {
      "tags": []
     },
     "output_type": "execute_result"
    }
   ],
   "source": []
  },
  {
   "cell_type": "markdown",
   "metadata": {
    "colab_type": "text",
    "id": "iY0gSgB7Qarh"
   },
   "source": [
    "**Obten número de ejes**"
   ]
  },
  {
   "cell_type": "code",
   "execution_count": null,
   "metadata": {
    "colab": {
     "base_uri": "https://localhost:8080/",
     "height": 34
    },
    "colab_type": "code",
    "executionInfo": {
     "elapsed": 584,
     "status": "ok",
     "timestamp": 1572953964093,
     "user": {
      "displayName": "Alberto Santos",
      "photoUrl": "https://lh3.googleusercontent.com/a-/AAuE7mBE9_MyDt9UP2q6XJJ3Tq__2Gpqyh1jWyOJL1xh=s64",
      "userId": "02765113856266690219"
     },
     "user_tz": 300
    },
    "id": "Nn5XoxX0Qar1",
    "outputId": "179480a9-4ba3-40b5-de41-5884995b2a89"
   },
   "outputs": [
    {
     "data": {
      "text/plain": [
       "257457"
      ]
     },
     "execution_count": 65,
     "metadata": {
      "tags": []
     },
     "output_type": "execute_result"
    }
   ],
   "source": []
  },
  {
   "cell_type": "markdown",
   "metadata": {
    "colab_type": "text",
    "id": "kde4f9WpRVLA"
   },
   "source": [
    "**Obten degree de los nodos**"
   ]
  },
  {
   "cell_type": "code",
   "execution_count": null,
   "metadata": {
    "colab": {},
    "colab_type": "code",
    "id": "M6zvht7hRVbd"
   },
   "outputs": [],
   "source": []
  },
  {
   "cell_type": "markdown",
   "metadata": {
    "colab_type": "text",
    "id": "V70G1Rm9GQEM"
   },
   "source": [
    "## Visualizar red"
   ]
  },
  {
   "cell_type": "markdown",
   "metadata": {
    "colab_type": "text",
    "id": "HlYXsYeuGQEN"
   },
   "source": [
    "**Utiliza varios layout para visualizar la red**"
   ]
  },
  {
   "cell_type": "code",
   "execution_count": null,
   "metadata": {
    "colab": {},
    "colab_type": "code",
    "id": "eETvi92wGQEP"
   },
   "outputs": [],
   "source": []
  },
  {
   "cell_type": "markdown",
   "metadata": {
    "colab_type": "text",
    "id": "E-jau0F7GQEX"
   },
   "source": [
    "**Visualiza los nombres de los nodos**"
   ]
  },
  {
   "cell_type": "code",
   "execution_count": null,
   "metadata": {
    "colab": {},
    "colab_type": "code",
    "id": "em7hvHw2Pcw4"
   },
   "outputs": [],
   "source": []
  },
  {
   "cell_type": "markdown",
   "metadata": {
    "colab_type": "text",
    "id": "pIvCnms-PfXV"
   },
   "source": [
    "**Cambia el color de los nodos e incluye color en los ejes**\n",
    "\n",
    "Visita esta página para ver un ejemplo de cómo dar color a la red: https://networkx.github.io/documentation/networkx-1.9/examples/drawing/labels_and_colors.html"
   ]
  },
  {
   "cell_type": "code",
   "execution_count": null,
   "metadata": {
    "colab": {},
    "colab_type": "code",
    "id": "q6ZChqkQGQEc"
   },
   "outputs": [],
   "source": []
  },
  {
   "cell_type": "markdown",
   "metadata": {
    "colab_type": "text",
    "id": "s5rC2Q9zGQEw"
   },
   "source": [
    "## Nodos Centrales\n",
    "\n",
    "Utiliza algunas de la funciones que provee Networkx para calcular centralidad en la red (https://networkx.github.io/documentation/stable/reference/algorithms/centrality.html). \n",
    "Centralidad es una forma de priorizar nodos en una red basado en el número de conexiones, topología o flujo de comunicación (https://es.wikipedia.org/wiki/Centralidad) "
   ]
  },
  {
   "cell_type": "code",
   "execution_count": null,
   "metadata": {
    "colab": {},
    "colab_type": "code",
    "id": "9-Rz0yBaRKBz"
   },
   "outputs": [],
   "source": []
  },
  {
   "cell_type": "markdown",
   "metadata": {
    "colab_type": "text",
    "id": "V4jU-w6ufmJu"
   },
   "source": [
    "## Exportar la Red a Cytoscape\n",
    "\n",
    "Networkx permite exportar la red a un formato que es compatible con Cytoscape (Graph Modeling Language, .gml)"
   ]
  },
  {
   "cell_type": "code",
   "execution_count": null,
   "metadata": {},
   "outputs": [],
   "source": [
    "from google.colab import drive\n",
    "drive.mount('/content/gdrive')"
   ]
  },
  {
   "cell_type": "code",
   "execution_count": null,
   "metadata": {
    "colab": {},
    "colab_type": "code",
    "id": "KvuzaxDTf_gi"
   },
   "outputs": [],
   "source": [
    "nx.write_gml(G, \"/content/drive/My Drive/correlation_network.gml\")"
   ]
  }
 ],
 "metadata": {
  "colab": {
   "collapsed_sections": [],
   "name": "Pandas Networkx.ipynb",
   "provenance": []
  },
  "kernelspec": {
   "display_name": "Python 3 (ipykernel)",
   "language": "python",
   "name": "python3"
  },
  "language_info": {
   "codemirror_mode": {
    "name": "ipython",
    "version": 3
   },
   "file_extension": ".py",
   "mimetype": "text/x-python",
   "name": "python",
   "nbconvert_exporter": "python",
   "pygments_lexer": "ipython3",
   "version": "3.11.0"
  }
 },
 "nbformat": 4,
 "nbformat_minor": 4
}
